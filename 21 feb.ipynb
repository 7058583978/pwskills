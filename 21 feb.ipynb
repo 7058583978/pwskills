{
 "cells": [
  {
   "cell_type": "code",
   "execution_count": null,
   "id": "47b4b27e-b142-4a71-8bc8-66921255f9cb",
   "metadata": {},
   "outputs": [],
   "source": [
    "Q1. What is Web Scraping? Why is it Used? Give three areas where Web Scraping is used to get data."
   ]
  },
  {
   "cell_type": "code",
   "execution_count": null,
   "id": "06788f1c-da97-4f0c-8695-5542b76dc0ab",
   "metadata": {},
   "outputs": [],
   "source": [
    "ans]web scrapping is a process where we obtain data from websites using programms\n",
    "when client asked to obtain data from websites insted giving it then we can use web scrapping for collecting rating,reviews\n",
    "we can use web scrappimg in following areas\n",
    "1.obtain data from ecommerce websites\n",
    "2.digital marketing\n",
    "3.banking sector"
   ]
  },
  {
   "cell_type": "code",
   "execution_count": null,
   "id": "50fa45ba-1182-47f2-b11a-41bb463ac39b",
   "metadata": {},
   "outputs": [],
   "source": [
    "Q2. What are the different methods used for Web Scraping?"
   ]
  },
  {
   "cell_type": "code",
   "execution_count": null,
   "id": "23bc19ac-b457-4469-98fb-c0b276e0cb70",
   "metadata": {},
   "outputs": [],
   "source": [
    "ans]\n",
    "1]HTML Parsing\n",
    "HTML parsing involves the use of JavaScript to target a linear or nested HTML page. \n",
    "It is a powerful and fast method for extracting text and links (e.g. a nested link or email address), scraping screens and pulling resources.\n",
    "\n",
    "2]DOM Parsing\n",
    "The Document Object Model (DOM) defines the structure, style and content of an XML file.\n",
    "Scrapers typically use a DOM parser to view the structure of web pages in depth. DOM parsers can be used to access the nodes that contain \n",
    "information and scrape the web page with tools like XPath. For dynamically generated content, scrapers can embed web browsers like Firefox\n",
    "and Internet Explorer to extract whole web pages (or parts of them).\n",
    "\n",
    "3]Vertical Aggregation\n",
    "Companies that use extensive computing power can create vertical aggregation platforms to target particular verticals.\n",
    "These are data harvesting platforms that can be run on the cloud and are used to automatically generate and monitor bots \n",
    "for certain verticals with minimal human intervention. Bots are generated according to the information required to each vertical,\n",
    "and their efficiency is determined by the quality of data they extract.\n",
    "\n",
    "4]XPath\n",
    "XPath is short for XML Path Language, which is a query language for XML documents. \n",
    "XML documents have tree-like structures, so scrapers can use XPath to navigate through them by selecting nodes according \n",
    "to various parameters. A scraper may combine DOM parsing with XPath to extract whole web pages and publish them on a destination site.\n",
    "\n",
    "5]Google Sheets\n",
    "Google Sheets is a popular tool for data scraping. Scarpers can use the IMPORTXML function \n",
    "in Sheets to scrape from a website, which is useful if they want to extract a specific pattern or data from the website.\n",
    "This command also makes it possible to check if a website can be scraped or is protected."
   ]
  },
  {
   "cell_type": "code",
   "execution_count": null,
   "id": "4eb960ee-1773-4559-8677-d1979afd01b4",
   "metadata": {},
   "outputs": [],
   "source": [
    "Q3. What is Beautiful Soup? Why is it used?"
   ]
  },
  {
   "cell_type": "code",
   "execution_count": null,
   "id": "7e53ca02-da51-41d4-896a-fd143a5e95cc",
   "metadata": {},
   "outputs": [],
   "source": [
    "ans]beautifull soap is pythonic library used in web scrapping\n",
    "beautifull soap converts the complex html file into simple readable python objects"
   ]
  },
  {
   "cell_type": "code",
   "execution_count": null,
   "id": "7381eaa2-0464-444b-bc65-920bbaa264b5",
   "metadata": {},
   "outputs": [],
   "source": [
    "Q4. Why is flask used in this Web Scraping project?"
   ]
  },
  {
   "cell_type": "code",
   "execution_count": null,
   "id": "8afb39b1-0a2d-490d-bd35-5d0a935f12cf",
   "metadata": {},
   "outputs": [],
   "source": [
    "ans] because we need to create a web page where we can set a option for search and all the data stord in csv file"
   ]
  },
  {
   "cell_type": "code",
   "execution_count": null,
   "id": "4bd2fb72-2814-4c1f-bed8-b6466d71f5d8",
   "metadata": {},
   "outputs": [],
   "source": [
    "Q5. Write the names of AWS services used in this project. Also, explain the use of each service."
   ]
  },
  {
   "cell_type": "code",
   "execution_count": null,
   "id": "426eb67a-0dde-46b2-93f7-ce327a5a4096",
   "metadata": {},
   "outputs": [],
   "source": [
    "ans]\n",
    "1.code pipeline :AWS CodePipeline is a continuous delivery service you can use to model, \n",
    "visualize, and automate the steps required to release your software. You can quickly model \n",
    "and configure the different stages of a software release process.\n",
    " \n",
    "2.beanstack : it provides a secondary memory for code storage and take code through codepipeline so that it can prove you free access\n",
    "can anyone use the service"
   ]
  }
 ],
 "metadata": {
  "kernelspec": {
   "display_name": "Python 3 (ipykernel)",
   "language": "python",
   "name": "python3"
  },
  "language_info": {
   "codemirror_mode": {
    "name": "ipython",
    "version": 3
   },
   "file_extension": ".py",
   "mimetype": "text/x-python",
   "name": "python",
   "nbconvert_exporter": "python",
   "pygments_lexer": "ipython3",
   "version": "3.10.8"
  }
 },
 "nbformat": 4,
 "nbformat_minor": 5
}
