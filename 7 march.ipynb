{
 "cells": [
  {
   "cell_type": "code",
   "execution_count": null,
   "id": "87585199-1fa2-47bd-9c28-c929b97d3359",
   "metadata": {},
   "outputs": [],
   "source": [
    "Q1. What are the three measures of central tendency?"
   ]
  },
  {
   "cell_type": "code",
   "execution_count": null,
   "id": "daf90635-c352-4628-8c9e-faa40debbd5d",
   "metadata": {},
   "outputs": [],
   "source": [
    "ans]there are three types of measure of central tendancy\n",
    "1.mean:to calcutate the average of data given eg. data = [10,20,30,40,50,60,70,80,90,100] mean = 550/10 = 55\n",
    "\n",
    "2.mode : to identify the maximum frequency occuring data.\n",
    "mode helps us to analyse the categorical data where we can fill the missing data \n",
    "\n",
    "3.median : median defines the data which devide given dataset into two equal parts.\n",
    "we can use median in case any outliers are present in dataset."
   ]
  },
  {
   "cell_type": "code",
   "execution_count": null,
   "id": "417196e7-636f-4a7c-a417-027eee88a385",
   "metadata": {},
   "outputs": [],
   "source": [
    "Q2. What is the difference between the mean, median, and mode? How are they used to measure the\n",
    "central tendency of a dataset?"
   ]
  },
  {
   "cell_type": "code",
   "execution_count": null,
   "id": "c05e00eb-3cae-4d21-ae6c-24ea25dca18d",
   "metadata": {},
   "outputs": [],
   "source": [
    "1.mean:to calcutate the average of data given eg. data = [10,20,30,40,50,60,70,80,90,100] mean = 550/10 = 55\n",
    "\n",
    "2.mode : to identify the maximum frequency occuring data.\n",
    "mode helps us to analyse the categorical data where we can fill the missing data \n",
    "eg. data=[1,2,2,3,3,3,4,5,6,7,8,9,9,9,9]\n",
    "so in above data we see that number of times repetation takes place and we selects a number which repeted maximum times as mode\n",
    "\n",
    "3.median : median defines the data which devide given dataset into two equal parts.\n",
    "we can use median in case any outliers are present in dataset.\n",
    "eg.data=[1,2,2,3,3,3,4,5,6,7,8,9,9,9,9]\n",
    "in order to median we have to count the number of elements present so in above data n = 15 and n/2 = 7.5 hence median will be\n",
    "element coming at 8th place which is 5"
   ]
  },
  {
   "cell_type": "code",
   "execution_count": null,
   "id": "fded59fd-17c8-4ba3-8191-625db010c865",
   "metadata": {},
   "outputs": [],
   "source": [
    "Q3. Measure the three measures of central tendency for the given height data:\n",
    "[178,177,176,177,178.2,178,175,179,180,175,178.9,176.2,177,172.5,178,176.5]"
   ]
  },
  {
   "cell_type": "code",
   "execution_count": 31,
   "id": "6cfeac63-0784-4ab9-a0ca-883ba153ec02",
   "metadata": {},
   "outputs": [],
   "source": [
    "import pandas as pd\n",
    "import numpy as np"
   ]
  },
  {
   "cell_type": "code",
   "execution_count": 11,
   "id": "2f3b2bb4-7194-4e9e-b280-5011753bb3fb",
   "metadata": {},
   "outputs": [],
   "source": [
    "height = pd.DataFrame({\"height\":[178,177,176,177,178.2,178,175,179,180,175,178.9,176.2,177,172.5,178,176.5]})"
   ]
  },
  {
   "cell_type": "code",
   "execution_count": 20,
   "id": "c7f4cc0b-3765-48e3-abb8-4484c8ee6f59",
   "metadata": {},
   "outputs": [
    {
     "data": {
      "text/plain": [
       "height    177.01875\n",
       "dtype: float64"
      ]
     },
     "execution_count": 20,
     "metadata": {},
     "output_type": "execute_result"
    }
   ],
   "source": [
    "height.mean(axis = 0)"
   ]
  },
  {
   "cell_type": "code",
   "execution_count": 21,
   "id": "e838172b-98b2-4ec2-88f3-2b50adeca209",
   "metadata": {},
   "outputs": [
    {
     "data": {
      "text/html": [
       "<div>\n",
       "<style scoped>\n",
       "    .dataframe tbody tr th:only-of-type {\n",
       "        vertical-align: middle;\n",
       "    }\n",
       "\n",
       "    .dataframe tbody tr th {\n",
       "        vertical-align: top;\n",
       "    }\n",
       "\n",
       "    .dataframe thead th {\n",
       "        text-align: right;\n",
       "    }\n",
       "</style>\n",
       "<table border=\"1\" class=\"dataframe\">\n",
       "  <thead>\n",
       "    <tr style=\"text-align: right;\">\n",
       "      <th></th>\n",
       "      <th>height</th>\n",
       "    </tr>\n",
       "  </thead>\n",
       "  <tbody>\n",
       "    <tr>\n",
       "      <th>0</th>\n",
       "      <td>177.0</td>\n",
       "    </tr>\n",
       "    <tr>\n",
       "      <th>1</th>\n",
       "      <td>178.0</td>\n",
       "    </tr>\n",
       "  </tbody>\n",
       "</table>\n",
       "</div>"
      ],
      "text/plain": [
       "   height\n",
       "0   177.0\n",
       "1   178.0"
      ]
     },
     "execution_count": 21,
     "metadata": {},
     "output_type": "execute_result"
    }
   ],
   "source": [
    "height.mode(axis = 0)"
   ]
  },
  {
   "cell_type": "code",
   "execution_count": 22,
   "id": "83672fde-a332-49a1-b404-997ce80ec308",
   "metadata": {},
   "outputs": [
    {
     "data": {
      "text/plain": [
       "height    177.0\n",
       "dtype: float64"
      ]
     },
     "execution_count": 22,
     "metadata": {},
     "output_type": "execute_result"
    }
   ],
   "source": [
    "height.median(axis = 0)"
   ]
  },
  {
   "cell_type": "code",
   "execution_count": null,
   "id": "131984dc-2b3d-4d24-b9ee-a4275cd386c2",
   "metadata": {},
   "outputs": [],
   "source": [
    "Q4. Find the standard deviation for the given data:\n",
    "[178,177,176,177,178.2,178,175,179,180,175,178.9,176.2,177,172.5,178,176.5]"
   ]
  },
  {
   "cell_type": "code",
   "execution_count": 23,
   "id": "eda6c7aa-2bbf-4366-813c-010269a948b2",
   "metadata": {},
   "outputs": [],
   "source": [
    "data = pd.DataFrame({\"data\":[178,177,176,177,178.2,178,175,179,180,175,178.9,176.2,177,172.5,178,176.5]})"
   ]
  },
  {
   "cell_type": "code",
   "execution_count": 26,
   "id": "2d1f0575-8ad3-4548-83dd-61b7556152a5",
   "metadata": {},
   "outputs": [
    {
     "data": {
      "text/plain": [
       "data    1.847239\n",
       "dtype: float64"
      ]
     },
     "execution_count": 26,
     "metadata": {},
     "output_type": "execute_result"
    }
   ],
   "source": [
    "data.std(axis = 0)"
   ]
  },
  {
   "cell_type": "code",
   "execution_count": null,
   "id": "ff4a449f-1e59-4902-9845-bb8f5e51beab",
   "metadata": {},
   "outputs": [],
   "source": [
    "Q5. How are measures of dispersion such as range, variance, and standard deviation used to describe\n",
    "the spread of a dataset? Provide an example."
   ]
  },
  {
   "cell_type": "code",
   "execution_count": null,
   "id": "17fbff52-8bd7-4a48-81fc-9f5e275a75f1",
   "metadata": {},
   "outputs": [],
   "source": [
    "1]RANGE : The range is the difference between the largest and the smallest observation in the data. \n",
    "The prime advantage of this measure of dispersion is that it is easy to calculate. On the other hand, it has lot of disadvantages. \n",
    "It is very sensitive to outliers and does not use all the observations in a data set.[1] It is more informative to provide the minimum \n",
    "and the maximum values rather than providing the range.\n",
    "\n",
    "2]STANDARD DEVIATION : Standard deviation (SD) is the most commonly used measure of dispersion. \n",
    "It is a measure of spread of data about the mean. SD is the square root of sum of squared deviation \n",
    "from the mean divided by the number of observations.The standard deviation is the standard or typical difference \n",
    "between each data point and the mean. When the values in a dataset are grouped closer together, you have a smaller \n",
    "standard deviation. On the other hand, when the values are spread out more, the standard deviation is larger because \n",
    "the standard distance is greater.\n",
    "\n",
    "3]VARIANCE : you calculate a set of squared differences between the data points and the mean, sum them, and then divide \n",
    "by the number of observations. Hence, it’s the average squared difference.\n",
    "VARIANCE GIVES US THE SPREAD OF THE DATA AND IT HAS NO LIMIT IT CAN HAVE THE VALUE GREATER THAN ZERO AND HAS NO LIMIT"
   ]
  },
  {
   "cell_type": "code",
   "execution_count": null,
   "id": "58a54b4e-1b5e-4507-9fb9-9b50c9aa7bdc",
   "metadata": {},
   "outputs": [],
   "source": [
    "Q6. What is a Venn diagram?"
   ]
  },
  {
   "cell_type": "code",
   "execution_count": null,
   "id": "d3e3369b-20c6-4e10-87c9-9af4ec009ea7",
   "metadata": {},
   "outputs": [],
   "source": [
    "ANS]venn diagram is the pictorial  representation of the dataset we can use any diagram to represent\n",
    "the data and can show the defferent region like union , intersection,compliment etc\n"
   ]
  },
  {
   "cell_type": "code",
   "execution_count": null,
   "id": "f29e18b9-77b9-46bd-99f9-e5615dcb403e",
   "metadata": {},
   "outputs": [],
   "source": [
    "Q7. For the two given sets A = (2,3,4,5,6,7) & B = (0,2,6,8,10). Find:\n",
    "(i) A ⋂ B\n",
    "(ii) A ⋃ B"
   ]
  },
  {
   "cell_type": "code",
   "execution_count": null,
   "id": "9c33b973-ca71-4f53-bfdc-87198e076753",
   "metadata": {},
   "outputs": [],
   "source": [
    "ans]A = (2,3,4,5,6,7) & B = (0,2,6,8,10)\n",
    "i] A ⋂ B=(2,6)\n",
    "ii]A ⋃ B=(2,3,4,5,6,7,0,8,10)"
   ]
  },
  {
   "cell_type": "code",
   "execution_count": null,
   "id": "c1b3533d-db67-4492-83fc-47690be1a0d9",
   "metadata": {},
   "outputs": [],
   "source": [
    "Q8. What do you understand about skewness in data?"
   ]
  },
  {
   "cell_type": "code",
   "execution_count": null,
   "id": "7e29ffd6-94f6-44ff-a77a-819dfc8c02a7",
   "metadata": {},
   "outputs": [],
   "source": [
    "ans]Skewness, in statistics, is the degree of asymmetry observed in a probability distribution.\n",
    "Distributions can exhibit right (positive) skewness or left (negative) skewness to varying degrees.\n",
    "A normal distribution (bell curve) exhibits zero skewness.\n",
    "\n",
    "when in a dataset amount of data in a perticular region excesses skewness arises left or right depends upon dataset"
   ]
  },
  {
   "cell_type": "code",
   "execution_count": null,
   "id": "6ba48e91-14a9-4122-9a2a-00996e90a676",
   "metadata": {},
   "outputs": [],
   "source": [
    "Q9. If a data is right skewed then what will be the position of median with respect to mean?"
   ]
  },
  {
   "cell_type": "code",
   "execution_count": null,
   "id": "1ce2a146-fc2c-4142-a12e-49500cd20253",
   "metadata": {},
   "outputs": [],
   "source": [
    "ans]if the data is right skewed the mode will be less than median and median will be less than mean\n",
    "means median will be at left side of mean"
   ]
  },
  {
   "cell_type": "code",
   "execution_count": null,
   "id": "6d95dbae-5840-47c8-9731-4e4d49cf3a55",
   "metadata": {},
   "outputs": [],
   "source": [
    "Q10. Explain the difference between covariance and correlation. How are these measures used in\n",
    "statistical analysis?"
   ]
  },
  {
   "cell_type": "code",
   "execution_count": null,
   "id": "e181fb99-0651-4ae9-8605-f812f09e80b8",
   "metadata": {},
   "outputs": [],
   "source": [
    "ans]\n",
    "1]covariance:covariance is nothing but the how a data in random variable varies with repsect to another variable\n",
    "The value of covariance lies in the range of -∞ and +∞.\n",
    "2]correlation:correlation is nothing but how a random variable varies with respect to another random variable\n",
    "Correlation is limited to values between the range -1 and +1"
   ]
  },
  {
   "cell_type": "code",
   "execution_count": null,
   "id": "e18186a2-4270-4518-9e75-700b0db482de",
   "metadata": {},
   "outputs": [],
   "source": [
    "Q11. What is the formula for calculating the sample mean? Provide an example calculation for a\n",
    "dataset."
   ]
  },
  {
   "cell_type": "code",
   "execution_count": null,
   "id": "a95f64af-c9ac-4ca9-a326-2624315eaa36",
   "metadata": {},
   "outputs": [],
   "source": [
    "ans] x̄ = ( Σ xi ) / n.\n",
    "xi = [1,2,3,4,5,6,7,8,9,10,20,30,40,50,60,70,80,90,100]\n",
    "x̄ = ( Σ xi ) =595\n",
    "n = 19\n",
    "x̄ = ( Σ xi ) / n. = 31.315789"
   ]
  },
  {
   "cell_type": "code",
   "execution_count": null,
   "id": "d6d618fa-1716-4d76-8fdc-a34d75f81aa2",
   "metadata": {},
   "outputs": [],
   "source": [
    "Q12. For a normal distribution data what is the relationship between its measure of central tendency?"
   ]
  },
  {
   "cell_type": "code",
   "execution_count": null,
   "id": "80e5db14-6fc1-46c2-8c25-2f2350ea05ce",
   "metadata": {},
   "outputs": [],
   "source": [
    "ans]For a normal distribution data \n",
    "      mean = mode = median "
   ]
  },
  {
   "cell_type": "code",
   "execution_count": null,
   "id": "4ba25800-9192-434e-8360-3496bf679ac3",
   "metadata": {},
   "outputs": [],
   "source": [
    "Q13. How is covariance different from correlation?"
   ]
  },
  {
   "cell_type": "code",
   "execution_count": null,
   "id": "0064bd7a-c3c3-4619-b354-ba01aa67fd94",
   "metadata": {},
   "outputs": [],
   "source": [
    "1]covariance:covariance is nothing but the how a data in random variable varies with repsect to another variable\n",
    "The value of covariance lies in the range of -∞ and +∞.\n",
    "here value of covariance has no limit on value\n",
    "\n",
    "2]correlation:correlation is nothing but a degree to which random variable varies with respect to another random variable\n",
    "Correlation is limited to values between the range -1 and +1\n",
    "correlation always lies in between -1 to +1"
   ]
  },
  {
   "cell_type": "code",
   "execution_count": null,
   "id": "09e6563e-e925-4bf7-802f-b0bf9e5d7e7b",
   "metadata": {},
   "outputs": [],
   "source": [
    "Q14. How do outliers affect measures of central tendency and dispersion? Provide an example."
   ]
  },
  {
   "cell_type": "code",
   "execution_count": null,
   "id": "87d65a80-34d3-4388-aa7b-e3e34fa14cc6",
   "metadata": {},
   "outputs": [],
   "source": [
    "ans]lets take a example of weights of  children in class and by mistake weight of a parent gets added lets see how these\n",
    "dataset affects centrak tendancy"
   ]
  },
  {
   "cell_type": "code",
   "execution_count": 41,
   "id": "e8302d98-4f3c-4ab2-ae94-8132b68775cf",
   "metadata": {},
   "outputs": [],
   "source": [
    "import pandas as pd\n",
    "import numpy as np"
   ]
  },
  {
   "cell_type": "code",
   "execution_count": 49,
   "id": "0ca8eefe-d47c-4928-af61-bcf3b49f461a",
   "metadata": {},
   "outputs": [],
   "source": [
    "data = [38, 39, 32, 37, 37, 31, 35, 31, 36, 33, 39, 32, 30, 30, 32, 38, 38]"
   ]
  },
  {
   "cell_type": "code",
   "execution_count": 52,
   "id": "82d057b6-3760-4691-8d83-47259edf5302",
   "metadata": {},
   "outputs": [
    {
     "data": {
      "text/plain": [
       "(34.588235294117645, 35.0, 10.477508650519031, 3.2368979981641424)"
      ]
     },
     "execution_count": 52,
     "metadata": {},
     "output_type": "execute_result"
    }
   ],
   "source": [
    "np.mean(data),np.median(data),np.var(data),np.std(data)"
   ]
  },
  {
   "cell_type": "code",
   "execution_count": 54,
   "id": "6bfe1514-771c-4c75-b227-0948e3d61adf",
   "metadata": {},
   "outputs": [
    {
     "data": {
      "text/plain": [
       "(39.333333333333336, 35.5, 392.66666666666663, 19.8158185969358)"
      ]
     },
     "execution_count": 54,
     "metadata": {},
     "output_type": "execute_result"
    }
   ],
   "source": [
    "data1 = [38, 39, 32, 37, 37, 31, 35, 31, 36, 33, 39, 32, 30, 30, 32, 38, 38,120]\n",
    "np.mean(data1),np.median(data1),np.var(data1),np.std(data1)"
   ]
  },
  {
   "cell_type": "code",
   "execution_count": null,
   "id": "3412672a-01c5-47b4-9ded-ce7b52a76c7c",
   "metadata": {},
   "outputs": [],
   "source": [
    "as you can see in above data one outlier can affect the whole tendancies by large amount"
   ]
  }
 ],
 "metadata": {
  "kernelspec": {
   "display_name": "Python 3 (ipykernel)",
   "language": "python",
   "name": "python3"
  },
  "language_info": {
   "codemirror_mode": {
    "name": "ipython",
    "version": 3
   },
   "file_extension": ".py",
   "mimetype": "text/x-python",
   "name": "python",
   "nbconvert_exporter": "python",
   "pygments_lexer": "ipython3",
   "version": "3.10.8"
  }
 },
 "nbformat": 4,
 "nbformat_minor": 5
}
