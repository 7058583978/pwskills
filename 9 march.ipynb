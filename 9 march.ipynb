{
 "cells": [
  {
   "cell_type": "code",
   "execution_count": null,
   "id": "5c39c1e0-60fa-4c51-8a40-a59c9887571d",
   "metadata": {},
   "outputs": [],
   "source": [
    "Q1: What are the Probability Mass Function (PMF) and Probability Density Function (PDF)? Explain with\n",
    "an example."
   ]
  },
  {
   "cell_type": "code",
   "execution_count": null,
   "id": "bdefe498-9039-49a7-a7c2-b6017d09eb92",
   "metadata": {},
   "outputs": [],
   "source": [
    "ans]\n",
    "The PMF is a function that describes the probability of a discrete random variable taking on a certain value.\n",
    "It is a mathematical function that describes the probability that a random variable will take on a specific value rather\n",
    "than falling within a range of values.\n",
    "eg : rolling a dice\n",
    "\n",
    "The PDF is a function that describes the probability of a continuous random variable taking on a certain value. \n",
    "It is a mathematical function that describes the probability that a random variable will fall within a certain range of values.\n",
    "\n",
    "eg : modeling of diesel engine combustion"
   ]
  },
  {
   "cell_type": "code",
   "execution_count": null,
   "id": "30231500-4f3b-465a-985e-8ca1affd6682",
   "metadata": {},
   "outputs": [],
   "source": [
    "Q2: What is Cumulative Density Function (CDF)? Explain with an example. Why CDF is used?"
   ]
  },
  {
   "cell_type": "code",
   "execution_count": null,
   "id": "b91b9960-83bc-4d5f-bc5c-394e21840749",
   "metadata": {},
   "outputs": [],
   "source": [
    "ans]The cumulative distribution function (CDF) calculates the cumulative probability for a given x-value.\n",
    "Use the CDF to determine the likelihood that a random observation taken from the population \n",
    "will be less than or equal to a particular value.\n",
    "\n",
    "eg : expected outcome of rolling a dice = [1,2,3,4,5,6]\n",
    "so what is the probabillity that dice number will be less than 5\n",
    "so we need to add all the prababillity of 1,2,3,4 so in orderr to reduce calculation we simply calculate cdf\n"
   ]
  },
  {
   "cell_type": "code",
   "execution_count": null,
   "id": "7f0b519c-5747-43f6-8fdd-a2d38ecc90d7",
   "metadata": {},
   "outputs": [],
   "source": [
    "Q3: What are some examples of situations where the normal distribution might be used as a model?\n",
    "Explain how the parameters of the normal distribution relate to the shape of the distribution."
   ]
  },
  {
   "cell_type": "code",
   "execution_count": null,
   "id": "b1255c43-138b-4ea3-98b9-feb1d2766c87",
   "metadata": {},
   "outputs": [],
   "source": [
    "ans]\n",
    "Height,Rolling A Dice ,Tossing A Coin,IQ,Blood Pressure. in this condition the normal distribution can be applied.......\n",
    "\n",
    "there are two main parameters on which shape of graph depend On the graph, the standard deviation determines the width of the curve, \n",
    "and it tightens or expands the width of the distribution along the x-axis. Typically, a small standard deviation relative to the mean\n",
    "produces a steep curve, while a large standard deviation relative to the mean produces a flatter curve.\n"
   ]
  },
  {
   "cell_type": "code",
   "execution_count": null,
   "id": "fc6b1de6-d4cf-49fc-aa5a-5fbc0c9bfd83",
   "metadata": {},
   "outputs": [],
   "source": [
    "Q4: Explain the importance of Normal Distribution. Give a few real-life examples of Normal\n",
    "Distribution."
   ]
  },
  {
   "cell_type": "code",
   "execution_count": null,
   "id": "e5444358-93e6-444e-a078-1aab5031535d",
   "metadata": {},
   "outputs": [],
   "source": [
    "ans]The normal distribution is an important probability distribution in math and statistics \n",
    "because many continuous data in nature and psychology display this bell-shaped curve when compiled and graphed.\n",
    "\n",
    "eg :\n",
    "“Height of people” is something that follows a normal distribution pattern perfectly\n",
    "Most people are of average height, the numbers of people that are taller and shorter than \n",
    "average are fairly equal and a very small"
   ]
  },
  {
   "cell_type": "code",
   "execution_count": null,
   "id": "0acbd19c-c890-463d-94b7-613bc8323525",
   "metadata": {},
   "outputs": [],
   "source": [
    "Q5: What is Bernaulli Distribution? Give an Example. What is the difference between Bernoulli\n",
    "Distribution and Binomial Distribution?"
   ]
  },
  {
   "cell_type": "code",
   "execution_count": null,
   "id": "f6646522-883b-4a5b-bc8e-50ed2fac3b05",
   "metadata": {},
   "outputs": [],
   "source": [
    "ans]Bernoulli deals with the outcome of the single trial of the event, whereas Binomial deals with the outcome of the multiple \n",
    "trials of the single event. Bernoulli is used when the outcome of an event is required for only one time, whereas the Binomial\n",
    "is used when the outcome of an event is required multiple times.\n",
    "\n",
    "eg :\n",
    "1.tossing a coin single time is a example og bernoulis distribution\n",
    "2.tossing a coin 100 times is example of binomial distribution"
   ]
  },
  {
   "cell_type": "code",
   "execution_count": null,
   "id": "545cfc99-f99c-410f-a6be-462b7140b1e2",
   "metadata": {},
   "outputs": [],
   "source": [
    "Q6. Consider a dataset with a mean of 50 and a standard deviation of 10. If we assume that the dataset\n",
    "is normally distributed, what is the probability that a randomly selected observation will be greater\n",
    "than 60? Use the appropriate formula and show your calculations."
   ]
  },
  {
   "cell_type": "code",
   "execution_count": null,
   "id": "e1d856c7-a9f7-4e19-b675-7368f184ea1e",
   "metadata": {},
   "outputs": [],
   "source": [
    "ans]so for above problem we use z score\n",
    "\n",
    "z = 60-50/10 = 1\n",
    "hence for z = 1 we have z table which gives probabillity of 0.8413"
   ]
  },
  {
   "cell_type": "code",
   "execution_count": null,
   "id": "f835c5b5-f6a9-4781-b8a4-292d8c2b56fd",
   "metadata": {},
   "outputs": [],
   "source": [
    "Q7: Explain uniform Distribution with an example."
   ]
  },
  {
   "cell_type": "code",
   "execution_count": null,
   "id": "8ab608d3-ba4a-40bf-9ebb-8d3f27880dfd",
   "metadata": {},
   "outputs": [],
   "source": [
    "ans] uniform distribution refers to a type of probability distribution in which all outcomes are equally likely. \n",
    "eg : A deck of cards has within it uniform distributions because the likelihood of drawing a heart, a club, a diamond, \n",
    "or a spade is equally likely."
   ]
  },
  {
   "cell_type": "code",
   "execution_count": null,
   "id": "7d0c44d5-1f25-4492-adf5-e1b4552948a0",
   "metadata": {},
   "outputs": [],
   "source": [
    "Q8: What is the z score? State the importance of the z score."
   ]
  },
  {
   "cell_type": "code",
   "execution_count": null,
   "id": "aa761451-017a-4358-b7d7-26372cf0f51d",
   "metadata": {},
   "outputs": [],
   "source": [
    "ans]A z-score is important because it tells where your data lies in the data distribution\n",
    "\n",
    "z = sample data - mean / standard deviation\n",
    "\n",
    "it also standardize your results and you can find out probabillity of any function using standard z score"
   ]
  },
  {
   "cell_type": "code",
   "execution_count": null,
   "id": "b2ec72e2-03cb-4a07-a03d-e81d03092267",
   "metadata": {},
   "outputs": [],
   "source": [
    "Q9: What is Central Limit Theorem? State the significance of the Central Limit Theorem."
   ]
  },
  {
   "cell_type": "code",
   "execution_count": null,
   "id": "6ed3b374-2c2f-425f-8b81-9cfe4b67cd95",
   "metadata": {},
   "outputs": [],
   "source": [
    "ans]CLT states that sampling distribution of the mean will always in normal distribution as long as the data is large enough\n",
    "\n",
    "f you take a sufficiently large sample size from a population with a finite level of variance, the mean of all samples from \n",
    "that population will be roughly equal to the population mean."
   ]
  },
  {
   "cell_type": "code",
   "execution_count": null,
   "id": "62c8985c-95ad-48d4-8090-23a6c6300313",
   "metadata": {},
   "outputs": [],
   "source": [
    "Q10: State the assumptions of the Central Limit Theorem."
   ]
  },
  {
   "cell_type": "code",
   "execution_count": null,
   "id": "dcd176d5-7996-4d78-900d-7ca46ab7102f",
   "metadata": {},
   "outputs": [],
   "source": [
    "ans]\n",
    "1.It needs to be sampled at random. \n",
    "2.The samples should be unrelated to one another. \n",
    "3.One sample should not impact the others. \n",
    "4.When taking samples without replacement, the sample size should not exceed 10% of the population"
   ]
  }
 ],
 "metadata": {
  "kernelspec": {
   "display_name": "Python 3 (ipykernel)",
   "language": "python",
   "name": "python3"
  },
  "language_info": {
   "codemirror_mode": {
    "name": "ipython",
    "version": 3
   },
   "file_extension": ".py",
   "mimetype": "text/x-python",
   "name": "python",
   "nbconvert_exporter": "python",
   "pygments_lexer": "ipython3",
   "version": "3.10.8"
  }
 },
 "nbformat": 4,
 "nbformat_minor": 5
}
