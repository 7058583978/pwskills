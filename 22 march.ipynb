{
 "cells": [
  {
   "cell_type": "code",
   "execution_count": null,
   "id": "3e7eb3c3-0f1a-4871-b753-bb03f54bad9b",
   "metadata": {},
   "outputs": [],
   "source": [
    "Q1. Pearson correlation coefficient is a measure of the linear relationship between two variables. Suppose\n",
    "you have collected data on the amount of time students spend studying for an exam and their final exam\n",
    "scores. Calculate the Pearson correlation coefficient between these two variables and interpret the result."
   ]
  },
  {
   "cell_type": "code",
   "execution_count": 47,
   "id": "f92ad79f-fb20-410d-bb06-45c79f8cac2b",
   "metadata": {},
   "outputs": [],
   "source": [
    "import pandas as pd\n",
    "import numpy as np\n",
    "import matplotlib.pyplot as sns"
   ]
  },
  {
   "cell_type": "code",
   "execution_count": 3,
   "id": "939a9951-0cd6-4a6b-913f-c173b39ad103",
   "metadata": {},
   "outputs": [],
   "source": [
    "df = pd.DataFrame({'time_hours':[1,2,3,2,1,4,5,6,2,1,5,2,1,5,2,5,6],\n",
    "              \"marks\" :         [50,60,70,50,60,90,80,95,68,72,49,53,54,86,96,98,80]})"
   ]
  },
  {
   "cell_type": "code",
   "execution_count": 4,
   "id": "ef81eb80-0946-493c-a3d4-28ad24356276",
   "metadata": {},
   "outputs": [
    {
     "data": {
      "text/html": [
       "<div>\n",
       "<style scoped>\n",
       "    .dataframe tbody tr th:only-of-type {\n",
       "        vertical-align: middle;\n",
       "    }\n",
       "\n",
       "    .dataframe tbody tr th {\n",
       "        vertical-align: top;\n",
       "    }\n",
       "\n",
       "    .dataframe thead th {\n",
       "        text-align: right;\n",
       "    }\n",
       "</style>\n",
       "<table border=\"1\" class=\"dataframe\">\n",
       "  <thead>\n",
       "    <tr style=\"text-align: right;\">\n",
       "      <th></th>\n",
       "      <th>time_hours</th>\n",
       "      <th>marks</th>\n",
       "    </tr>\n",
       "  </thead>\n",
       "  <tbody>\n",
       "    <tr>\n",
       "      <th>time_hours</th>\n",
       "      <td>1.00000</td>\n",
       "      <td>0.57248</td>\n",
       "    </tr>\n",
       "    <tr>\n",
       "      <th>marks</th>\n",
       "      <td>0.57248</td>\n",
       "      <td>1.00000</td>\n",
       "    </tr>\n",
       "  </tbody>\n",
       "</table>\n",
       "</div>"
      ],
      "text/plain": [
       "            time_hours    marks\n",
       "time_hours     1.00000  0.57248\n",
       "marks          0.57248  1.00000"
      ]
     },
     "execution_count": 4,
     "metadata": {},
     "output_type": "execute_result"
    }
   ],
   "source": [
    "df.corr() "
   ]
  },
  {
   "cell_type": "code",
   "execution_count": 5,
   "id": "2373bfd9-b5bc-449e-9948-98c2e3181b0c",
   "metadata": {},
   "outputs": [
    {
     "data": {
      "text/html": [
       "<div>\n",
       "<style scoped>\n",
       "    .dataframe tbody tr th:only-of-type {\n",
       "        vertical-align: middle;\n",
       "    }\n",
       "\n",
       "    .dataframe tbody tr th {\n",
       "        vertical-align: top;\n",
       "    }\n",
       "\n",
       "    .dataframe thead th {\n",
       "        text-align: right;\n",
       "    }\n",
       "</style>\n",
       "<table border=\"1\" class=\"dataframe\">\n",
       "  <thead>\n",
       "    <tr style=\"text-align: right;\">\n",
       "      <th></th>\n",
       "      <th>time_hours</th>\n",
       "      <th>marks</th>\n",
       "    </tr>\n",
       "  </thead>\n",
       "  <tbody>\n",
       "    <tr>\n",
       "      <th>time_hours</th>\n",
       "      <td>1.000000</td>\n",
       "      <td>0.496364</td>\n",
       "    </tr>\n",
       "    <tr>\n",
       "      <th>marks</th>\n",
       "      <td>0.496364</td>\n",
       "      <td>1.000000</td>\n",
       "    </tr>\n",
       "  </tbody>\n",
       "</table>\n",
       "</div>"
      ],
      "text/plain": [
       "            time_hours     marks\n",
       "time_hours    1.000000  0.496364\n",
       "marks         0.496364  1.000000"
      ]
     },
     "execution_count": 5,
     "metadata": {},
     "output_type": "execute_result"
    }
   ],
   "source": [
    "df.corr(method='spearman')"
   ]
  },
  {
   "cell_type": "code",
   "execution_count": null,
   "id": "9d51b091-9868-4782-97c7-20ae63c25ec9",
   "metadata": {},
   "outputs": [],
   "source": [
    "here we get the positive coefficient so we can covlude that study time and marks in the exam gave \n",
    "positive linear effect on each other"
   ]
  },
  {
   "cell_type": "code",
   "execution_count": null,
   "id": "b9c42ca3-94c2-4522-a495-46faa0c39a4f",
   "metadata": {},
   "outputs": [],
   "source": [
    "Q2. Spearman's rank correlation is a measure of the monotonic relationship between two variables.\n",
    "Suppose you have collected data on the amount of sleep individuals get each night and their overall job\n",
    "satisfaction level on a scale of 1 to 10. Calculate the Spearman's rank correlation between these two\n",
    "variables and interpret the result."
   ]
  },
  {
   "cell_type": "code",
   "execution_count": 10,
   "id": "ad32c691-abd3-4487-9e34-8699d9ff3f84",
   "metadata": {},
   "outputs": [],
   "source": [
    "sleep = np.random.randint(6,10,10)\n",
    "scale = np.random.randint(1,10,10)"
   ]
  },
  {
   "cell_type": "code",
   "execution_count": 14,
   "id": "82985f0c-4c22-4d0b-8c4a-1c4627221b95",
   "metadata": {},
   "outputs": [],
   "source": [
    "df1 = pd.DataFrame({'sleep' : np.random.randint(6,10,10),\n",
    "'scale' : np.random.randint(1,10,10)\n",
    "\n",
    "})"
   ]
  },
  {
   "cell_type": "code",
   "execution_count": 15,
   "id": "cc1a0f58-f33e-44ea-898d-27b3e7d99b17",
   "metadata": {},
   "outputs": [
    {
     "data": {
      "text/html": [
       "<div>\n",
       "<style scoped>\n",
       "    .dataframe tbody tr th:only-of-type {\n",
       "        vertical-align: middle;\n",
       "    }\n",
       "\n",
       "    .dataframe tbody tr th {\n",
       "        vertical-align: top;\n",
       "    }\n",
       "\n",
       "    .dataframe thead th {\n",
       "        text-align: right;\n",
       "    }\n",
       "</style>\n",
       "<table border=\"1\" class=\"dataframe\">\n",
       "  <thead>\n",
       "    <tr style=\"text-align: right;\">\n",
       "      <th></th>\n",
       "      <th>sleep</th>\n",
       "      <th>scale</th>\n",
       "    </tr>\n",
       "  </thead>\n",
       "  <tbody>\n",
       "    <tr>\n",
       "      <th>sleep</th>\n",
       "      <td>1.000000</td>\n",
       "      <td>0.020108</td>\n",
       "    </tr>\n",
       "    <tr>\n",
       "      <th>scale</th>\n",
       "      <td>0.020108</td>\n",
       "      <td>1.000000</td>\n",
       "    </tr>\n",
       "  </tbody>\n",
       "</table>\n",
       "</div>"
      ],
      "text/plain": [
       "          sleep     scale\n",
       "sleep  1.000000  0.020108\n",
       "scale  0.020108  1.000000"
      ]
     },
     "execution_count": 15,
     "metadata": {},
     "output_type": "execute_result"
    }
   ],
   "source": [
    "df1.corr(method = \"spearman\")"
   ]
  },
  {
   "cell_type": "code",
   "execution_count": null,
   "id": "d148c6f8-df0a-4dab-9313-6f44dafd3fab",
   "metadata": {},
   "outputs": [],
   "source": [
    "we get the positive coefficient hence sleep time and job satisfaction scale have\n",
    "lighter positive relation"
   ]
  },
  {
   "cell_type": "code",
   "execution_count": null,
   "id": "7f727bc3-d453-4c58-94f4-6fdcb6161241",
   "metadata": {},
   "outputs": [],
   "source": [
    "Q3. Suppose you are conducting a study to examine the relationship between the number of hours of\n",
    "exercise per week and body mass index (BMI) in a sample of adults. You collected data on both variables\n",
    "for 50 participants. Calculate the Pearson correlation coefficient and the Spearman's rank correlation\n",
    "between these two variables and compare the results."
   ]
  },
  {
   "cell_type": "code",
   "execution_count": 17,
   "id": "f4906ad7-e6a3-4f56-9314-11cc4d69a3f7",
   "metadata": {},
   "outputs": [],
   "source": [
    "exercise = np.random.randint(7,25,50)\n",
    "BMI = np.random.randint(16,35,50)"
   ]
  },
  {
   "cell_type": "code",
   "execution_count": 21,
   "id": "41ebece7-bdd2-4e5f-afbf-f20a27ef4299",
   "metadata": {},
   "outputs": [],
   "source": [
    "df2 = pd.DataFrame({'exercise': np.random.randint(7,25,50),\n",
    "'BMI' : np.random.randint(16,35,50)\n",
    "})"
   ]
  },
  {
   "cell_type": "code",
   "execution_count": 22,
   "id": "490e328e-ad41-41fa-914d-4926b63d617f",
   "metadata": {},
   "outputs": [
    {
     "data": {
      "text/html": [
       "<div>\n",
       "<style scoped>\n",
       "    .dataframe tbody tr th:only-of-type {\n",
       "        vertical-align: middle;\n",
       "    }\n",
       "\n",
       "    .dataframe tbody tr th {\n",
       "        vertical-align: top;\n",
       "    }\n",
       "\n",
       "    .dataframe thead th {\n",
       "        text-align: right;\n",
       "    }\n",
       "</style>\n",
       "<table border=\"1\" class=\"dataframe\">\n",
       "  <thead>\n",
       "    <tr style=\"text-align: right;\">\n",
       "      <th></th>\n",
       "      <th>exercise</th>\n",
       "      <th>BMI</th>\n",
       "    </tr>\n",
       "  </thead>\n",
       "  <tbody>\n",
       "    <tr>\n",
       "      <th>exercise</th>\n",
       "      <td>1.000000</td>\n",
       "      <td>-0.060466</td>\n",
       "    </tr>\n",
       "    <tr>\n",
       "      <th>BMI</th>\n",
       "      <td>-0.060466</td>\n",
       "      <td>1.000000</td>\n",
       "    </tr>\n",
       "  </tbody>\n",
       "</table>\n",
       "</div>"
      ],
      "text/plain": [
       "          exercise       BMI\n",
       "exercise  1.000000 -0.060466\n",
       "BMI      -0.060466  1.000000"
      ]
     },
     "execution_count": 22,
     "metadata": {},
     "output_type": "execute_result"
    }
   ],
   "source": [
    "df2.corr()"
   ]
  },
  {
   "cell_type": "code",
   "execution_count": 23,
   "id": "7b233a6c-508c-4177-be13-6ec08c9aa0d0",
   "metadata": {},
   "outputs": [
    {
     "data": {
      "text/html": [
       "<div>\n",
       "<style scoped>\n",
       "    .dataframe tbody tr th:only-of-type {\n",
       "        vertical-align: middle;\n",
       "    }\n",
       "\n",
       "    .dataframe tbody tr th {\n",
       "        vertical-align: top;\n",
       "    }\n",
       "\n",
       "    .dataframe thead th {\n",
       "        text-align: right;\n",
       "    }\n",
       "</style>\n",
       "<table border=\"1\" class=\"dataframe\">\n",
       "  <thead>\n",
       "    <tr style=\"text-align: right;\">\n",
       "      <th></th>\n",
       "      <th>exercise</th>\n",
       "      <th>BMI</th>\n",
       "    </tr>\n",
       "  </thead>\n",
       "  <tbody>\n",
       "    <tr>\n",
       "      <th>exercise</th>\n",
       "      <td>1.000000</td>\n",
       "      <td>-0.080245</td>\n",
       "    </tr>\n",
       "    <tr>\n",
       "      <th>BMI</th>\n",
       "      <td>-0.080245</td>\n",
       "      <td>1.000000</td>\n",
       "    </tr>\n",
       "  </tbody>\n",
       "</table>\n",
       "</div>"
      ],
      "text/plain": [
       "          exercise       BMI\n",
       "exercise  1.000000 -0.080245\n",
       "BMI      -0.080245  1.000000"
      ]
     },
     "execution_count": 23,
     "metadata": {},
     "output_type": "execute_result"
    }
   ],
   "source": [
    "df2.corr(method='spearman')"
   ]
  },
  {
   "cell_type": "code",
   "execution_count": null,
   "id": "ffce2cba-9656-4b0d-9a55-66b9959d348a",
   "metadata": {},
   "outputs": [],
   "source": [
    "the conclusion from both the results are same that we get slightly negative linear relationship between\n",
    "exercise time and bmi perhaps there are more factors that affects the results"
   ]
  },
  {
   "cell_type": "code",
   "execution_count": null,
   "id": "4450e535-fa58-4ab3-91e8-1a1c8a1c8ade",
   "metadata": {},
   "outputs": [],
   "source": [
    "Q4. A researcher is interested in examining the relationship between the number of hours individuals\n",
    "spend watching television per day and their level of physical activity. The researcher collected data on\n",
    "both variables from a sample of 50 participants. Calculate the Pearson correlation coefficient between\n",
    "these two variables."
   ]
  },
  {
   "cell_type": "code",
   "execution_count": 25,
   "id": "cbac3117-d323-46a8-bd4a-8838b37ceea2",
   "metadata": {},
   "outputs": [],
   "source": [
    "df3= pd.DataFrame({'tv_time': np.random.randint(1,5,50),\n",
    "'level_acivity' : np.random.randint(1,10,50)\n",
    "})"
   ]
  },
  {
   "cell_type": "code",
   "execution_count": 26,
   "id": "a99e8c26-839c-4a2e-960f-8155258f1367",
   "metadata": {},
   "outputs": [
    {
     "data": {
      "text/html": [
       "<div>\n",
       "<style scoped>\n",
       "    .dataframe tbody tr th:only-of-type {\n",
       "        vertical-align: middle;\n",
       "    }\n",
       "\n",
       "    .dataframe tbody tr th {\n",
       "        vertical-align: top;\n",
       "    }\n",
       "\n",
       "    .dataframe thead th {\n",
       "        text-align: right;\n",
       "    }\n",
       "</style>\n",
       "<table border=\"1\" class=\"dataframe\">\n",
       "  <thead>\n",
       "    <tr style=\"text-align: right;\">\n",
       "      <th></th>\n",
       "      <th>tv_time</th>\n",
       "      <th>level_acivity</th>\n",
       "    </tr>\n",
       "  </thead>\n",
       "  <tbody>\n",
       "    <tr>\n",
       "      <th>tv_time</th>\n",
       "      <td>1.000000</td>\n",
       "      <td>-0.066332</td>\n",
       "    </tr>\n",
       "    <tr>\n",
       "      <th>level_acivity</th>\n",
       "      <td>-0.066332</td>\n",
       "      <td>1.000000</td>\n",
       "    </tr>\n",
       "  </tbody>\n",
       "</table>\n",
       "</div>"
      ],
      "text/plain": [
       "                tv_time  level_acivity\n",
       "tv_time        1.000000      -0.066332\n",
       "level_acivity -0.066332       1.000000"
      ]
     },
     "execution_count": 26,
     "metadata": {},
     "output_type": "execute_result"
    }
   ],
   "source": [
    "df3.corr()"
   ]
  },
  {
   "cell_type": "code",
   "execution_count": null,
   "id": "c6afefe5-8487-407d-8bcb-e209305fe80e",
   "metadata": {},
   "outputs": [],
   "source": [
    "so here are the result we conclude that more the time they spend on television the less the level of physical\n",
    "acivity among them"
   ]
  },
  {
   "cell_type": "code",
   "execution_count": null,
   "id": "e32e79f5-3583-4a0c-b930-dcbaa02fd6f9",
   "metadata": {},
   "outputs": [],
   "source": [
    "Q5. A survey was conducted to examine the relationship between age and preference for a particular\n",
    "brand of soft drink. The survey results are shown below:\n",
    "\n",
    "        Age(Years)            Soft drink Preference\n",
    "\n",
    "          25                          Coke\n",
    "          42                          Pepsi\n",
    "          37                          Mountain dew\n",
    "          19                          Coke\n",
    "          31                          Pepsi\n",
    "          28                          Coke\n",
    "\n",
    "\n"
   ]
  },
  {
   "cell_type": "code",
   "execution_count": 51,
   "id": "d753168d-fa24-4797-bdea-07c81e33e030",
   "metadata": {},
   "outputs": [
    {
     "data": {
      "text/html": [
       "<div>\n",
       "<style scoped>\n",
       "    .dataframe tbody tr th:only-of-type {\n",
       "        vertical-align: middle;\n",
       "    }\n",
       "\n",
       "    .dataframe tbody tr th {\n",
       "        vertical-align: top;\n",
       "    }\n",
       "\n",
       "    .dataframe thead th {\n",
       "        text-align: right;\n",
       "    }\n",
       "</style>\n",
       "<table border=\"1\" class=\"dataframe\">\n",
       "  <thead>\n",
       "    <tr style=\"text-align: right;\">\n",
       "      <th></th>\n",
       "      <th>age_yrs</th>\n",
       "      <th>Soft drink Preference</th>\n",
       "    </tr>\n",
       "  </thead>\n",
       "  <tbody>\n",
       "    <tr>\n",
       "      <th>0</th>\n",
       "      <td>25</td>\n",
       "      <td>coke</td>\n",
       "    </tr>\n",
       "    <tr>\n",
       "      <th>1</th>\n",
       "      <td>42</td>\n",
       "      <td>pepsi</td>\n",
       "    </tr>\n",
       "    <tr>\n",
       "      <th>2</th>\n",
       "      <td>37</td>\n",
       "      <td>Mountain dew</td>\n",
       "    </tr>\n",
       "    <tr>\n",
       "      <th>3</th>\n",
       "      <td>19</td>\n",
       "      <td>coke</td>\n",
       "    </tr>\n",
       "    <tr>\n",
       "      <th>4</th>\n",
       "      <td>31</td>\n",
       "      <td>pepsi</td>\n",
       "    </tr>\n",
       "    <tr>\n",
       "      <th>5</th>\n",
       "      <td>28</td>\n",
       "      <td>coke</td>\n",
       "    </tr>\n",
       "  </tbody>\n",
       "</table>\n",
       "</div>"
      ],
      "text/plain": [
       "   age_yrs Soft drink Preference\n",
       "0       25                  coke\n",
       "1       42                 pepsi\n",
       "2       37          Mountain dew\n",
       "3       19                  coke\n",
       "4       31                 pepsi\n",
       "5       28                  coke"
      ]
     },
     "execution_count": 51,
     "metadata": {},
     "output_type": "execute_result"
    }
   ],
   "source": [
    "df4 = pd.DataFrame({'age_yrs':[25,42,37,19,31,28],\n",
    "  'Soft drink Preference':['coke','pepsi','Mountain dew','coke','pepsi','coke']\n",
    "           })\n",
    "df4"
   ]
  },
  {
   "cell_type": "code",
   "execution_count": null,
   "id": "f8955934-ba32-4737-a804-dca61abfb01c",
   "metadata": {},
   "outputs": [],
   "source": [
    "It seems that the survey results only include a small sample of six individuals,\n",
    "so it may not be representative of the larger population. However, based on this sample,\n",
    "it appears that the preference for a particular brand of soft drink is not strongly related to age.\n",
    "Among the six individuals surveyed, there were two who preferred Coke, two who preferred Pepsi,\n",
    "and one each who preferred Mountain Dew and Sprite. The ages of these individuals ranged from 19 to 42 years,\n",
    "but there does not appear to be any clear pattern or trend in terms of the relationship between age and \n",
    "soft drink preference. Therefore, it would be difficult to draw any strong conclusions about this relationship\n",
    "based on this small sample size. To get a more accurate understanding of the relationship between age and soft\n",
    "drink preference, a larger and more diverse sample would be needed."
   ]
  },
  {
   "cell_type": "code",
   "execution_count": null,
   "id": "5216ed6d-6718-4500-b1c7-cb8c0a2f81d7",
   "metadata": {},
   "outputs": [],
   "source": [
    "Q6. A company is interested in examining the relationship between the number of sales calls made per day\n",
    "and the number of sales made per week. The company collected data on both variables from a sample of\n",
    "30 sales representatives. Calculate the Pearson correlation coefficient between these two variables."
   ]
  },
  {
   "cell_type": "code",
   "execution_count": 38,
   "id": "58dedfd4-e7dd-4956-8a9b-92c9c76dd4a3",
   "metadata": {},
   "outputs": [],
   "source": [
    "df5 = pd.DataFrame({'number_calls': np.random.randint(100,200,30),\n",
    "'sales' : np.random.randint(10,20,30)\n",
    "})"
   ]
  },
  {
   "cell_type": "code",
   "execution_count": 39,
   "id": "72a7b51b-0264-4be5-bd00-43f560cf5c77",
   "metadata": {},
   "outputs": [
    {
     "data": {
      "text/html": [
       "<div>\n",
       "<style scoped>\n",
       "    .dataframe tbody tr th:only-of-type {\n",
       "        vertical-align: middle;\n",
       "    }\n",
       "\n",
       "    .dataframe tbody tr th {\n",
       "        vertical-align: top;\n",
       "    }\n",
       "\n",
       "    .dataframe thead th {\n",
       "        text-align: right;\n",
       "    }\n",
       "</style>\n",
       "<table border=\"1\" class=\"dataframe\">\n",
       "  <thead>\n",
       "    <tr style=\"text-align: right;\">\n",
       "      <th></th>\n",
       "      <th>number_calls</th>\n",
       "      <th>sales</th>\n",
       "    </tr>\n",
       "  </thead>\n",
       "  <tbody>\n",
       "    <tr>\n",
       "      <th>number_calls</th>\n",
       "      <td>1.000000</td>\n",
       "      <td>0.286921</td>\n",
       "    </tr>\n",
       "    <tr>\n",
       "      <th>sales</th>\n",
       "      <td>0.286921</td>\n",
       "      <td>1.000000</td>\n",
       "    </tr>\n",
       "  </tbody>\n",
       "</table>\n",
       "</div>"
      ],
      "text/plain": [
       "              number_calls     sales\n",
       "number_calls      1.000000  0.286921\n",
       "sales             0.286921  1.000000"
      ]
     },
     "execution_count": 39,
     "metadata": {},
     "output_type": "execute_result"
    }
   ],
   "source": [
    "df5.corr()"
   ]
  },
  {
   "cell_type": "code",
   "execution_count": null,
   "id": "ed96e94c-21e2-40d1-8712-8b5d7e4124d3",
   "metadata": {},
   "outputs": [],
   "source": [
    "as we got positive correlation hence we conclude that as number of calls increses number of \n",
    "sales also increase"
   ]
  }
 ],
 "metadata": {
  "kernelspec": {
   "display_name": "Python 3 (ipykernel)",
   "language": "python",
   "name": "python3"
  },
  "language_info": {
   "codemirror_mode": {
    "name": "ipython",
    "version": 3
   },
   "file_extension": ".py",
   "mimetype": "text/x-python",
   "name": "python",
   "nbconvert_exporter": "python",
   "pygments_lexer": "ipython3",
   "version": "3.10.8"
  }
 },
 "nbformat": 4,
 "nbformat_minor": 5
}
