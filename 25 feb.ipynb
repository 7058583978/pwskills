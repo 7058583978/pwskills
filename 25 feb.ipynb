{
 "cells": [
  {
   "cell_type": "code",
   "execution_count": null,
   "id": "2616e376-a1ee-4c1d-ad17-7ecd310c8ab4",
   "metadata": {},
   "outputs": [],
   "source": [
    "Consider following code to answer further questions:\n",
    "import pandas as pd\n",
    "course_name = [‘Data Science’, ‘Machine Learning’, ‘Big Data’, ‘Data Engineer’]\n",
    "duration = [2,3,6,4]\n",
    "df = pd.DataFrame(data = {‘course_name’ : course_name, ‘duration’ : duration})"
   ]
  },
  {
   "cell_type": "code",
   "execution_count": null,
   "id": "e7ef150c-0e6d-4d7f-b29a-636b2ae1e945",
   "metadata": {},
   "outputs": [],
   "source": [
    "Q1. Write a code to print the data present in the second row of the dataframe, df."
   ]
  },
  {
   "cell_type": "code",
   "execution_count": 1,
   "id": "6a53d4c4-f6ea-4e67-b7b9-c89394de1da2",
   "metadata": {},
   "outputs": [],
   "source": [
    "import pandas as pd\n",
    "course_name = ['Data Science', 'Machine Learning', 'Big Data', 'Data Engineer']\n",
    "duration = [2,3,6,4]\n",
    "df = pd.DataFrame(data = {'course_name' : course_name, 'duration' : duration})"
   ]
  },
  {
   "cell_type": "code",
   "execution_count": 2,
   "id": "de0606c3-26e3-4746-bbad-df9c2d01f85c",
   "metadata": {},
   "outputs": [
    {
     "data": {
      "text/html": [
       "<div>\n",
       "<style scoped>\n",
       "    .dataframe tbody tr th:only-of-type {\n",
       "        vertical-align: middle;\n",
       "    }\n",
       "\n",
       "    .dataframe tbody tr th {\n",
       "        vertical-align: top;\n",
       "    }\n",
       "\n",
       "    .dataframe thead th {\n",
       "        text-align: right;\n",
       "    }\n",
       "</style>\n",
       "<table border=\"1\" class=\"dataframe\">\n",
       "  <thead>\n",
       "    <tr style=\"text-align: right;\">\n",
       "      <th></th>\n",
       "      <th>course_name</th>\n",
       "      <th>duration</th>\n",
       "    </tr>\n",
       "  </thead>\n",
       "  <tbody>\n",
       "    <tr>\n",
       "      <th>2</th>\n",
       "      <td>Big Data</td>\n",
       "      <td>6</td>\n",
       "    </tr>\n",
       "  </tbody>\n",
       "</table>\n",
       "</div>"
      ],
      "text/plain": [
       "  course_name  duration\n",
       "2    Big Data         6"
      ]
     },
     "execution_count": 2,
     "metadata": {},
     "output_type": "execute_result"
    }
   ],
   "source": [
    "df.iloc[2:3]"
   ]
  },
  {
   "cell_type": "code",
   "execution_count": null,
   "id": "06e71e9d-8b38-4e58-a9dd-4196236d8521",
   "metadata": {},
   "outputs": [],
   "source": [
    "Q2. What is the difference between the functions loc and iloc in pandas.DataFrame?"
   ]
  },
  {
   "cell_type": "code",
   "execution_count": null,
   "id": "cf6107f8-5e85-4174-9cf8-4159bc090162",
   "metadata": {},
   "outputs": [],
   "source": [
    "ans]in loc we have to the indexes which appear to us not to pandas but iloc it takes the integers which are set by default"
   ]
  },
  {
   "cell_type": "code",
   "execution_count": null,
   "id": "2b22b757-cff2-41e6-83b6-792613de9d5a",
   "metadata": {},
   "outputs": [],
   "source": [
    "Q3. Reindex the given dataframe using a variable, reindex = [3,0,1,2] and store it in the variable, new_df\n",
    "then find the output for both new_df.loc[2] and new_df.iloc[2]."
   ]
  },
  {
   "cell_type": "code",
   "execution_count": 10,
   "id": "8e32ebd9-85ef-48ea-a6a2-ed6c32f1a342",
   "metadata": {},
   "outputs": [],
   "source": [
    "import pandas as pd\n",
    "course_name = ['Data Science', 'Machine Learning', 'Big Data', 'Data Engineer']\n",
    "duration = [2,3,6,4]\n",
    "df = pd.DataFrame(data = {'course_name' : course_name, 'duration' : duration})"
   ]
  },
  {
   "cell_type": "code",
   "execution_count": 13,
   "id": "d0ad8fa6-8ac7-434c-8cf1-70a50132abf5",
   "metadata": {},
   "outputs": [],
   "source": [
    "new_df = df.reindex(index = [3,0,1,2])"
   ]
  },
  {
   "cell_type": "code",
   "execution_count": 14,
   "id": "1f35b466-0ff2-4bfa-bee5-e6096ab4532e",
   "metadata": {},
   "outputs": [
    {
     "data": {
      "text/plain": [
       "course_name    Big Data\n",
       "duration              6\n",
       "Name: 2, dtype: object"
      ]
     },
     "execution_count": 14,
     "metadata": {},
     "output_type": "execute_result"
    }
   ],
   "source": [
    "new_df.loc[2]"
   ]
  },
  {
   "cell_type": "code",
   "execution_count": 15,
   "id": "1f41bd74-2c6a-4d38-ae4d-868506ed2547",
   "metadata": {},
   "outputs": [
    {
     "data": {
      "text/plain": [
       "course_name    Machine Learning\n",
       "duration                      3\n",
       "Name: 1, dtype: object"
      ]
     },
     "execution_count": 15,
     "metadata": {},
     "output_type": "execute_result"
    }
   ],
   "source": [
    "new_df.iloc[2]"
   ]
  },
  {
   "cell_type": "code",
   "execution_count": null,
   "id": "13e72b8a-0a18-4fde-b1f3-692556d232b4",
   "metadata": {},
   "outputs": [],
   "source": [
    "there is different in the output :\n",
    "explanation : the output is different because loc takes the index which are seen to naked eyes but iloc takes the index\n",
    "which are set by default so when we give loc[2] it takes the fourth row and in case of iloc[2] it takes the third row "
   ]
  },
  {
   "cell_type": "code",
   "execution_count": null,
   "id": "8d764373-ea1e-4381-be24-163c6c5b8203",
   "metadata": {},
   "outputs": [],
   "source": [
    "Consider the below code to answer further questions:\n",
    "import pandas as pd\n",
    "import numpy as np\n",
    "columns = ['column_1', 'column_2', 'column_3', 'column_4', 'column_5', 'column_6']\n",
    "indices = [1,2,3,4,5,6]\n",
    "#Creating a dataframe:\n",
    "df1 = pd.DataFrame(np.random.rand(6,6), columns = columns, index = indices)"
   ]
  },
  {
   "cell_type": "code",
   "execution_count": null,
   "id": "13915b0d-f03b-4122-88a2-0075ce9e3cb6",
   "metadata": {},
   "outputs": [],
   "source": [
    "Q4. Write a code to find the following statistical measurements for the above dataframe df1:\n",
    "(i) mean of each and every column present in the dataframe.\n",
    "(ii) standard deviation of column, ‘column_2’"
   ]
  },
  {
   "cell_type": "code",
   "execution_count": 2,
   "id": "8f739ac7-bf2b-486f-925e-1487747da899",
   "metadata": {},
   "outputs": [],
   "source": [
    "import pandas as pd\n",
    "import numpy as np\n",
    "columns = ['column_1', 'column_2', 'column_3', 'column_4', 'column_5', 'column_6']\n",
    "indices = [1,2,3,4,5,6]\n",
    "#Creating a dataframe:\n",
    "df1 = pd.DataFrame(np.random.rand(6,6), columns = columns, index = indices)"
   ]
  },
  {
   "cell_type": "code",
   "execution_count": 28,
   "id": "2588ceab-1cb1-44b0-883c-1dd2dce79dd6",
   "metadata": {},
   "outputs": [
    {
     "data": {
      "text/plain": [
       "column_1    0.516804\n",
       "column_2    0.595592\n",
       "column_3    0.575342\n",
       "column_4    0.557878\n",
       "column_5    0.495985\n",
       "column_6    0.469733\n",
       "dtype: float64"
      ]
     },
     "execution_count": 28,
     "metadata": {},
     "output_type": "execute_result"
    }
   ],
   "source": [
    "df1.mean()"
   ]
  },
  {
   "cell_type": "code",
   "execution_count": 25,
   "id": "66b32a50-c2cd-42cc-ac31-28ed75055479",
   "metadata": {},
   "outputs": [
    {
     "data": {
      "text/plain": [
       "0.2789446215207804"
      ]
     },
     "execution_count": 25,
     "metadata": {},
     "output_type": "execute_result"
    }
   ],
   "source": [
    "df1[\"column_2\"].std()"
   ]
  },
  {
   "cell_type": "code",
   "execution_count": null,
   "id": "6ad32470-4598-45a2-9d9d-94c3e9dad982",
   "metadata": {},
   "outputs": [],
   "source": [
    "Q5. Replace the data present in the second row of column, ‘column_2’ by a string variable then find the\n",
    "mean of column, column_2.\n",
    "If you are getting errors in executing it then explain why.\n",
    "[Hint: To replace the data use df1.loc[] and equate this to string data of your choice.]"
   ]
  },
  {
   "cell_type": "code",
   "execution_count": 29,
   "id": "bcaa44e5-c765-46b1-a3a4-ba775dbcaa2a",
   "metadata": {},
   "outputs": [
    {
     "data": {
      "text/html": [
       "<div>\n",
       "<style scoped>\n",
       "    .dataframe tbody tr th:only-of-type {\n",
       "        vertical-align: middle;\n",
       "    }\n",
       "\n",
       "    .dataframe tbody tr th {\n",
       "        vertical-align: top;\n",
       "    }\n",
       "\n",
       "    .dataframe thead th {\n",
       "        text-align: right;\n",
       "    }\n",
       "</style>\n",
       "<table border=\"1\" class=\"dataframe\">\n",
       "  <thead>\n",
       "    <tr style=\"text-align: right;\">\n",
       "      <th></th>\n",
       "      <th>column_1</th>\n",
       "      <th>column_2</th>\n",
       "      <th>column_3</th>\n",
       "      <th>column_4</th>\n",
       "      <th>column_5</th>\n",
       "      <th>column_6</th>\n",
       "    </tr>\n",
       "  </thead>\n",
       "  <tbody>\n",
       "    <tr>\n",
       "      <th>1</th>\n",
       "      <td>0.575767</td>\n",
       "      <td>0.250564</td>\n",
       "      <td>0.430903</td>\n",
       "      <td>0.960844</td>\n",
       "      <td>0.521662</td>\n",
       "      <td>0.060345</td>\n",
       "    </tr>\n",
       "    <tr>\n",
       "      <th>2</th>\n",
       "      <td>0.296894</td>\n",
       "      <td>0.312672</td>\n",
       "      <td>0.906160</td>\n",
       "      <td>0.980330</td>\n",
       "      <td>0.236443</td>\n",
       "      <td>0.502814</td>\n",
       "    </tr>\n",
       "    <tr>\n",
       "      <th>3</th>\n",
       "      <td>0.551088</td>\n",
       "      <td>0.567563</td>\n",
       "      <td>0.176942</td>\n",
       "      <td>0.166723</td>\n",
       "      <td>0.222251</td>\n",
       "      <td>0.420081</td>\n",
       "    </tr>\n",
       "    <tr>\n",
       "      <th>4</th>\n",
       "      <td>0.683411</td>\n",
       "      <td>0.976326</td>\n",
       "      <td>0.729718</td>\n",
       "      <td>0.048390</td>\n",
       "      <td>0.680056</td>\n",
       "      <td>0.987191</td>\n",
       "    </tr>\n",
       "    <tr>\n",
       "      <th>5</th>\n",
       "      <td>0.403771</td>\n",
       "      <td>0.789514</td>\n",
       "      <td>0.316886</td>\n",
       "      <td>0.616087</td>\n",
       "      <td>0.741081</td>\n",
       "      <td>0.300122</td>\n",
       "    </tr>\n",
       "    <tr>\n",
       "      <th>6</th>\n",
       "      <td>0.589894</td>\n",
       "      <td>0.676912</td>\n",
       "      <td>0.891441</td>\n",
       "      <td>0.574894</td>\n",
       "      <td>0.574418</td>\n",
       "      <td>0.547847</td>\n",
       "    </tr>\n",
       "  </tbody>\n",
       "</table>\n",
       "</div>"
      ],
      "text/plain": [
       "   column_1  column_2  column_3  column_4  column_5  column_6\n",
       "1  0.575767  0.250564  0.430903  0.960844  0.521662  0.060345\n",
       "2  0.296894  0.312672  0.906160  0.980330  0.236443  0.502814\n",
       "3  0.551088  0.567563  0.176942  0.166723  0.222251  0.420081\n",
       "4  0.683411  0.976326  0.729718  0.048390  0.680056  0.987191\n",
       "5  0.403771  0.789514  0.316886  0.616087  0.741081  0.300122\n",
       "6  0.589894  0.676912  0.891441  0.574894  0.574418  0.547847"
      ]
     },
     "execution_count": 29,
     "metadata": {},
     "output_type": "execute_result"
    }
   ],
   "source": [
    "df1"
   ]
  },
  {
   "cell_type": "code",
   "execution_count": 33,
   "id": "38043a76-8580-4034-a9e3-c0e203a9e603",
   "metadata": {},
   "outputs": [],
   "source": [
    "df1.loc[2:2]=[0.683411\t,0.976326,\t0.729718,\t0.048390,\t0.680056,\t0.987191]"
   ]
  },
  {
   "cell_type": "code",
   "execution_count": 49,
   "id": "cc89f830-c8a9-4a41-b4e0-f3ccf19cacc9",
   "metadata": {},
   "outputs": [
    {
     "data": {
      "text/plain": [
       "2    0.684182\n",
       "dtype: float64"
      ]
     },
     "execution_count": 49,
     "metadata": {},
     "output_type": "execute_result"
    }
   ],
   "source": [
    "df1.loc[2:2].mean(axis = 1)"
   ]
  },
  {
   "cell_type": "code",
   "execution_count": null,
   "id": "73c8438a-3709-4b7a-8ca1-83f149df2247",
   "metadata": {},
   "outputs": [],
   "source": [
    "Q6. What do you understand about the windows function in pandas and list the types of windows\n",
    "functions?"
   ]
  },
  {
   "cell_type": "code",
   "execution_count": null,
   "id": "2a09faa2-3e6e-4403-93da-b8e2576d707c",
   "metadata": {},
   "outputs": [],
   "source": [
    "ans]window function is used when we have to apply command in group like sum or mean \n",
    "1.aggregate\n",
    "2.ranking\n",
    "3.value"
   ]
  },
  {
   "cell_type": "code",
   "execution_count": null,
   "id": "e9ad0a7a-0f00-4bc7-a021-ebb50e284148",
   "metadata": {},
   "outputs": [],
   "source": [
    "Q7. Write a code to print only the current month and year at the time of answering this question.\n",
    "[Hint: Use pandas.datetime function]"
   ]
  },
  {
   "cell_type": "code",
   "execution_count": 30,
   "id": "c48f88f1-cc5e-492d-95ec-e31a947cd7d6",
   "metadata": {},
   "outputs": [],
   "source": [
    "data = pd.date_range(start = \"2023-03-10\",end=\"2023-03-20\")"
   ]
  },
  {
   "cell_type": "code",
   "execution_count": 31,
   "id": "885dc975-d46d-4cc6-a798-4b65911f17de",
   "metadata": {},
   "outputs": [],
   "source": [
    "date = pd.DataFrame({'date':data})"
   ]
  },
  {
   "cell_type": "code",
   "execution_count": 32,
   "id": "d0c10c4e-1307-4d94-bc7d-c9c7875c06cd",
   "metadata": {},
   "outputs": [],
   "source": [
    "date[\"updated_dates\"]=pd.to_datetime(date[\"date\"])"
   ]
  },
  {
   "cell_type": "code",
   "execution_count": 38,
   "id": "1174a86a-0dde-4793-bb68-0a0bcee912e0",
   "metadata": {},
   "outputs": [],
   "source": [
    "date[\"month\"]=date[\"updated_dates\"].dt.month"
   ]
  },
  {
   "cell_type": "code",
   "execution_count": 39,
   "id": "f33ee562-abc1-4876-8187-2e30bb6b468f",
   "metadata": {},
   "outputs": [],
   "source": [
    "date[\"day\"]=date[\"updated_dates\"].dt.day"
   ]
  },
  {
   "cell_type": "code",
   "execution_count": 40,
   "id": "c070089c-b750-43c5-8aa5-5024a131f8bc",
   "metadata": {},
   "outputs": [
    {
     "data": {
      "text/html": [
       "<div>\n",
       "<style scoped>\n",
       "    .dataframe tbody tr th:only-of-type {\n",
       "        vertical-align: middle;\n",
       "    }\n",
       "\n",
       "    .dataframe tbody tr th {\n",
       "        vertical-align: top;\n",
       "    }\n",
       "\n",
       "    .dataframe thead th {\n",
       "        text-align: right;\n",
       "    }\n",
       "</style>\n",
       "<table border=\"1\" class=\"dataframe\">\n",
       "  <thead>\n",
       "    <tr style=\"text-align: right;\">\n",
       "      <th></th>\n",
       "      <th>date</th>\n",
       "      <th>updated_dates</th>\n",
       "      <th>month</th>\n",
       "      <th>day</th>\n",
       "    </tr>\n",
       "  </thead>\n",
       "  <tbody>\n",
       "    <tr>\n",
       "      <th>0</th>\n",
       "      <td>2023-03-10</td>\n",
       "      <td>2023-03-10</td>\n",
       "      <td>3</td>\n",
       "      <td>10</td>\n",
       "    </tr>\n",
       "    <tr>\n",
       "      <th>1</th>\n",
       "      <td>2023-03-11</td>\n",
       "      <td>2023-03-11</td>\n",
       "      <td>3</td>\n",
       "      <td>11</td>\n",
       "    </tr>\n",
       "    <tr>\n",
       "      <th>2</th>\n",
       "      <td>2023-03-12</td>\n",
       "      <td>2023-03-12</td>\n",
       "      <td>3</td>\n",
       "      <td>12</td>\n",
       "    </tr>\n",
       "    <tr>\n",
       "      <th>3</th>\n",
       "      <td>2023-03-13</td>\n",
       "      <td>2023-03-13</td>\n",
       "      <td>3</td>\n",
       "      <td>13</td>\n",
       "    </tr>\n",
       "    <tr>\n",
       "      <th>4</th>\n",
       "      <td>2023-03-14</td>\n",
       "      <td>2023-03-14</td>\n",
       "      <td>3</td>\n",
       "      <td>14</td>\n",
       "    </tr>\n",
       "    <tr>\n",
       "      <th>5</th>\n",
       "      <td>2023-03-15</td>\n",
       "      <td>2023-03-15</td>\n",
       "      <td>3</td>\n",
       "      <td>15</td>\n",
       "    </tr>\n",
       "    <tr>\n",
       "      <th>6</th>\n",
       "      <td>2023-03-16</td>\n",
       "      <td>2023-03-16</td>\n",
       "      <td>3</td>\n",
       "      <td>16</td>\n",
       "    </tr>\n",
       "    <tr>\n",
       "      <th>7</th>\n",
       "      <td>2023-03-17</td>\n",
       "      <td>2023-03-17</td>\n",
       "      <td>3</td>\n",
       "      <td>17</td>\n",
       "    </tr>\n",
       "    <tr>\n",
       "      <th>8</th>\n",
       "      <td>2023-03-18</td>\n",
       "      <td>2023-03-18</td>\n",
       "      <td>3</td>\n",
       "      <td>18</td>\n",
       "    </tr>\n",
       "    <tr>\n",
       "      <th>9</th>\n",
       "      <td>2023-03-19</td>\n",
       "      <td>2023-03-19</td>\n",
       "      <td>3</td>\n",
       "      <td>19</td>\n",
       "    </tr>\n",
       "    <tr>\n",
       "      <th>10</th>\n",
       "      <td>2023-03-20</td>\n",
       "      <td>2023-03-20</td>\n",
       "      <td>3</td>\n",
       "      <td>20</td>\n",
       "    </tr>\n",
       "  </tbody>\n",
       "</table>\n",
       "</div>"
      ],
      "text/plain": [
       "         date updated_dates  month  day\n",
       "0  2023-03-10    2023-03-10      3   10\n",
       "1  2023-03-11    2023-03-11      3   11\n",
       "2  2023-03-12    2023-03-12      3   12\n",
       "3  2023-03-13    2023-03-13      3   13\n",
       "4  2023-03-14    2023-03-14      3   14\n",
       "5  2023-03-15    2023-03-15      3   15\n",
       "6  2023-03-16    2023-03-16      3   16\n",
       "7  2023-03-17    2023-03-17      3   17\n",
       "8  2023-03-18    2023-03-18      3   18\n",
       "9  2023-03-19    2023-03-19      3   19\n",
       "10 2023-03-20    2023-03-20      3   20"
      ]
     },
     "execution_count": 40,
     "metadata": {},
     "output_type": "execute_result"
    }
   ],
   "source": [
    "date"
   ]
  },
  {
   "cell_type": "code",
   "execution_count": null,
   "id": "8d26db8f-7b66-4eec-a780-98514a13a3ec",
   "metadata": {},
   "outputs": [],
   "source": [
    "Q8. Write a Python program that takes in two dates as input (in the format YYYY-MM-DD) and\n",
    "calculates the difference between them in days, hours, and minutes using Pandas time delta. The\n",
    "program should prompt the user to enter the dates and display the result."
   ]
  },
  {
   "cell_type": "code",
   "execution_count": 7,
   "id": "f25445c7-2b36-4271-9e60-b5bd7acae4b4",
   "metadata": {},
   "outputs": [
    {
     "name": "stdin",
     "output_type": "stream",
     "text": [
      "enter date  YYYY-MM-DD 2023-02-23\n",
      "enter date  YYYY-MM-DD 2023-12-12\n"
     ]
    },
    {
     "name": "stdout",
     "output_type": "stream",
     "text": [
      "292 days 00:00:00\n"
     ]
    }
   ],
   "source": [
    "input1 = input(\"enter date  YYYY-MM-DD\")\n",
    "input2 = input(\"enter date  YYYY-MM-DD\")\n",
    "\n",
    "td1 = pd.to_datetime(input1)\n",
    "td2 = pd.to_datetime(input2)\n",
    "print(td2-td1)"
   ]
  },
  {
   "cell_type": "code",
   "execution_count": null,
   "id": "677089ad-1299-453b-b8d6-e16c679d0ec1",
   "metadata": {},
   "outputs": [],
   "source": [
    "Q9. Write a Python program that reads a CSV file containing categorical data and converts a specified\n",
    "column to a categorical data type. The program should prompt the user to enter the file path, column\n",
    "name, and category order, and then display the sorted data."
   ]
  },
  {
   "cell_type": "code",
   "execution_count": null,
   "id": "6b081f36-d75c-49f2-b0a5-570290e1cf48",
   "metadata": {},
   "outputs": [],
   "source": [
    "file_path = str(input(\"enter file path for eg name of file.csv\"))\n",
    "column_name = str(input(\"enter column name\"))\n",
    "category_order = input(\"enter order of category true or false\")\n",
    "\n",
    "file = pd.read_csv(file_path)\n",
    "pd.Categorical(file[column_name])"
   ]
  },
  {
   "cell_type": "code",
   "execution_count": null,
   "id": "b2a85678-a173-4bd3-b827-875be85cc147",
   "metadata": {},
   "outputs": [],
   "source": [
    "Q10. Write a Python program that reads a CSV file containing sales data for different products and\n",
    "visualizes the data using a stacked bar chart to show the sales of each product category over time. The\n",
    "program should prompt the user to enter the file path and display the chart."
   ]
  },
  {
   "cell_type": "code",
   "execution_count": null,
   "id": "1af0bba8-cc5d-4032-b3a0-f59f4fa37518",
   "metadata": {},
   "outputs": [],
   "source": [
    "file_path = str(input(\"enter file path for eg name of file.csv\"))\n",
    "file = pd.read_csv(file_path)\n",
    "file.plot.bar(x=\"time\",t=\"sales\")"
   ]
  },
  {
   "cell_type": "code",
   "execution_count": null,
   "id": "d08d439a-d91a-497b-9108-dd958dec4148",
   "metadata": {},
   "outputs": [],
   "source": [
    "Q11. You are given a CSV file containing student data that includes the student ID and their test score. Write\n",
    "a Python program that reads the CSV file, calculates the mean, median, and mode of the test scores, and\n",
    "displays the results in a table."
   ]
  },
  {
   "cell_type": "code",
   "execution_count": null,
   "id": "0b63600f-9caa-4f8b-9a5c-34bdc2b83d29",
   "metadata": {},
   "outputs": [],
   "source": [
    "file_path = str(input(\"enter file path for eg name of file.csv\"))\n",
    "file = pd.read_csv(file_path)\n",
    "mean = file[\"test_score\"].mean()\n",
    "mode = file[\"test_score\"].mode()\n",
    "median = file[\"test_score\"].median()\n",
    "pd.DataFrame({\"statistic_value\":[\"mean\",\"mode\",\"median\"],\"value\":[mean,mode,median]})"
   ]
  }
 ],
 "metadata": {
  "kernelspec": {
   "display_name": "Python 3 (ipykernel)",
   "language": "python",
   "name": "python3"
  },
  "language_info": {
   "codemirror_mode": {
    "name": "ipython",
    "version": 3
   },
   "file_extension": ".py",
   "mimetype": "text/x-python",
   "name": "python",
   "nbconvert_exporter": "python",
   "pygments_lexer": "ipython3",
   "version": "3.10.8"
  }
 },
 "nbformat": 4,
 "nbformat_minor": 5
}
