{
 "cells": [
  {
   "cell_type": "code",
   "execution_count": null,
   "id": "13e73663-836d-4719-91dd-4fe873051ee2",
   "metadata": {},
   "outputs": [],
   "source": [
    "Q1. Write a Python function that takes in two arrays of data and calculates the F-value for a variance ratio\n",
    "test. The function should return the F-value and the corresponding p-value for the test."
   ]
  },
  {
   "cell_type": "code",
   "execution_count": null,
   "id": "6af59498-57cd-48ad-8c83-a641ee3c4db9",
   "metadata": {},
   "outputs": [],
   "source": [
    "import numpy as np\n",
    "import scipy.stats\n",
    "  \n",
    "# Create data\n",
    "group1 = []\n",
    "group2 = []\n",
    "  \n",
    "# converting the list to array\n",
    "x = np.array(group1)\n",
    "y = np.array(group2)\n",
    "  \n",
    "# calculate variance of each group\n",
    "print(np.var(group1), np.var(group2))\n",
    "  \n",
    "def f_test(group1, group2):\n",
    "    f = np.var(group1, ddof=1)/np.var(group2, ddof=1)\n",
    "    nun = x.size-1\n",
    "    dun = y.size-1\n",
    "    p_value = 1-scipy.stats.f.cdf(f, nun, dun)\n",
    "    return f, p_value\n",
    "  \n",
    "# perform F-test\n",
    "f_test(x, y)"
   ]
  },
  {
   "cell_type": "code",
   "execution_count": null,
   "id": "0b1b3ba2-203e-4373-90c0-79e22ea026dc",
   "metadata": {},
   "outputs": [],
   "source": [
    "Q2. Given a significance level of 0.05 and the degrees of freedom for the numerator and denominator of an\n",
    "F-distribution, write a Python function that returns the critical F-value for a two-tailed test."
   ]
  },
  {
   "cell_type": "code",
   "execution_count": null,
   "id": "f70a7132-2cdd-4c32-a1ce-bfe2ab4bcec8",
   "metadata": {},
   "outputs": [],
   "source": [
    "from scipy.stats import f\n",
    "\n",
    "def critical_f_value(df_num, df_denom, alpha=0.05):\n",
    "    \"\"\"\n",
    "    Returns the critical F-value for a two-tailed test given the degrees of freedom\n",
    "    for the numerator and denominator of an F-distribution and the significance level.\n",
    "    \"\"\"\n",
    "    return f.ppf(1 - alpha/2, df_num, df_denom)"
   ]
  },
  {
   "cell_type": "code",
   "execution_count": null,
   "id": "0e44e9be-6a36-43f2-8aaf-de33dbe8abb2",
   "metadata": {},
   "outputs": [],
   "source": [
    "Q3. Write a Python program that generates random samples from two normal distributions with known\n",
    "variances and uses an F-test to determine if the variances are equal. The program should output the F-\n",
    "value, degrees of freedom, and p-value for the test."
   ]
  },
  {
   "cell_type": "code",
   "execution_count": null,
   "id": "2783c354-5aa1-4aa0-b12e-b5a6def5061d",
   "metadata": {},
   "outputs": [],
   "source": [
    "import numpy as np\n",
    "from scipy.stats import f\n",
    "\n",
    "# Generate random samples\n",
    "n1 = 20\n",
    "n2 = 25\n",
    "mu1 = 0\n",
    "mu2 = 0\n",
    "sigma1 = 2\n",
    "sigma2 = 2\n",
    "sample1 = np.random.normal(mu1, sigma1, n1)\n",
    "sample2 = np.random.normal(mu2, sigma2, n2)\n",
    "\n",
    "# Calculate F-statistic and p-value\n",
    "f_statistic = np.var(sample1, ddof=1) / np.var(sample2, ddof=1)\n",
    "dfn = n1 - 1\n",
    "dfd = n2 - 1\n",
    "p_value = 2 * min(f.cdf(f_statistic, dfn, dfd), 1 - f.cdf(f_statistic, dfn, dfd))\n",
    "\n",
    "# Print results\n",
    "print(\"F-value:\", f_statistic)\n",
    "print(\"Degrees of freedom (numerator, denominator):\", dfn, \",\", dfd)\n",
    "print(\"p-value:\", p_value)"
   ]
  },
  {
   "cell_type": "code",
   "execution_count": null,
   "id": "8e0d9847-0583-491d-b267-63e6b6ce59de",
   "metadata": {},
   "outputs": [],
   "source": [
    "Q4.The variances of two populations are known to be 10 and 15. A sample of 12 observations is taken from\n",
    "each population. Conduct an F-test at the 5% significance level to determine if the variances are\n",
    "significantly different."
   ]
  },
  {
   "cell_type": "code",
   "execution_count": 2,
   "id": "5e11d36d-8fed-4683-96f3-151325081b0a",
   "metadata": {},
   "outputs": [],
   "source": [
    "from scipy.stats import f\n",
    "\n",
    "def critical_f_value(df_num, df_denom, alpha=0.05):\n",
    "    \"\"\"\n",
    "    Returns the critical F-value for a two-tailed test given the degrees of freedom\n",
    "    for the numerator and denominator of an F-distribution and the significance level.\n",
    "    \"\"\"\n",
    "    return f.ppf(1 - alpha/2, df_num, df_denom)"
   ]
  },
  {
   "cell_type": "code",
   "execution_count": 3,
   "id": "c7693cae-913d-4d83-928b-5f0b48527a0e",
   "metadata": {},
   "outputs": [
    {
     "data": {
      "text/plain": [
       "3.473699051085809"
      ]
     },
     "execution_count": 3,
     "metadata": {},
     "output_type": "execute_result"
    }
   ],
   "source": [
    "critical_f_value(11,11)"
   ]
  },
  {
   "cell_type": "code",
   "execution_count": 4,
   "id": "fa6f4ec1-4170-421f-8610-bf535147cffb",
   "metadata": {},
   "outputs": [
    {
     "name": "stdout",
     "output_type": "stream",
     "text": [
      "The variances are not significantly different.\n",
      "F-value: 0.3482364119714656\n",
      "Degrees of freedom (numerator, denominator): 11 , 11\n",
      "p-value: 0.09421051161491543\n"
     ]
    }
   ],
   "source": [
    "import numpy as np\n",
    "from scipy.stats import f\n",
    "\n",
    "# Define population variances\n",
    "var1 = 10\n",
    "var2 = 15\n",
    "\n",
    "# Generate random samples\n",
    "n1 = 12\n",
    "n2 = 12\n",
    "mu1 = 0\n",
    "mu2 = 0\n",
    "sigma1 = np.sqrt(var1)\n",
    "sigma2 = np.sqrt(var2)\n",
    "sample1 = np.random.normal(mu1, sigma1, n1)\n",
    "sample2 = np.random.normal(mu2, sigma2, n2)\n",
    "\n",
    "# Calculate F-statistic and p-value\n",
    "f_statistic = np.var(sample1, ddof=1) / np.var(sample2, ddof=1)\n",
    "dfn = n1 - 1\n",
    "dfd = n2 - 1\n",
    "p_value = 2 * min(f.cdf(f_statistic, dfn, dfd), 1 - f.cdf(f_statistic, dfn, dfd))\n",
    "\n",
    "# Define significance level\n",
    "alpha = 0.05\n",
    "\n",
    "# Determine if the variances are significantly different\n",
    "if p_value < alpha:\n",
    "    print(\"The variances are significantly different.\")\n",
    "else:\n",
    "    print(\"The variances are not significantly different.\")\n",
    "\n",
    "# Print results\n",
    "print(\"F-value:\", f_statistic)\n",
    "print(\"Degrees of freedom (numerator, denominator):\", dfn, \",\", dfd)\n",
    "print(\"p-value:\", p_value)"
   ]
  },
  {
   "cell_type": "code",
   "execution_count": null,
   "id": "3cce75de-3779-4e7a-9034-c614e351571f",
   "metadata": {},
   "outputs": [],
   "source": [
    "Q5. A manufacturer claims that the variance of the diameter of a certain product is 0.005. A sample of 25\n",
    "products is taken, and the sample variance is found to be 0.006. Conduct an F-test at the 1% significance\n",
    "level to determine if the claim is justified."
   ]
  },
  {
   "cell_type": "code",
   "execution_count": null,
   "id": "2b68ec85-0e65-468f-87b7-0d52bbbea961",
   "metadata": {},
   "outputs": [],
   "source": [
    "The null hypothesis is that the population variance is equal to 0.005:\n",
    "\n",
    "H0: σ² = 0.005\n",
    "\n",
    "The alternative hypothesis is that the population variance is greater than 0.005:\n",
    "\n",
    "Ha: σ² > 0.005\n",
    "\n",
    "We will use the F-test to compare the sample variance to the population variance under the assumption that the \n",
    "population is normally distributed. The test statistic for the F-test is:\n",
    "\n",
    "F = (s² / σ²)\n",
    "\n",
    "Where s² is the sample variance and σ² is the population variance.\n",
    "\n",
    "Under the null hypothesis, the F-statistic follows an F-distribution with degrees of freedom (df1 = n - 1) and (df2 = ∞).\n",
    "\n",
    "At the 1% significance level and with 24 degrees of freedom (25 - 1), the critical value of the F-distribution is:\n",
    "\n",
    "Fcrit = 4.317\n",
    "\n",
    "The calculated F-statistic is:\n",
    "\n",
    "Fcalc = (0.006 / 0.005) = 1.2\n",
    "\n",
    "Since Fcalc < Fcrit, we fail to reject the null hypothesis.\n",
    "There is not enough evidence to conclude that the population variance is greater than 0.005. \n",
    "Therefore, the manufacturer's claim is justified at the 1% significance level."
   ]
  },
  {
   "cell_type": "code",
   "execution_count": null,
   "id": "fd169744-4bbb-4290-8267-002988595f48",
   "metadata": {},
   "outputs": [],
   "source": [
    "Q6. Write a Python function that takes in the degrees of freedom for the numerator and denominator of an\n",
    "F-distribution and calculates the mean and variance of the distribution. The function should return the\n",
    "mean and variance as a tuple."
   ]
  },
  {
   "cell_type": "code",
   "execution_count": null,
   "id": "4fc05ddf-c971-4c8c-82f7-a33e2ce8180a",
   "metadata": {},
   "outputs": [],
   "source": [
    "def f_distribution_mean_and_var(df1, df2):\n",
    "    mean = df2 / (df2 - 2)\n",
    "    variance = (2 * (df2 ** 2) * (df1 + df2 - 2)) / (df1 * (df2 - 2) ** 2 * (df2 - 4))\n",
    "    return mean, variance"
   ]
  },
  {
   "cell_type": "code",
   "execution_count": null,
   "id": "de41256c-b48d-4f76-99d3-99b84e137122",
   "metadata": {},
   "outputs": [],
   "source": [
    "Q7. A random sample of 10 measurements is taken from a normal population with unknown variance. The\n",
    "sample variance is found to be 25. Another random sample of 15 measurements is taken from another\n",
    "normal population with unknown variance, and the sample variance is found to be 20. Conduct an F-test\n",
    "at the 10% significance level to determine if the variances are significantly different."
   ]
  },
  {
   "cell_type": "code",
   "execution_count": null,
   "id": "429fa34d-092c-47b4-b1d6-6a31364916bd",
   "metadata": {},
   "outputs": [],
   "source": [
    "In this problem, we want to test if the variances of two normal populations are significantly different.\n",
    "We have a random sample of 10 measurements from one population with a sample variance of 25, and a random \n",
    "sample of 15 measurements from another population with a sample variance of 20. We will conduct an F-test at\n",
    "the 10% significance level to determine if the variances are significantly different.\n",
    "\n",
    "The null hypothesis is that the variances of the two populations are equal:\n",
    "\n",
    "H0: σ₁² = σ₂²\n",
    "\n",
    "The alternative hypothesis is that the variances of the two populations are not equal:\n",
    "\n",
    "Ha: σ₁² ≠ σ₂²\n",
    "\n",
    "We will use the F-test to compare the two sample variances, assuming that the two populations are normally\n",
    "distributed and independent. The test statistic for the F-test is:\n",
    "\n",
    "F = (s₁² / s₂²)\n",
    "\n",
    "Where s₁² and s₂² are the sample variances.\n",
    "\n",
    "Under the null hypothesis, the F-statistic follows an F-distribution with degrees of freedom (df1 = n₁ - 1) and (df2 = n₂ - 1).\n",
    "\n",
    "At the 10% significance level and with 9 and 14 degrees of freedom, the critical values of the F-distribution are:\n",
    "\n",
    "Fcrit1 = 0.328\n",
    "Fcrit2 = 3.325\n",
    "\n",
    "The calculated F-statistic is:\n",
    "\n",
    "Fcalc = (25 / 20) = 1.25\n",
    "\n",
    "Since Fcrit1 < Fcalc < Fcrit2, we fail to reject the null hypothesis.\n",
    "There is not enough evidence to conclude that the variances of the two populations \n",
    "are significantly different at the 10% significance level. Therefore, we can assume\n",
    "that the variances are equal."
   ]
  },
  {
   "cell_type": "code",
   "execution_count": null,
   "id": "ee7d879d-1d38-4677-b0bd-0afd0b8ae265",
   "metadata": {},
   "outputs": [],
   "source": [
    "Q8. The following data represent the waiting times in minutes at two different restaurants on a Saturday\n",
    "night: Restaurant A: 24, 25, 28, 23, 22, 20, 27; Restaurant B: 31, 33, 35, 30, 32, 36. Conduct an F-test at the 5%\n",
    "significance level to determine if the variances are significantly different."
   ]
  },
  {
   "cell_type": "code",
   "execution_count": null,
   "id": "e597a668-858b-49f4-b9c0-2b4c7ececa11",
   "metadata": {},
   "outputs": [],
   "source": [
    "In this problem, we want to test if the variances of two populations are significantly\n",
    "different based on waiting times at two different restaurants. The data for Restaurant A are: 24, 25, 28, 23, 22, 20, 27 and \n",
    "the data for Restaurant B are: 31, 33, 35, 30, 32, 36.\n",
    "\n",
    "We will conduct an F-test at the 5% significance level to determine if the variances are significantly different.\n",
    "\n",
    "The null hypothesis is that the variances of the two populations are equal:\n",
    "\n",
    "H0: σ₁² = σ₂²\n",
    "\n",
    "The alternative hypothesis is that the variances of the two populations are not equal:\n",
    "\n",
    "Ha: σ₁² ≠ σ₂²\n",
    "\n",
    "We will use the F-test to compare the two sample variances, assuming that the two populations are normally distributed and independent.\n",
    "\n",
    "The sample variance for Restaurant A is:\n",
    "\n",
    "s₁² = ((24-25.71)² + (25-25.71)² + (28-25.71)² + (23-25.71)² + (22-25.71)² + (20-25.71)² + (27-25.71)²) / (7-1) = 9.81\n",
    "\n",
    "The sample variance for Restaurant B is:\n",
    "\n",
    "s₂² = ((31-32.83)² + (33-32.83)² + (35-32.83)² + (30-32.83)² + (32-32.83)² + (36-32.83)²) / (6-1) = 8.69\n",
    "\n",
    "The F-statistic is:\n",
    "\n",
    "F = s₁² / s₂² = 9.81 / 8.69 = 1.13\n",
    "\n",
    "The degrees of freedom for the numerator is (n1-1) = 6, and for the denominator is (n2-1) = 5.\n",
    "\n",
    "Using an F-distribution table or calculator, the critical values for the F-statistic with 6 and 5 degrees of freedom\n",
    "at the 5% level of significance are Fcrit1 = 5.39 and Fcrit2 = 0.19, respectively.\n",
    "\n",
    "Since Fcrit2 < F < Fcrit1, we fail to reject the null hypothesis. There is not enough evidence to conclude that the\n",
    "variances of the two populations are significantly different at the 5% significance level. Therefore, we can assume \n",
    "that the variances are equal."
   ]
  },
  {
   "cell_type": "code",
   "execution_count": null,
   "id": "bf77cab3-70be-42bc-b87c-5e32c3a2188a",
   "metadata": {},
   "outputs": [],
   "source": [
    "Q9. The following data represent the test scores of two groups of students: Group A: 80, 85, 90, 92, 87, 83;\n",
    "Group B: 75, 78, 82, 79, 81, 84. Conduct an F-test at the 1% significance level to determine if the variances\n",
    "are significantly different."
   ]
  },
  {
   "cell_type": "code",
   "execution_count": null,
   "id": "958d6326-ea67-43e4-836d-443956fcd18a",
   "metadata": {},
   "outputs": [],
   "source": [
    "In this problem, we want to test if the variances of two populations are significantly different based on the \n",
    "test scores of two groups of students. The data for Group A are: 80, 85, 90, 92, 87, 83 and the data for\n",
    "Group B are: 75, 78, 82, 79, 81, 84.\n",
    "\n",
    "We will conduct an F-test at the 1% significance level to determine if the variances are significantly different.\n",
    "\n",
    "The null hypothesis is that the variances of the two populations are equal:\n",
    "\n",
    "H0: σ₁² = σ₂²\n",
    "\n",
    "The alternative hypothesis is that the variances of the two populations are not equal:\n",
    "\n",
    "Ha: σ₁² ≠ σ₂²\n",
    "\n",
    "We will use the F-test to compare the two sample variances, assuming that the two populations are normally distributed and independent.\n",
    "\n",
    "The sample variance for Group A is:\n",
    "\n",
    "s₁² = ((80-86.17)² + (85-86.17)² + (90-86.17)² + (92-86.17)² + (87-86.17)² + (83-86.17)²) / (6-1) = 23.8\n",
    "\n",
    "The sample variance for Group B is:\n",
    "\n",
    "s₂² = ((75-80)² + (78-80)² + (82-80)² + (79-80)² + (81-80)² + (84-80)²) / (6-1) = 8.8\n",
    "\n",
    "The F-statistic is:\n",
    "\n",
    "F = s₁² / s₂² = 23.8 / 8.8 = 2.70\n",
    "\n",
    "The degrees of freedom for the numerator is (n1-1) = 5, and for the denominator is (n2-1) = 5.\n",
    "\n",
    "Using an F-distribution table or calculator, the critical values for the F-statistic with 5 and 5 degrees \n",
    "of freedom at the 1% level of significance are Fcrit1 = 6.61 and Fcrit2 = 0.16, respectively.\n",
    "\n",
    "Since Fcrit2 < F < Fcrit1, we fail to reject the null hypothesis. There is not enough evidence to conclude \n",
    "that the variances of the two populations are significantly different at the 1% significance level. \n",
    "Therefore, we can assume that the variances are equal."
   ]
  }
 ],
 "metadata": {
  "kernelspec": {
   "display_name": "Python 3 (ipykernel)",
   "language": "python",
   "name": "python3"
  },
  "language_info": {
   "codemirror_mode": {
    "name": "ipython",
    "version": 3
   },
   "file_extension": ".py",
   "mimetype": "text/x-python",
   "name": "python",
   "nbconvert_exporter": "python",
   "pygments_lexer": "ipython3",
   "version": "3.10.8"
  }
 },
 "nbformat": 4,
 "nbformat_minor": 5
}
