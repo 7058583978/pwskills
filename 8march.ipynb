{
 "cells": [
  {
   "cell_type": "code",
   "execution_count": null,
   "id": "9692770a-385a-48f8-ab38-7fdb497246ba",
   "metadata": {},
   "outputs": [],
   "source": [
    "Q1. What is the Probability density function?"
   ]
  },
  {
   "cell_type": "code",
   "execution_count": null,
   "id": "a3e6fea9-8146-4e97-9efd-3126525d65e4",
   "metadata": {},
   "outputs": [],
   "source": [
    "ans] The Probability Density Function defines the probability function representing the density of a continuous \n",
    "random variable lying between a specific range of values. In other words, the probability density function \n",
    "produces the likelihood of values of the continuous random variable."
   ]
  },
  {
   "cell_type": "code",
   "execution_count": null,
   "id": "b9c17f6f-649d-4aa1-9c8a-da7db68ad235",
   "metadata": {},
   "outputs": [],
   "source": [
    "Q2. What are the types of Probability distribution?"
   ]
  },
  {
   "cell_type": "code",
   "execution_count": null,
   "id": "bf7a8f8a-97cd-4580-a8c7-c002d038d766",
   "metadata": {},
   "outputs": [],
   "source": [
    "ans]There are two types of probability distributions: \n",
    "1.Discrete probability distributions : A discrete probability distribution counts occurrences that have countable or finite outcomes.\n",
    "Discrete distributions contrast with continuous distributions, where outcomes can fall anywhere on a continuum. \n",
    "Common examples of discrete distribution include the binomial, Poisson, and Bernoulli distributions.\n",
    "\n",
    "2.Continuous probability distributions : Continuous probability distribution: A probability distribution in which the\n",
    "random variable X can take on any value (is continuous). Because there are infinite values that X could assume,\n",
    "the probability of X taking on any one specific value is zero. "
   ]
  },
  {
   "cell_type": "code",
   "execution_count": null,
   "id": "1e6b9c63-cb5b-48d3-861e-0fec001c9a37",
   "metadata": {},
   "outputs": [],
   "source": [
    "Q3. Write a Python function to calculate the probability density function of a normal distribution with\n",
    "given mean and standard deviation at a given point."
   ]
  },
  {
   "cell_type": "code",
   "execution_count": 2,
   "id": "2382188a-8e3a-4cbc-a2dc-fa63ec0e83da",
   "metadata": {},
   "outputs": [
    {
     "name": "stdout",
     "output_type": "stream",
     "text": [
      "0.00010637961815216474\n"
     ]
    }
   ],
   "source": [
    "#ans]\n",
    "from scipy.stats import norm\n",
    "import numpy as np\n",
    "  \n",
    "\n",
    "data = np.linspace(10,20,10)\n",
    "  \n",
    "mean = np.mean(data)\n",
    "std = np.std(data)\n",
    "  \n",
    "probability_pdf = norm.pdf(3, loc=mean, scale=std)\n",
    "print(probability_pdf)"
   ]
  },
  {
   "cell_type": "code",
   "execution_count": null,
   "id": "3d48a272-9b15-497c-9c80-2545d5fc3b06",
   "metadata": {},
   "outputs": [],
   "source": [
    "Q4. What are the properties of Binomial distribution? Give two examples of events where binomial\n",
    "distribution can be applied."
   ]
  },
  {
   "cell_type": "code",
   "execution_count": null,
   "id": "83ca6ee2-2b95-4b05-8fdd-1bb442f28491",
   "metadata": {},
   "outputs": [],
   "source": [
    "ans]\n",
    "There are two possible outcomes: true or false, success or failure, yes or no.\n",
    "There is 'n' number of independent trials or a fixed number of n times repeated trials.\n",
    "The probability of success or failure remains the same for each trial.\n",
    "\n",
    "examples : \n",
    "    1.tossing of a coin\n",
    "    2.result of student"
   ]
  },
  {
   "cell_type": "code",
   "execution_count": null,
   "id": "d0a63953-9fa3-4cc6-b036-4f410180df34",
   "metadata": {},
   "outputs": [],
   "source": [
    "Q5. Generate a random sample of size 1000 from a binomial distribution with probability of success 0.4\n",
    "and plot a histogram of the results using matplotlib."
   ]
  },
  {
   "cell_type": "code",
   "execution_count": 10,
   "id": "abbe73d7-8d76-4154-bfff-823f049decd6",
   "metadata": {},
   "outputs": [
    {
     "data": {
      "text/plain": [
       "(array([ 12.,  46., 104., 233.,   0., 246., 193., 116.,  45.,   5.]),\n",
       " array([1. , 1.8, 2.6, 3.4, 4.2, 5. , 5.8, 6.6, 7.4, 8.2, 9. ]),\n",
       " <BarContainer object of 10 artists>)"
      ]
     },
     "execution_count": 10,
     "metadata": {},
     "output_type": "execute_result"
    },
    {
     "data": {
      "image/png": "[encoded data removed]",
      "text/plain": [
       "<Figure size 640x480 with 1 Axes>"
      ]
     },
     "metadata": {},
     "output_type": "display_data"
    }
   ],
   "source": [
    "from numpy import random\n",
    "import matplotlib.pyplot as plt\n",
    "\n",
    "plt.hist(random.binomial(n=10, p=0.5, size=1000))\n",
    "\n",
    "\n"
   ]
  },
  {
   "cell_type": "code",
   "execution_count": null,
   "id": "9fa6bba9-69c1-4a66-a629-58e31895a0be",
   "metadata": {},
   "outputs": [],
   "source": [
    "Q6. Write a Python function to calculate the cumulative distribution function of a Poisson distribution\n",
    "with given mean at a given point."
   ]
  },
  {
   "cell_type": "code",
   "execution_count": null,
   "id": "d222d935-7b55-4838-9918-d4ac0a413db4",
   "metadata": {},
   "outputs": [],
   "source": [
    "ans]\n",
    "from scipy.stats import poisson\n",
    "\n",
    "#calculate probability\n",
    "poisson.pmf(k=k, mu=u)\n"
   ]
  },
  {
   "cell_type": "code",
   "execution_count": null,
   "id": "decfc6b0-ea26-4f70-9537-7d99d7f836af",
   "metadata": {},
   "outputs": [],
   "source": [
    "Q7. How Binomial distribution different from Poisson distribution?"
   ]
  },
  {
   "cell_type": "code",
   "execution_count": null,
   "id": "c36535d4-96b9-4e40-9692-6d5e9ba5f354",
   "metadata": {},
   "outputs": [],
   "source": [
    "ans]Binomial distribution is the one in which the number of outcomes are only two, that is success or failure.  \n",
    "Example: of binomial distribution: Coin toss. \n",
    "\n",
    "Poisson distribution: Poisson distribution is the one in which the number of possible outcomes has no limits."
   ]
  },
  {
   "cell_type": "code",
   "execution_count": null,
   "id": "fbefc938-4555-443d-882f-655d7bd4d4cd",
   "metadata": {},
   "outputs": [],
   "source": [
    "Q8. Generate a random sample of size 1000 from a Poisson distribution with mean 5 and calculate the\n",
    "sample mean and variance."
   ]
  },
  {
   "cell_type": "code",
   "execution_count": 11,
   "id": "7fceb12f-2af7-4ac8-9dae-526c12668771",
   "metadata": {},
   "outputs": [],
   "source": [
    "import numpy as np\n",
    "s = np.random.poisson(5, 1000)"
   ]
  },
  {
   "cell_type": "code",
   "execution_count": 14,
   "id": "aea03009-c49c-4df0-a986-44a9ecc45874",
   "metadata": {},
   "outputs": [
    {
     "data": {
      "text/plain": [
       "5.052"
      ]
     },
     "execution_count": 14,
     "metadata": {},
     "output_type": "execute_result"
    }
   ],
   "source": [
    "s.mean()"
   ]
  },
  {
   "cell_type": "code",
   "execution_count": 15,
   "id": "1807beb8-0b65-4986-830a-2110de4fe9bd",
   "metadata": {},
   "outputs": [
    {
     "data": {
      "text/plain": [
       "4.8352960000000005"
      ]
     },
     "execution_count": 15,
     "metadata": {},
     "output_type": "execute_result"
    }
   ],
   "source": [
    "s.var()"
   ]
  },
  {
   "cell_type": "code",
   "execution_count": null,
   "id": "ca74d34f-7653-4068-a40a-6b0208dd614a",
   "metadata": {},
   "outputs": [],
   "source": [
    "Q9. How mean and variance are related in Binomial distribution and Poisson distribution?"
   ]
  },
  {
   "cell_type": "code",
   "execution_count": null,
   "id": "d1b3262d-7ad7-483b-93e2-c90b4fa09123",
   "metadata": {},
   "outputs": [],
   "source": [
    "ans]The mean of the binomial distribution is always equal to p, and the variance is always equal to pq/N\n",
    "We already know that the mean of the Poisson distribution is p. This also happens to be the variance of the Poisson."
   ]
  },
  {
   "cell_type": "code",
   "execution_count": null,
   "id": "3913cb25-4c15-4912-a43a-e39ce3072a11",
   "metadata": {},
   "outputs": [],
   "source": [
    "Q10. In normal distribution with respect to mean position, where does the least frequent data appear?"
   ]
  },
  {
   "cell_type": "code",
   "execution_count": null,
   "id": "44a31083-7737-4184-8306-1f998f2c47e0",
   "metadata": {},
   "outputs": [],
   "source": [
    "ans]in normal distribution the least frequent data appears at the end of the distribution."
   ]
  }
 ],
 "metadata": {
  "kernelspec": {
   "display_name": "Python 3 (ipykernel)",
   "language": "python",
   "name": "python3"
  },
  "language_info": {
   "codemirror_mode": {
    "name": "ipython",
    "version": 3
   },
   "file_extension": ".py",
   "mimetype": "text/x-python",
   "name": "python",
   "nbconvert_exporter": "python",
   "pygments_lexer": "ipython3",
   "version": "3.10.8"
  }
 },
 "nbformat": 4,
 "nbformat_minor": 5
}
