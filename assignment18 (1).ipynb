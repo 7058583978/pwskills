{
 "cells": [
  {
   "cell_type": "code",
   "execution_count": null,
   "id": "4be44311-f26f-4d3c-86c9-9929d058f7ba",
   "metadata": {},
   "outputs": [],
   "source": [
    "Q1. What is Flask Framework? What are the advantages of Flask Framework?"
   ]
  },
  {
   "cell_type": "code",
   "execution_count": null,
   "id": "afc6584c-4c38-435c-8f7c-ff7345cbee71",
   "metadata": {},
   "outputs": [],
   "source": [
    "ans] flask is a pythonic library which is used to create api to expose to outer world.\n",
    "\n",
    "advantages of flask framework :\n",
    "\n",
    "1.it is scalable\n",
    "2.it provides inicode service\n",
    "3.flask gives complete documentation\n",
    "4.it is easy for small code web applications\n"
   ]
  },
  {
   "cell_type": "code",
   "execution_count": null,
   "id": "54335523-a90e-467f-93dd-33fa87308192",
   "metadata": {},
   "outputs": [],
   "source": [
    "Q2. Create a simple Flask application to display ‘Hello World!!’. Attach the screenshot of the output in\n",
    "Jupyter Notebook."
   ]
  },
  {
   "cell_type": "code",
   "execution_count": null,
   "id": "2a5e4f7c-85bb-470b-a4e0-2c72f4288f96",
   "metadata": {},
   "outputs": [],
   "source": [
    "![assignment18.jpg](attachment:e5477196-efc7-4410-93f5-f96d4dbfdfa8.jpg)"
   ]
  },
  {
   "cell_type": "code",
   "execution_count": null,
   "id": "9c0891bd-9f14-4b10-b573-34b168b6726a",
   "metadata": {},
   "outputs": [],
   "source": [
    "Q3. What is App routing in Flask? Why do we use app routes?"
   ]
  },
  {
   "cell_type": "code",
   "execution_count": null,
   "id": "c9ff1b06-7966-49fe-9973-b3cb21d457b3",
   "metadata": {},
   "outputs": [],
   "source": [
    "ans] routing means giving the url a path to enter into a function and perform operation\n",
    "guided by that function\n",
    "\n",
    "we use app routes to give the name of the path so that url can trace the function of named\n",
    "route and we get desired output"
   ]
  },
  {
   "cell_type": "code",
   "execution_count": null,
   "id": "8a538d56-2076-46f8-8d33-387168696303",
   "metadata": {},
   "outputs": [],
   "source": [
    "Q4. Create a “/welcome” route to display the welcome message “Welcome to ABC Corporation” and a “/”\n",
    "route to show the following details:\n",
    "Company Name: ABC Corporation\n",
    "Location: India\n",
    "Contact Detail: 999-999-9999\n",
    "\n",
    "\n",
    "Attach the screenshot of the output in Jupyter Notebook."
   ]
  },
  {
   "cell_type": "code",
   "execution_count": null,
   "id": "c9cd0b4f-c88b-46a5-9872-72e7b74836a2",
   "metadata": {},
   "outputs": [],
   "source": [
    "![assignment18q4.jpg](attachment:2ad25184-b2c0-49f8-a02d-46d3c2d527ae.jpg)"
   ]
  },
  {
   "cell_type": "code",
   "execution_count": null,
   "id": "27d1b2d8-b63a-4643-b4d1-d5eb7512a234",
   "metadata": {},
   "outputs": [],
   "source": [
    "![assignment.jpg](attachment:43615b55-966b-4a63-ad54-927a594f95c3.jpg)"
   ]
  },
  {
   "cell_type": "code",
   "execution_count": null,
   "id": "f7114a7c-4a98-4dfe-aa6a-801ffc89b1f1",
   "metadata": {},
   "outputs": [],
   "source": [
    "Q5. What function is used in Flask for URL Building? Write a Python code to demonstrate the working of the\n",
    "    url_for() function."
   ]
  },
  {
   "cell_type": "code",
   "execution_count": null,
   "id": "4dbf2d90-e2dc-46b8-9439-13df4898d4b3",
   "metadata": {},
   "outputs": [],
   "source": [
    "ans] the url_for function is used to build the url in flask\n",
    "\n",
    "from flask import url_for, Flask\n",
    "appFlask = Flask(__name__)\n",
    "@appFlask.route('/profileName/<authorname>')\n",
    "def profile(authorname):\n",
    "    return f'{authorname}\\'s profile'\n",
    "with appFlask.test_request_context():\n",
    "    print(url_for('profile', authorname='EduCBA'))\n",
    "    print(url_for('profile', authorname='EduCBAPremium'))\n"
   ]
  }
 ],
 "metadata": {
  "kernelspec": {
   "display_name": "Python 3 (ipykernel)",
   "language": "python",
   "name": "python3"
  },
  "language_info": {
   "codemirror_mode": {
    "name": "ipython",
    "version": 3
   },
   "file_extension": ".py",
   "mimetype": "text/x-python",
   "name": "python",
   "nbconvert_exporter": "python",
   "pygments_lexer": "ipython3",
   "version": "3.10.8"
  }
 },
 "nbformat": 4,
 "nbformat_minor": 5
}
