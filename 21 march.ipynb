{
 "cells": [
  {
   "cell_type": "code",
   "execution_count": null,
   "id": "6aa77ff8-c933-45ae-8577-037f7927465d",
   "metadata": {},
   "outputs": [],
   "source": [
    "Q1. What is the difference between Ordinal Encoding and Label Encoding? Provide an example of when you\n",
    "might choose one over the other."
   ]
  },
  {
   "cell_type": "code",
   "execution_count": null,
   "id": "1a3c40e6-1c68-4743-8de1-2cd27182e999",
   "metadata": {},
   "outputs": [],
   "source": [
    "ordinal encoding : this encoding is used when ther is natural ordering between the categories for example\n",
    "grade A ,B ,C etc. \n",
    "\n",
    "label encoding : label encoding used when there is no need to set natural ranking between categories\n",
    "example : let us consider we are labeling the city names then there is no ranking between the names of the cities\n",
    "so in this case we can label encoding"
   ]
  },
  {
   "cell_type": "code",
   "execution_count": null,
   "id": "56c6b6a4-08d0-4571-b2e3-d7cbd5cd44f3",
   "metadata": {},
   "outputs": [],
   "source": [
    "Q2. Explain how Target Guided Ordinal Encoding works and provide an example of when you might use it in\n",
    "a machine learning project."
   ]
  },
  {
   "cell_type": "code",
   "execution_count": null,
   "id": "7186a7e7-7d69-4b0d-a696-a99076c97650",
   "metadata": {},
   "outputs": [],
   "source": [
    "target guided encoding is used when one category has diffrent values and we have to assign a specific label\n",
    "the we go for mean mode and median values to assign a label\n",
    "\n",
    "example : let us consider 4 students appeared in a exam every month and we need to assign each student a \n",
    "label then we can use mean of marks they got in the exam to label."
   ]
  },
  {
   "cell_type": "code",
   "execution_count": 34,
   "id": "c02e4521-6d9d-4668-a44f-c937bd5f9b07",
   "metadata": {},
   "outputs": [],
   "source": [
    "import pandas as pd\n",
    "import numpy as np\n",
    "students = [\"amol\",\"balu\",\"mahesh\",\"akash\"]\n",
    "df = pd.DataFrame({'jan':[80,85,90,50],'feb':[70,80,90,90],\n",
    "              'mar':[50,80,60,82],'apr':[80,90,60,50]},index = students)"
   ]
  },
  {
   "cell_type": "code",
   "execution_count": 35,
   "id": "e81210da-c2b2-46c0-881a-0122b4b4f0b6",
   "metadata": {},
   "outputs": [
    {
     "data": {
      "text/html": [
       "<div>\n",
       "<style scoped>\n",
       "    .dataframe tbody tr th:only-of-type {\n",
       "        vertical-align: middle;\n",
       "    }\n",
       "\n",
       "    .dataframe tbody tr th {\n",
       "        vertical-align: top;\n",
       "    }\n",
       "\n",
       "    .dataframe thead th {\n",
       "        text-align: right;\n",
       "    }\n",
       "</style>\n",
       "<table border=\"1\" class=\"dataframe\">\n",
       "  <thead>\n",
       "    <tr style=\"text-align: right;\">\n",
       "      <th></th>\n",
       "      <th>jan</th>\n",
       "      <th>feb</th>\n",
       "      <th>mar</th>\n",
       "      <th>apr</th>\n",
       "    </tr>\n",
       "  </thead>\n",
       "  <tbody>\n",
       "    <tr>\n",
       "      <th>amol</th>\n",
       "      <td>80</td>\n",
       "      <td>70</td>\n",
       "      <td>50</td>\n",
       "      <td>80</td>\n",
       "    </tr>\n",
       "    <tr>\n",
       "      <th>balu</th>\n",
       "      <td>85</td>\n",
       "      <td>80</td>\n",
       "      <td>80</td>\n",
       "      <td>90</td>\n",
       "    </tr>\n",
       "    <tr>\n",
       "      <th>mahesh</th>\n",
       "      <td>90</td>\n",
       "      <td>90</td>\n",
       "      <td>60</td>\n",
       "      <td>60</td>\n",
       "    </tr>\n",
       "    <tr>\n",
       "      <th>akash</th>\n",
       "      <td>50</td>\n",
       "      <td>90</td>\n",
       "      <td>82</td>\n",
       "      <td>50</td>\n",
       "    </tr>\n",
       "  </tbody>\n",
       "</table>\n",
       "</div>"
      ],
      "text/plain": [
       "        jan  feb  mar  apr\n",
       "amol     80   70   50   80\n",
       "balu     85   80   80   90\n",
       "mahesh   90   90   60   60\n",
       "akash    50   90   82   50"
      ]
     },
     "execution_count": 35,
     "metadata": {},
     "output_type": "execute_result"
    }
   ],
   "source": [
    "df"
   ]
  },
  {
   "cell_type": "code",
   "execution_count": null,
   "id": "d0b7f745-c819-42d6-95f0-3a3f35d9e06b",
   "metadata": {},
   "outputs": [],
   "source": [
    "here we can use the mean of the marks to label"
   ]
  },
  {
   "cell_type": "code",
   "execution_count": null,
   "id": "f5b02e59-7f61-4517-96e6-12e768a1a1ec",
   "metadata": {},
   "outputs": [],
   "source": [
    "Q3. Define covariance and explain why it is important in statistical analysis. How is covariance calculated?"
   ]
  },
  {
   "cell_type": "code",
   "execution_count": null,
   "id": "7611c6d3-2257-4b32-8979-bd9683dd7b03",
   "metadata": {},
   "outputs": [],
   "source": [
    "Covariance is a measure of the relationship between two random variables and to what extent,\n",
    "they change together. Or we can say, in other words, it defines the changes between the two variables, \n",
    "such that change in one variable is equal to change in another variable.\n",
    "\n",
    "A positive covariance means asset prices are moving in the same general direction. \n",
    "A negative covariance means asset prices are moving in opposite directions.\n",
    "              _    _\n",
    "cov(x,y)= Σ(x-x)(x-x)"
   ]
  },
  {
   "cell_type": "code",
   "execution_count": null,
   "id": "6c557f53-63a3-42e3-8f1c-178b9b5bda93",
   "metadata": {},
   "outputs": [],
   "source": [
    "Q4. For a dataset with the following categorical variables: Color (red, green, blue), Size (small, medium,\n",
    "large), and Material (wood, metal, plastic), perform label encoding using Python's scikit-learn library.\n",
    "Show your code and explain the output."
   ]
  },
  {
   "cell_type": "code",
   "execution_count": 2,
   "id": "0b1cf0c5-d112-4b05-ac20-d83d2a9f08b9",
   "metadata": {},
   "outputs": [],
   "source": [
    "import pandas as pd\n",
    "from sklearn.preprocessing import LabelEncoder"
   ]
  },
  {
   "cell_type": "code",
   "execution_count": 3,
   "id": "f29331fc-2e86-44f4-8a12-6efa1f889587",
   "metadata": {},
   "outputs": [],
   "source": [
    "df = pd.DataFrame({'Color': ['red', 'green', 'blue'], 'Size': ['small', 'medium',\n",
    "'large'], 'Material': ['wood', 'metal', 'plastic']})"
   ]
  },
  {
   "cell_type": "code",
   "execution_count": 4,
   "id": "8fef0d02-31b8-45c9-a7fb-0ddb01204b86",
   "metadata": {},
   "outputs": [
    {
     "data": {
      "text/html": [
       "<div>\n",
       "<style scoped>\n",
       "    .dataframe tbody tr th:only-of-type {\n",
       "        vertical-align: middle;\n",
       "    }\n",
       "\n",
       "    .dataframe tbody tr th {\n",
       "        vertical-align: top;\n",
       "    }\n",
       "\n",
       "    .dataframe thead th {\n",
       "        text-align: right;\n",
       "    }\n",
       "</style>\n",
       "<table border=\"1\" class=\"dataframe\">\n",
       "  <thead>\n",
       "    <tr style=\"text-align: right;\">\n",
       "      <th></th>\n",
       "      <th>Color</th>\n",
       "      <th>Size</th>\n",
       "      <th>Material</th>\n",
       "    </tr>\n",
       "  </thead>\n",
       "  <tbody>\n",
       "    <tr>\n",
       "      <th>0</th>\n",
       "      <td>red</td>\n",
       "      <td>small</td>\n",
       "      <td>wood</td>\n",
       "    </tr>\n",
       "    <tr>\n",
       "      <th>1</th>\n",
       "      <td>green</td>\n",
       "      <td>medium</td>\n",
       "      <td>metal</td>\n",
       "    </tr>\n",
       "    <tr>\n",
       "      <th>2</th>\n",
       "      <td>blue</td>\n",
       "      <td>large</td>\n",
       "      <td>plastic</td>\n",
       "    </tr>\n",
       "  </tbody>\n",
       "</table>\n",
       "</div>"
      ],
      "text/plain": [
       "   Color    Size Material\n",
       "0    red   small     wood\n",
       "1  green  medium    metal\n",
       "2   blue   large  plastic"
      ]
     },
     "execution_count": 4,
     "metadata": {},
     "output_type": "execute_result"
    }
   ],
   "source": [
    "df"
   ]
  },
  {
   "cell_type": "code",
   "execution_count": 5,
   "id": "618ccc87-9770-44cc-b81f-5a343c8d4835",
   "metadata": {},
   "outputs": [],
   "source": [
    "encoder = LabelEncoder()"
   ]
  },
  {
   "cell_type": "code",
   "execution_count": 16,
   "id": "1d6f4155-525d-4cac-9d5d-08f8ae535bb6",
   "metadata": {},
   "outputs": [
    {
     "data": {
      "text/html": [
       "<div>\n",
       "<style scoped>\n",
       "    .dataframe tbody tr th:only-of-type {\n",
       "        vertical-align: middle;\n",
       "    }\n",
       "\n",
       "    .dataframe tbody tr th {\n",
       "        vertical-align: top;\n",
       "    }\n",
       "\n",
       "    .dataframe thead th {\n",
       "        text-align: right;\n",
       "    }\n",
       "</style>\n",
       "<table border=\"1\" class=\"dataframe\">\n",
       "  <thead>\n",
       "    <tr style=\"text-align: right;\">\n",
       "      <th></th>\n",
       "      <th>Color</th>\n",
       "      <th>Size</th>\n",
       "      <th>Material</th>\n",
       "      <th>encoded_color</th>\n",
       "      <th>encoded_Color</th>\n",
       "      <th>encoded_Size</th>\n",
       "      <th>encoded_Material</th>\n",
       "    </tr>\n",
       "  </thead>\n",
       "  <tbody>\n",
       "    <tr>\n",
       "      <th>0</th>\n",
       "      <td>2</td>\n",
       "      <td>2</td>\n",
       "      <td>2</td>\n",
       "      <td>2</td>\n",
       "      <td>2</td>\n",
       "      <td>2</td>\n",
       "      <td>2</td>\n",
       "    </tr>\n",
       "    <tr>\n",
       "      <th>1</th>\n",
       "      <td>1</td>\n",
       "      <td>1</td>\n",
       "      <td>0</td>\n",
       "      <td>1</td>\n",
       "      <td>1</td>\n",
       "      <td>1</td>\n",
       "      <td>0</td>\n",
       "    </tr>\n",
       "    <tr>\n",
       "      <th>2</th>\n",
       "      <td>0</td>\n",
       "      <td>0</td>\n",
       "      <td>1</td>\n",
       "      <td>0</td>\n",
       "      <td>0</td>\n",
       "      <td>0</td>\n",
       "      <td>1</td>\n",
       "    </tr>\n",
       "  </tbody>\n",
       "</table>\n",
       "</div>"
      ],
      "text/plain": [
       "   Color  Size  Material  encoded_color  encoded_Color  encoded_Size  \\\n",
       "0      2     2         2              2              2             2   \n",
       "1      1     1         0              1              1             1   \n",
       "2      0     0         1              0              0             0   \n",
       "\n",
       "   encoded_Material  \n",
       "0                 2  \n",
       "1                 0  \n",
       "2                 1  "
      ]
     },
     "execution_count": 16,
     "metadata": {},
     "output_type": "execute_result"
    }
   ],
   "source": [
    "df['encoded_Color'] = encoder.fit_transform(df['Color'])\n",
    "df['encoded_Size'] = encoder.fit_transform(df['Size'])\n",
    "df['encoded_Material'] = encoder.fit_transform(df['Material'])\n",
    "df"
   ]
  },
  {
   "cell_type": "code",
   "execution_count": null,
   "id": "8a5c8259-ffde-40b9-b5cb-f73b36bf7c2b",
   "metadata": {},
   "outputs": [],
   "source": [
    "in color column we get 2 for red 1 for green and so on......."
   ]
  },
  {
   "cell_type": "code",
   "execution_count": null,
   "id": "4f12a22e-fd23-42b3-906f-91b94788df54",
   "metadata": {},
   "outputs": [],
   "source": [
    "Q5. Calculate the covariance matrix for the following variables in a dataset: Age, Income, and Education\n",
    "level. Interpret the results."
   ]
  },
  {
   "cell_type": "code",
   "execution_count": 22,
   "id": "d3aa2278-8c35-4ed2-863e-dc3111dcf0c0",
   "metadata": {},
   "outputs": [
    {
     "name": "stderr",
     "output_type": "stream",
     "text": [
      "/tmp/ipykernel_70/3764278957.py:6: FutureWarning: The default value of numeric_only in DataFrame.corr is deprecated. In a future version, it will default to False. Select only valid columns or specify the value of numeric_only to silence this warning.\n",
      "  df.corr()\n"
     ]
    },
    {
     "data": {
      "text/html": [
       "<div>\n",
       "<style scoped>\n",
       "    .dataframe tbody tr th:only-of-type {\n",
       "        vertical-align: middle;\n",
       "    }\n",
       "\n",
       "    .dataframe tbody tr th {\n",
       "        vertical-align: top;\n",
       "    }\n",
       "\n",
       "    .dataframe thead th {\n",
       "        text-align: right;\n",
       "    }\n",
       "</style>\n",
       "<table border=\"1\" class=\"dataframe\">\n",
       "  <thead>\n",
       "    <tr style=\"text-align: right;\">\n",
       "      <th></th>\n",
       "      <th>age</th>\n",
       "      <th>income_k</th>\n",
       "    </tr>\n",
       "  </thead>\n",
       "  <tbody>\n",
       "    <tr>\n",
       "      <th>age</th>\n",
       "      <td>1.000000</td>\n",
       "      <td>0.944911</td>\n",
       "    </tr>\n",
       "    <tr>\n",
       "      <th>income_k</th>\n",
       "      <td>0.944911</td>\n",
       "      <td>1.000000</td>\n",
       "    </tr>\n",
       "  </tbody>\n",
       "</table>\n",
       "</div>"
      ],
      "text/plain": [
       "               age  income_k\n",
       "age       1.000000  0.944911\n",
       "income_k  0.944911  1.000000"
      ]
     },
     "execution_count": 22,
     "metadata": {},
     "output_type": "execute_result"
    }
   ],
   "source": [
    "df = pd.DataFrame({\"age\" : [20,30,40],\n",
    "              'income_k' : [40,80,90],\n",
    "              'education_level':['high school','graduation','phd']\n",
    "              \n",
    "})\n",
    "df.corr()"
   ]
  },
  {
   "cell_type": "code",
   "execution_count": null,
   "id": "2406da77-8d24-452e-9a8c-d4a7c42c4cbb",
   "metadata": {},
   "outputs": [],
   "source": [
    "in above result we get all positive values so there is directly proportional relation is seen"
   ]
  },
  {
   "cell_type": "code",
   "execution_count": null,
   "id": "09c0c779-6d78-4517-b111-6c053a5883c4",
   "metadata": {},
   "outputs": [],
   "source": [
    "Q6. You are working on a machine learning project with a dataset containing several categorical\n",
    "variables, including \"Gender\" (Male/Female), \"Education Level\" (High School/Bachelor's/Master's/PhD),\n",
    "and \"Employment Status\" (Unemployed/Part-Time/Full-Time). Which encoding method would you use for\n",
    "each variable, and why?"
   ]
  },
  {
   "cell_type": "code",
   "execution_count": null,
   "id": "c53bc4c7-d682-4f8e-9b25-7f41902c7c6c",
   "metadata": {},
   "outputs": [],
   "source": [
    "Gender:\n",
    "Since there are only two categories, Male and Female, we can use binary encoding or label encoding.\n",
    "Both of these methods will assign 0 or 1 to each category. However, binary encoding will use two columns \n",
    "to represent the two categories, while label encoding will use a single column.\n",
    "\n",
    "Education Level:\n",
    "Since there is an inherent ordering to the education levels (High School < Bachelor's < Master's < PhD),\n",
    "we can use ordinal encoding. This method will assign a numerical value to each category based on its position \n",
    "in the ordering. For example, we can assign 1 to High School, 2 to Bachelor's, 3 to Master's, and 4 to PhD.\n",
    "\n",
    "Employment Status:\n",
    "Since there is no inherent ordering to the employment status categories, we can use one-hot encoding. \n",
    "This method will create a separate column for each category and assign a value of 1 or 0 to indicate \n",
    "whether that category applies to a particular data point. For example, a data point that is Full-Time \n",
    "employed would have a value of 1 in the Full-Time column and 0 in the Part-Time and Unemployed columns."
   ]
  },
  {
   "cell_type": "code",
   "execution_count": null,
   "id": "edbf9344-807c-42fd-88c8-0cfb9f6517c7",
   "metadata": {},
   "outputs": [],
   "source": [
    "Q7. You are analyzing a dataset with two continuous variables, \"Temperature\" and \"Humidity\", and two\n",
    "categorical variables, \"Weather Condition\" (Sunny/Cloudy/Rainy) and \"Wind Direction\" (North/South/\n",
    "East/West). Calculate the covariance between each pair of variables and interpret the results."
   ]
  },
  {
   "cell_type": "code",
   "execution_count": 1,
   "id": "e0941d36-f2f2-45e9-8fbc-8e31a929ff5a",
   "metadata": {},
   "outputs": [],
   "source": [
    "import pandas as pd"
   ]
  },
  {
   "cell_type": "code",
   "execution_count": 5,
   "id": "5be6f7ff-2141-4a7f-90b5-82d4da3936b7",
   "metadata": {},
   "outputs": [],
   "source": [
    "df = pd.DataFrame({\"Temperature\":[20,30,40,50,60],\"Humidity\":[0.7,0.5,0.4,0.3,0.1],\n",
    "              \"Weather Condition\" :['rainy','cloudy','cloudy','sunny','sunny'],\n",
    "              \"Wind Direction\" :['North','South','North','South','north']\n",
    "})"
   ]
  },
  {
   "cell_type": "code",
   "execution_count": 6,
   "id": "473184de-7541-405a-90fd-ec3616680b4b",
   "metadata": {},
   "outputs": [
    {
     "name": "stderr",
     "output_type": "stream",
     "text": [
      "/tmp/ipykernel_70/1545644723.py:1: FutureWarning: The default value of numeric_only in DataFrame.cov is deprecated. In a future version, it will default to False. Select only valid columns or specify the value of numeric_only to silence this warning.\n",
      "  df.cov()\n"
     ]
    },
    {
     "data": {
      "text/html": [
       "<div>\n",
       "<style scoped>\n",
       "    .dataframe tbody tr th:only-of-type {\n",
       "        vertical-align: middle;\n",
       "    }\n",
       "\n",
       "    .dataframe tbody tr th {\n",
       "        vertical-align: top;\n",
       "    }\n",
       "\n",
       "    .dataframe thead th {\n",
       "        text-align: right;\n",
       "    }\n",
       "</style>\n",
       "<table border=\"1\" class=\"dataframe\">\n",
       "  <thead>\n",
       "    <tr style=\"text-align: right;\">\n",
       "      <th></th>\n",
       "      <th>Temperature</th>\n",
       "      <th>Humidity</th>\n",
       "    </tr>\n",
       "  </thead>\n",
       "  <tbody>\n",
       "    <tr>\n",
       "      <th>Temperature</th>\n",
       "      <td>250.0</td>\n",
       "      <td>-3.50</td>\n",
       "    </tr>\n",
       "    <tr>\n",
       "      <th>Humidity</th>\n",
       "      <td>-3.5</td>\n",
       "      <td>0.05</td>\n",
       "    </tr>\n",
       "  </tbody>\n",
       "</table>\n",
       "</div>"
      ],
      "text/plain": [
       "             Temperature  Humidity\n",
       "Temperature        250.0     -3.50\n",
       "Humidity            -3.5      0.05"
      ]
     },
     "execution_count": 6,
     "metadata": {},
     "output_type": "execute_result"
    }
   ],
   "source": [
    "df.cov()"
   ]
  },
  {
   "cell_type": "code",
   "execution_count": null,
   "id": "5b18bea1-e4b4-4ea8-aa87-e74c5fa1965b",
   "metadata": {},
   "outputs": [],
   "source": [
    "we have negative coe so we can conclude that relation is inverse"
   ]
  }
 ],
 "metadata": {
  "kernelspec": {
   "display_name": "Python 3 (ipykernel)",
   "language": "python",
   "name": "python3"
  },
  "language_info": {
   "codemirror_mode": {
    "name": "ipython",
    "version": 3
   },
   "file_extension": ".py",
   "mimetype": "text/x-python",
   "name": "python",
   "nbconvert_exporter": "python",
   "pygments_lexer": "ipython3",
   "version": "3.10.8"
  }
 },
 "nbformat": 4,
 "nbformat_minor": 5
}
