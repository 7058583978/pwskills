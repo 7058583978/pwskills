{
 "cells": [
  {
   "cell_type": "code",
   "execution_count": null,
   "id": "8f1018f9-747c-4954-9be2-e34448b78d8a",
   "metadata": {},
   "outputs": [],
   "source": [
    "Q1. Explain GET and POST methods."
   ]
  },
  {
   "cell_type": "code",
   "execution_count": null,
   "id": "8ec0386e-a487-4586-b299-1862829d1df6",
   "metadata": {},
   "outputs": [],
   "source": [
    "ans] \"get\" and \"post\" are the methods of sendind the data where application running\n",
    "on computer becomes the server and browser can be the client\n",
    "\n",
    "in get method data send through url \n",
    "in post method data send through body"
   ]
  },
  {
   "cell_type": "code",
   "execution_count": null,
   "id": "7670575a-546a-49ae-97c3-8f34b643ae43",
   "metadata": {},
   "outputs": [],
   "source": [
    "Q2. Why is request used in Flask?"
   ]
  },
  {
   "cell_type": "code",
   "execution_count": null,
   "id": "cd23c46d-5db2-49cd-9083-7cc3946fc11a",
   "metadata": {},
   "outputs": [],
   "source": [
    "ans] request is object in flask which is required to track the data which stored in server\n",
    "using request we can track the data"
   ]
  },
  {
   "cell_type": "code",
   "execution_count": null,
   "id": "5a15116e-7777-427d-ad03-860f7b774970",
   "metadata": {},
   "outputs": [],
   "source": [
    "Q3. Why is redirect() used in Flask?"
   ]
  },
  {
   "cell_type": "code",
   "execution_count": null,
   "id": "ddeb10c9-0e70-4116-894b-47c005b1358d",
   "metadata": {},
   "outputs": [],
   "source": [
    "ans]redirect is function in flask which redirect thr developer to a specified url"
   ]
  },
  {
   "cell_type": "code",
   "execution_count": null,
   "id": "d1e60cd0-008b-46cb-9660-d5305887e5b3",
   "metadata": {},
   "outputs": [],
   "source": [
    "Q4. What are templates in Flask? Why is the render_template() function used?"
   ]
  },
  {
   "cell_type": "code",
   "execution_count": null,
   "id": "36d59f46-3d7b-4e43-a6d3-fa507a1c6393",
   "metadata": {},
   "outputs": [],
   "source": [
    "ans]template is a file which contains both static as well as dynamic data and when rebdered it\n",
    "gives data in document form\n",
    "\n",
    "rendere_template function used to render the external html file"
   ]
  },
  {
   "cell_type": "code",
   "execution_count": null,
   "id": "21ddf221-bd93-4337-8056-3b9a58aa22b5",
   "metadata": {},
   "outputs": [],
   "source": [
    "Q5. Create a simple API. Use Postman to test it. Attach the screenshot of the output in the Jupyter Notebook."
   ]
  },
  {
   "cell_type": "code",
   "execution_count": null,
   "id": "2ab5f90d-d706-472f-a47a-d94cb6ff8e0d",
   "metadata": {},
   "outputs": [],
   "source": [
    "![flask.jpg](attachment:3c34337a-2d8f-42d7-992d-14e4de211d12.jpg)"
   ]
  },
  {
   "cell_type": "code",
   "execution_count": null,
   "id": "d6a3ed26-9a28-46f2-89c8-e1e34d87e039",
   "metadata": {},
   "outputs": [],
   "source": [
    "![postman.jpg](attachment:97900082-4584-4afa-95cd-ad53b97e5441.jpg)"
   ]
  }
 ],
 "metadata": {
  "kernelspec": {
   "display_name": "Python 3 (ipykernel)",
   "language": "python",
   "name": "python3"
  },
  "language_info": {
   "codemirror_mode": {
    "name": "ipython",
    "version": 3
   },
   "file_extension": ".py",
   "mimetype": "text/x-python",
   "name": "python",
   "nbconvert_exporter": "python",
   "pygments_lexer": "ipython3",
   "version": "3.10.8"
  }
 },
 "nbformat": 4,
 "nbformat_minor": 5
}
