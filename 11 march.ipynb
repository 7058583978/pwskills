{
 "cells": [
  {
   "cell_type": "code",
   "execution_count": null,
   "id": "0bd64d01-820c-4ced-a835-115494c8f901",
   "metadata": {},
   "outputs": [],
   "source": [
    "Q1: What is the difference between a t-test and a z-test? Provide an example scenario where you would\n",
    "use each type of test."
   ]
  },
  {
   "cell_type": "code",
   "execution_count": null,
   "id": "91421288-4dc6-4beb-87d7-d1949a5f6a1c",
   "metadata": {},
   "outputs": [],
   "source": [
    "ans]A z-test is used to test a Null Hypothesis if the population variance is known, or if the sample size is larger than 30,\n",
    "for an unknown population variance. A t-test is used when the sample size is less than 30 and the population variance is unknown.\n",
    "\n",
    "eg.An electronics company produces a certain type of product with a mean weight of 5 pounds and a\n",
    "standard deviation of 0.5 pounds. A random sample of 25 products is taken, and the sample mean weight\n",
    "is found to be 4.8 pounds. Test the hypothesis that the true mean weight of the products is less than 5\n",
    "pounds with a significance level of 0.01. in this case we should use z test\n",
    "\n",
    "eg.Q13. A coffee shop owner wants to estimate the average daily revenue for their shop. They take a random\n",
    "sample of 25 days and find the sample mean revenue to be $500 with a standard deviation of $50.\n",
    "Estimate the population mean revenue with a 95% confidence interval.in this case we should t test"
   ]
  },
  {
   "cell_type": "code",
   "execution_count": null,
   "id": "6869a0bd-6291-45c8-aa7b-c7ac54049ead",
   "metadata": {},
   "outputs": [],
   "source": [
    "Q2: Differentiate between one-tailed and two-tailed tests."
   ]
  },
  {
   "cell_type": "code",
   "execution_count": null,
   "id": "cdd09f1a-252c-4dfa-b3e7-48990ed3fffe",
   "metadata": {},
   "outputs": [],
   "source": [
    "ans]One-tailed tests allow for the possibility of an effect in one direction. \n",
    "Two-tailed tests test for the possibility of an effect in two directions—positive and negative."
   ]
  },
  {
   "cell_type": "code",
   "execution_count": null,
   "id": "6da1d1e2-366a-4d91-bfd2-6275b06af15c",
   "metadata": {},
   "outputs": [],
   "source": [
    "Q3: Explain the concept of Type 1 and Type 2 errors in hypothesis testing. Provide an example scenario for\n",
    "each type of error."
   ]
  },
  {
   "cell_type": "code",
   "execution_count": null,
   "id": "78c57f88-496b-4d77-a50e-40210cfbfded",
   "metadata": {},
   "outputs": [],
   "source": [
    "ans] A type I error : (false-positive) occurs if an investigator rejects a null hypothesis that is actually true in the population\n",
    "     a type II error :  (false-negative) occurs if the investigator fails to reject a null hypothesis that is actually false in the population.\n",
    "    \n",
    "    Type I error (false positive): the test result says you have coronavirus, but you actually dont.\n",
    "    Type II error (false negative): the test result says you dont have coronavirus, but you actually do"
   ]
  },
  {
   "cell_type": "code",
   "execution_count": null,
   "id": "2efbaa18-c3fe-4ae6-ba56-5d40a6bbe6af",
   "metadata": {},
   "outputs": [],
   "source": [
    "Q4: Explain Bayess theorem with an example."
   ]
  },
  {
   "cell_type": "code",
   "execution_count": null,
   "id": "9df9372e-1798-4efb-b82c-975aa272da52",
   "metadata": {},
   "outputs": [],
   "source": [
    "ans]bayes theorem helps us to find the probabillity of one event when second event regarding\n",
    "to it has already happened\n",
    "eg.\n",
    "A simple example is as follows: There is a 40% chance of rain on Sunday.\n",
    "If it rains on Sunday, there is a 10% chance of rain on Monday. \n",
    "If it did not rain on Sunday, then there is an 80% chance that it will rain on Monday.\n",
    "\"Raining on Sunday\" is event A, and \"Raining on Monday\" is event B."
   ]
  },
  {
   "cell_type": "code",
   "execution_count": null,
   "id": "739b97a4-c9e7-41dc-ab26-de807abacf9b",
   "metadata": {},
   "outputs": [],
   "source": [
    "Q5: What is a confidence interval? How to calculate the confidence interval, explain with an example."
   ]
  },
  {
   "cell_type": "code",
   "execution_count": null,
   "id": "1b537350-3f43-4c0f-8e09-c7f94d3674f1",
   "metadata": {},
   "outputs": [],
   "source": [
    "ans]A confidence interval is the mean of your estimate plus and minus the variation in that estimate.\n",
    "This is the range of values you expect your estimate to fall between if you redo your test, within a certain level of confidence. \n",
    "Confidence, in statistics, is another way to describe probability.\n",
    "                                              \n",
    "                   Confidence interval (CI) = ‾X ± Z(S ÷ √n)\n",
    "        \n",
    "in a class of students of 36 boys average height of student is 150cm with z value 1.96 and std = 5cm calculate the confidence interval\n",
    " Confidence interval (CI) = ‾X ± Z(S ÷ √n)\n",
    "                     (CI) = 151.63 and 148.36"
   ]
  },
  {
   "cell_type": "code",
   "execution_count": null,
   "id": "c9d4061a-c7c4-4a04-8f95-1cd6c18b5c41",
   "metadata": {},
   "outputs": [],
   "source": [
    "Q6. Use Bayes Theorem to calculate the probability of an event occurring given prior knowledge of the\n",
    "event probability and new evidence. Provide a sample problem and solution."
   ]
  },
  {
   "cell_type": "code",
   "execution_count": null,
   "id": "e4c4a53b-f7e1-461a-b5aa-ec5bf60cff9a",
   "metadata": {},
   "outputs": [],
   "source": [
    "ans]P(Rain) is Probability of Rain = 0.1\n",
    "P(Cloud|Rain) is Probability of Cloud, given that Rain happens = 0.5\n",
    "P(Cloud) is Probability of Cloud = 0.4\n",
    "P(Rain|Cloud) =  (0.1 x 0.5)/0.4\n",
    "                   = 0.125"
   ]
  },
  {
   "cell_type": "code",
   "execution_count": null,
   "id": "ff1a01e8-c603-45d7-9557-fb1ab400e2e8",
   "metadata": {},
   "outputs": [],
   "source": [
    "Q7. Calculate the 95% confidence interval for a sample of data with a mean of 50 and a standard deviation\n",
    "of 5. Interpret the results."
   ]
  },
  {
   "cell_type": "code",
   "execution_count": null,
   "id": "3359f566-8ebe-404d-9969-3e3b23e13c5d",
   "metadata": {},
   "outputs": [],
   "source": [
    "ans] z = 1.96 x = 50 std = 5\n",
    "     CI = 50 +/- 1.96(5)\n",
    "     CI = 59.8 or 40.2\n",
    "        \n",
    "so the 95% confidence interval lies between 40.2 and 59.8"
   ]
  },
  {
   "cell_type": "code",
   "execution_count": null,
   "id": "1ab01c2b-1948-4ac7-b9eb-1e932c3e22cd",
   "metadata": {},
   "outputs": [],
   "source": [
    "Q8. What is the margin of error in a confidence interval? How does sample size affect the margin of error?\n",
    "Provide an example of a scenario where a larger sample size would result in a smaller margin of error."
   ]
  },
  {
   "cell_type": "code",
   "execution_count": null,
   "id": "ef9b1cd1-0bcb-4956-b372-53b1caecc129",
   "metadata": {},
   "outputs": [],
   "source": [
    "ans]The margin of error is a statistic expressing an amount of random sampling error in a surveys results. \n",
    "It asserts a likelihood that the result from a sample is close to the number one would get if the whole population had been queried.\n",
    "\n",
    "As sample size increases, the margin of error decreases. As the variability in the population increases, the margin of error increases. \n",
    "As the confidence level increases, the margin of error increases.\n",
    "\n",
    "margin of error = z*(std/sqrt(n))\n",
    "eg. in a class of students of 36 boys average height of student is 150cm with z value 1.96 and std = 5cm\n",
    "margin of error = 1.96(5/6) = 1.63*sqrt(n) on both side"
   ]
  },
  {
   "cell_type": "code",
   "execution_count": null,
   "id": "f06e5aa9-35ba-42f9-af65-2640adb209fe",
   "metadata": {},
   "outputs": [],
   "source": [
    "Q9. Calculate the z-score for a data point with a value of 75, a population mean of 70, and a population\n",
    "standard deviation of 5. Interpret the results."
   ]
  },
  {
   "cell_type": "code",
   "execution_count": null,
   "id": "a2745a52-e24b-48d9-951f-c812809bc04a",
   "metadata": {},
   "outputs": [],
   "source": [
    "ans] x = 75 std = 5 mean  = 70\n",
    "\n",
    "z = (75-70)/5 = 1"
   ]
  },
  {
   "cell_type": "code",
   "execution_count": null,
   "id": "69771f81-9a1f-407c-82c7-462a9fbded5c",
   "metadata": {},
   "outputs": [],
   "source": [
    "Q10. In a study of the effectiveness of a new weight loss drug, a sample of 50 participants lost an average\n",
    "of 6 pounds with a standard deviation of 2.5 pounds. Conduct a hypothesis test to determine if the drug is\n",
    "significantly effective at a 95% confidence level using a t-test."
   ]
  },
  {
   "cell_type": "code",
   "execution_count": null,
   "id": "be6270d7-85ed-4259-9909-b38aed34b2a5",
   "metadata": {},
   "outputs": [],
   "source": [
    "ans] t value for 5 % signi value = 2.0105\n",
    "    here we required population mean to apply t test"
   ]
  },
  {
   "cell_type": "code",
   "execution_count": null,
   "id": "2076f32a-b417-4f99-b8fa-afde363de1cf",
   "metadata": {},
   "outputs": [],
   "source": [
    "Q11. In a survey of 500 people, 65% reported being satisfied with their current job. Calculate the 95%\n",
    "confidence interval for the true proportion of people who are satisfied with their job."
   ]
  },
  {
   "cell_type": "code",
   "execution_count": null,
   "id": "435670c1-da9d-4219-8cd2-1f55abb15edf",
   "metadata": {},
   "outputs": [],
   "source": [
    "ans] n = 500 \n",
    "true proportion will be 500*0.95*65 = 308 people are satisfied with job"
   ]
  },
  {
   "cell_type": "code",
   "execution_count": null,
   "id": "b874ebe0-2e59-4df6-9b2a-40dbbb9bfcfc",
   "metadata": {},
   "outputs": [],
   "source": [
    "Q12. A researcher is testing the effectiveness of two different teaching methods on student performance.\n",
    "Sample A has a mean score of 85 with a standard deviation of 6, while sample B has a mean score of 82\n",
    "with a standard deviation of 5. Conduct a hypothesis test to determine if the two teaching methods have a\n",
    "significant difference in student performance using a t-test with a significance level of 0.01."
   ]
  },
  {
   "cell_type": "code",
   "execution_count": null,
   "id": "7286c441-833f-479b-932d-62b83b81d202",
   "metadata": {},
   "outputs": [],
   "source": [
    "ans]here we cannot perform t test without sample size"
   ]
  },
  {
   "cell_type": "code",
   "execution_count": null,
   "id": "edc59550-cf63-4b73-98ca-91dddf51e495",
   "metadata": {},
   "outputs": [],
   "source": [
    "Q13. A population has a mean of 60 and a standard deviation of 8. A sample of 50 observations has a mean\n",
    "of 65. Calculate the 90% confidence interval for the true population mean."
   ]
  },
  {
   "cell_type": "code",
   "execution_count": null,
   "id": "97b9e50b-4010-4663-82f5-291ff6f2ffe4",
   "metadata": {},
   "outputs": [],
   "source": [
    "ans]x = 60 std = 8 (n = 50 x = 65)  CI = 90\n",
    "\n",
    "Confidence interval (CI) = ‾X ± Z(S ÷ √n)\n",
    "                         = 65 + 1.65(8/sqrt(50))\n",
    "                        = 66.86 and 63.14"
   ]
  },
  {
   "cell_type": "code",
   "execution_count": null,
   "id": "78e6503e-a5bf-4913-ad28-f5133019b27d",
   "metadata": {},
   "outputs": [],
   "source": [
    "Q14. In a study of the effects of caffeine on reaction time, a sample of 30 participants had an average\n",
    "reaction time of 0.25 seconds with a standard deviation of 0.05 seconds. Conduct a hypothesis test to\n",
    "determine if the caffeine has a significant effect on reaction time at a 90% confidence level using a t-test."
   ]
  },
  {
   "cell_type": "code",
   "execution_count": null,
   "id": "45674c6a-9311-48aa-8eaf-d3a4351aa16e",
   "metadata": {},
   "outputs": [],
   "source": [
    "ans]"
   ]
  }
 ],
 "metadata": {
  "kernelspec": {
   "display_name": "Python 3 (ipykernel)",
   "language": "python",
   "name": "python3"
  },
  "language_info": {
   "codemirror_mode": {
    "name": "ipython",
    "version": 3
   },
   "file_extension": ".py",
   "mimetype": "text/x-python",
   "name": "python",
   "nbconvert_exporter": "python",
   "pygments_lexer": "ipython3",
   "version": "3.10.8"
  }
 },
 "nbformat": 4,
 "nbformat_minor": 5
}
