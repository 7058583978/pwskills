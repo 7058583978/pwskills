{
 "cells": [
  {
   "cell_type": "code",
   "execution_count": null,
   "id": "cda4bd2f-f3ad-4745-be4b-7d26f700d896",
   "metadata": {},
   "outputs": [],
   "source": [
    "Q1.explain the following with an example\n",
    "a) Artificial intelligent\n",
    "b) Machine learning\n",
    "c) Deep learning"
   ]
  },
  {
   "cell_type": "code",
   "execution_count": null,
   "id": "3b8d3f61-ee15-4fc8-b167-b4834038cf4e",
   "metadata": {},
   "outputs": [],
   "source": [
    "a) Artificial intelligent : artificial intelligence is a smart application which can perform given task without human intervention\n",
    "example : self driving cars , alexa\n",
    "\n",
    "b) Machine learning : it means we train the machines by givin it a number of inputs like a newborn child and machine \n",
    "can develop it own logic to identify objects\n",
    "example : face recognition , chatbot \n",
    "\n",
    "c) Deep learning : Deep learning is a type of machine learning and artificial intelligence (AI) that imitates the way \n",
    "humans gain certain types of knowledge. Deep learning is an important element of data science, which includes statistics \n",
    "and predictive modeling. It is extremely beneficial to data scientists who are tasked with collecting, analyzing and interpreting\n",
    "large amounts of data; deep learning makes this process faster and easier.\n",
    "\n",
    "example : fraud detection,computer vision"
   ]
  },
  {
   "cell_type": "code",
   "execution_count": null,
   "id": "5a6a324d-488b-4430-80a5-91dafe88a2b0",
   "metadata": {},
   "outputs": [],
   "source": [
    "Q2] What is supervized learning list some example ."
   ]
  },
  {
   "cell_type": "code",
   "execution_count": null,
   "id": "12b5ace1-71ba-4e5d-83af-3972d94f7cf9",
   "metadata": {},
   "outputs": [],
   "source": [
    "ans]in supervized learning we know the output or say we can calculate the output based on the input value\n",
    "example : Spam detection,Image- and object-recognition"
   ]
  },
  {
   "cell_type": "code",
   "execution_count": null,
   "id": "f7cbf765-e422-4676-9b98-72e61944b629",
   "metadata": {},
   "outputs": [],
   "source": [
    "Q3] what is unsupervised learning list some examples ."
   ]
  },
  {
   "cell_type": "code",
   "execution_count": null,
   "id": "8aac1288-c8db-494f-b1ed-786d69f52b50",
   "metadata": {},
   "outputs": [],
   "source": [
    "Unsupervised learning, also known as unsupervised machine learning, uses machine learning algorithms to analyze and cluster unlabeled datasets. \n",
    "These algorithms discover hidden patterns or data groupings without the need for human intervention.\n",
    "\n",
    "example : An example of unsupervised machine learning would be a case where a supermarket wants to increase its revenue.\n",
    "It decides to implement a machine learning algorithm on its sold products data. \n",
    "It was observed that the customers who bought cereals more often tend to buy milk or those who buy eggs tend to buy bacon."
   ]
  },
  {
   "cell_type": "code",
   "execution_count": null,
   "id": "ebb24a4e-14b3-4296-89ba-6435f634ca82",
   "metadata": {},
   "outputs": [],
   "source": [
    "Q4] What is the difference between AI, ML, DL, and DS?"
   ]
  },
  {
   "cell_type": "code",
   "execution_count": null,
   "id": "dabb9f33-85df-4b59-8ec9-6432f073aadb",
   "metadata": {},
   "outputs": [],
   "source": [
    "AI: artificial intelligence is a smart application which can perform given task without human intervention\n",
    "    example : self driving cars , alexa AI is a broad concept\n",
    "\n",
    "ML: Machine learning : it means we train the machines by givin it a number of inputs like a newborn child and machine \n",
    "    can develop it own logic to identify objects\n",
    "    example : face recognition , chatbot ML is subset of AI\n",
    "\n",
    "DL: Deep learning is a type of machine learning and artificial intelligence (AI) that imitates the way \n",
    "    humans gain certain types of knowledge. Deep learning is an important element of data science, which includes statistics \n",
    "    and predictive modeling. It is extremely beneficial to data scientists who are tasked with collecting, analyzing and interpreting\n",
    "    large amounts of data; deep learning makes this process faster and easier.\n",
    "\n",
    "DS: data science is a special branch which can be used in above three to implement above process but seperately\n",
    "    it used to collect data and analyse it"
   ]
  },
  {
   "cell_type": "code",
   "execution_count": null,
   "id": "2abccc34-6b9d-4f6c-87e4-573f5bed17bc",
   "metadata": {},
   "outputs": [],
   "source": [
    "Q5] What are the main differences between supervised, unsupervised, and semi supervised learning ?"
   ]
  },
  {
   "cell_type": "code",
   "execution_count": null,
   "id": "f538e47c-9cd4-4402-9098-6510e1d85798",
   "metadata": {},
   "outputs": [],
   "source": [
    "in supervized learning we know the output or say we can calculate the output based on the input value\n",
    "example : Spam detection,Image- and object-recognition\n",
    "\n",
    "Unsupervised learning, also known as unsupervised machine learning, uses machine learning algorithms to analyze and cluster unlabeled datasets. \n",
    "These algorithms discover hidden patterns or data groupings without the need for human intervention.\n",
    "\n",
    "in semi supervized machine learning we use combination of both learning"
   ]
  },
  {
   "cell_type": "code",
   "execution_count": null,
   "id": "33cad5ac-58ee-4bcf-9196-de90f81c2ce3",
   "metadata": {},
   "outputs": [],
   "source": [
    "Q6]what is train test and validation spilt ? explain importance of each term."
   ]
  },
  {
   "cell_type": "code",
   "execution_count": null,
   "id": "bd881701-2378-4daf-9944-421db472494f",
   "metadata": {},
   "outputs": [],
   "source": [
    "train : this dataset used to train our models , this is important dataset to set our benchmark means the more accurate the data the\n",
    "more accuerate your model can perform\n",
    "\n",
    "validation : this dataset used to hypertune the dataset,here we can find wheather we can increse the accuracy of model.\n",
    "\n",
    "test : here we give our model an unknown data and we test the model wheather it gives accurate result or not.test dataset is imporatnt\n",
    "to mark the accuracy of model"
   ]
  },
  {
   "cell_type": "code",
   "execution_count": null,
   "id": "715f8973-b1a3-42b4-ab94-a7de648b1075",
   "metadata": {},
   "outputs": [],
   "source": [
    "Q7] How can unsupervised learning be used in anomaly detection?"
   ]
  },
  {
   "cell_type": "code",
   "execution_count": null,
   "id": "2d3dc7a9-86a0-4103-9dc1-b31c5ecc0ab5",
   "metadata": {},
   "outputs": [],
   "source": [
    "Unsupervised is useful when the data is unlabeled and thus requires less work to process the data set before- hand.\n",
    "Anomaly detection techniques of unsupervised nature assume that normal data points occur considerably more frequently\n",
    "than anomalous data points.\n",
    "\n",
    "so if our model find any different dataset it can cluster in the anamoly section"
   ]
  },
  {
   "cell_type": "code",
   "execution_count": null,
   "id": "db676108-11ee-4653-ab63-0969cd4a61a9",
   "metadata": {},
   "outputs": [],
   "source": [
    "Q8] List down some commonly used supervised learning algorithms and unsupervised learning\n",
    "    algorithms."
   ]
  },
  {
   "cell_type": "code",
   "execution_count": null,
   "id": "2e315150-f2bf-4ba0-99a9-93f4bd46e366",
   "metadata": {},
   "outputs": [],
   "source": [
    "supervised learning :linear classifiers, support vector machines (SVM), decision trees, k-nearest neighbor, and random forest\n",
    "\n",
    "unsupervised learning :K-means clustering,KNN (k-nearest neighbors),Hierarchal clustering,Anomaly detection.,Neural Networks.,Principle Component Analysis.\n",
    "Independent Component Analysis,Apriori algorithm."
   ]
  }
 ],
 "metadata": {
  "kernelspec": {
   "display_name": "Python 3 (ipykernel)",
   "language": "python",
   "name": "python3"
  },
  "language_info": {
   "codemirror_mode": {
    "name": "ipython",
    "version": 3
   },
   "file_extension": ".py",
   "mimetype": "text/x-python",
   "name": "python",
   "nbconvert_exporter": "python",
   "pygments_lexer": "ipython3",
   "version": "3.10.8"
  }
 },
 "nbformat": 4,
 "nbformat_minor": 5
}
