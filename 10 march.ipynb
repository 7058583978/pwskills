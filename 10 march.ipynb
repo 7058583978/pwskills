{
 "cells": [
  {
   "cell_type": "code",
   "execution_count": null,
   "id": "228080b3-4de1-4e4a-9e70-d32b9e76da42",
   "metadata": {},
   "outputs": [],
   "source": [
    "Q1: What is Estimation Statistics? Explain point estimate and interval estimate."
   ]
  },
  {
   "cell_type": "code",
   "execution_count": null,
   "id": "08405503-2ace-4ce5-8ee5-2b3108cffaae",
   "metadata": {},
   "outputs": [],
   "source": [
    "ans]estimation statistics is nothing but process of calculating unknown population parameter \n",
    "using known observed value.\n",
    "1.point estimate:when above observed value is single value then it is called as point estimate\n",
    "2.interval estimate:when there is uncertainity about data then we use range of population to calculate unknown parameter"
   ]
  },
  {
   "cell_type": "code",
   "execution_count": null,
   "id": "4dea0e07-2a98-4403-84ef-c4cc6bd3c798",
   "metadata": {},
   "outputs": [],
   "source": [
    "Q2. Write a Python function to estimate the population mean using a sample mean and standard\n",
    "deviation."
   ]
  },
  {
   "cell_type": "code",
   "execution_count": null,
   "id": "8f6ddf43-e1a6-4b3d-b5b8-7b663e55098b",
   "metadata": {},
   "outputs": [],
   "source": [
    "ans]our population mean is equal to approximately sample mean"
   ]
  },
  {
   "cell_type": "code",
   "execution_count": null,
   "id": "04d38f81-37af-4ff6-b02c-330d1fecf5d4",
   "metadata": {},
   "outputs": [],
   "source": [
    "Q3: What is Hypothesis testing? Why is it used? State the importance of Hypothesis testing."
   ]
  },
  {
   "cell_type": "code",
   "execution_count": null,
   "id": "5ba9b755-5271-4c1e-9142-922880407d01",
   "metadata": {},
   "outputs": [],
   "source": [
    "ans]in inferential statistics our mainrole is to find conclusion hence for this we use hypothesis testing\n",
    "Hypothesis testing is used to assess the plausibility of a hypothesis by using sample data. \n",
    "The test provides evidence concerning the plausibility of the hypothesis, given the data.\n",
    "Statistical analysts test a hypothesis by measuring and examining a random sample of the population being analyzed.\n",
    "\n",
    "in this we use null hypothesis and alternate hypothesis"
   ]
  },
  {
   "cell_type": "code",
   "execution_count": null,
   "id": "3f7cfc8c-6924-4968-b505-7834e2b2139e",
   "metadata": {},
   "outputs": [],
   "source": [
    "Q4. Create a hypothesis that states whether the average weight of male college students is greater than\n",
    "the average weight of female college students."
   ]
  },
  {
   "cell_type": "code",
   "execution_count": null,
   "id": "e3593f90-0e00-410d-b055-a70cb84d9a18",
   "metadata": {},
   "outputs": [],
   "source": [
    "ans]in a college average weight of male 100 students is 60 kg with standard deviation of 2 kg and 100 female\n",
    "average weight is 55 kg with standard deviation of 1.5 kg but a professor took 40 female students and found out that \n",
    "average weight is 62 kg so test whether the professor is right or wrong"
   ]
  },
  {
   "cell_type": "code",
   "execution_count": null,
   "id": "72fcfad2-2779-4444-b3b3-6597f854381a",
   "metadata": {},
   "outputs": [],
   "source": [
    "Q5. Write a Python script to conduct a hypothesis test on the difference between two population means,\n",
    "given a sample from each population."
   ]
  },
  {
   "cell_type": "code",
   "execution_count": 3,
   "id": "8b7b294b-0837-4ef4-a3d1-06b1c15fc245",
   "metadata": {},
   "outputs": [
    {
     "name": "stdout",
     "output_type": "stream",
     "text": [
      "Data group 1 mean value: 16.25\n",
      "Data group 2 mean value: 20.85\n",
      "Data group 1 std value: 6.171507109288622\n",
      "Data group 2 std value: 4.452808102759426\n",
      "The P-value is:  0.012117171124028792\n",
      "We can reject the null hypothesis\n"
     ]
    }
   ],
   "source": [
    "from scipy.stats import ttest_ind  \n",
    "import numpy as np  \n",
    "  \n",
    "# Creating the data groups  \n",
    "data_group1 = np.array([12, 18, 12, 13, 15, 1, 7,  \n",
    "                        20, 21, 25, 19, 31, 21, 17,  \n",
    "                        17, 15, 19, 15, 12, 15])  \n",
    "data_group2 = np.array([23, 22, 24, 25, 21, 26, 21,  \n",
    "                        21, 25, 30, 24, 21, 23, 19,  \n",
    "                        14, 18, 14, 12, 19, 15])  \n",
    "  \n",
    "# Calculating the mean of the two data groups  \n",
    "mean1 = np.mean(data_group1)  \n",
    "mean2 = np.mean(data_group2)  \n",
    "  \n",
    "# Print mean values  \n",
    "print(\"Data group 1 mean value:\", mean1)  \n",
    "print(\"Data group 2 mean value:\", mean2)  \n",
    "  \n",
    "# Calculating standard deviation  \n",
    "std1 = np.std(data_group1)  \n",
    "std2 = np.std(data_group2)  \n",
    "  \n",
    "# Printing standard deviation values  \n",
    "print(\"Data group 1 std value:\", std1)  \n",
    "print(\"Data group 2 std value:\", std2)  \n",
    "  \n",
    "# Implementing the t-test  \n",
    "t_test,p_val = ttest_ind(data_group1, data_group2)  \n",
    "print(\"The P-value is: \", p_val)  \n",
    "  \n",
    "# taking the threshold value as 0.05 or 5%  \n",
    "if p_val < 0.05:      \n",
    "    print(\"We can reject the null hypothesis\")  \n",
    "else:  \n",
    "    print(\"We can accept the null hypothesis\")  "
   ]
  },
  {
   "cell_type": "code",
   "execution_count": null,
   "id": "54ee2f4a-c658-4bd4-a34c-ef57a499cc72",
   "metadata": {},
   "outputs": [],
   "source": [
    "Q6: What is a null and alternative hypothesis? Give some examples."
   ]
  },
  {
   "cell_type": "code",
   "execution_count": null,
   "id": "5dae99ef-539d-4f68-a243-9ecf72b62b19",
   "metadata": {},
   "outputs": [],
   "source": [
    "ans]null hypothesis is a first assumption on which we have carry the experiments denote as H0\n",
    "the alternate hypothesis is the opposite of null hypothesis denoted as H1\n",
    "\n",
    "eg : in a college average weight of male 100 students is 60 kg with standard deviation of 2 kg and 100 female\n",
    "average weight is 55 kg with standard deviation of 1.5 kg but a professor took 40 female students and found out that \n",
    "average weight is 62 kg so test whether the professor is right or wrong\n",
    "\n",
    "H0 = AVG WEIGHT OF FEMALE > MALE\n",
    "H1 = AVG WEIGHT OF MALE > FEMALE\n"
   ]
  },
  {
   "cell_type": "code",
   "execution_count": null,
   "id": "5f06e414-9a62-4235-b2aa-3afe8fc6372c",
   "metadata": {},
   "outputs": [],
   "source": [
    "Q7: Write down the steps involved in hypothesis testing."
   ]
  },
  {
   "cell_type": "code",
   "execution_count": null,
   "id": "a2c52a60-49c6-4876-a08f-1b1b332d96af",
   "metadata": {},
   "outputs": [],
   "source": [
    "ANS]\n",
    "1.first define the two hypothesis\n",
    "2.by using the giving data we can calculate required z score\n",
    "3.based on real values we can run z test\n",
    "4.if z test value fall outside our range then we reject the null hypothesis"
   ]
  },
  {
   "cell_type": "code",
   "execution_count": null,
   "id": "c0e28bc7-1878-4e1b-859c-6dacc581d2b7",
   "metadata": {},
   "outputs": [],
   "source": [
    "Q8. Define p-value and explain its significance in hypothesis testing."
   ]
  },
  {
   "cell_type": "code",
   "execution_count": null,
   "id": "11091c56-db3e-491f-b82d-61bb81f84db1",
   "metadata": {},
   "outputs": [],
   "source": [
    "ans]A p-value is a statistical measurement used to validate a hypothesis against observed data.\n",
    "A p-value measures the probability of obtaining the observed results, assuming that the null hypothesis is true. \n",
    "The lower the p-value, the greater the statistical significance of the observed difference."
   ]
  },
  {
   "cell_type": "code",
   "execution_count": null,
   "id": "245e3c11-13a8-4106-a4fd-e884721bae9d",
   "metadata": {},
   "outputs": [],
   "source": [
    "Q9. Generate a Student's t-distribution plot using Python's matplotlib library, with the degrees of freedom\n",
    "parameter set to 10."
   ]
  },
  {
   "cell_type": "code",
   "execution_count": null,
   "id": "24dd8d48-148c-4369-aab8-1378377ba575",
   "metadata": {},
   "outputs": [],
   "source": [
    "ans]\n",
    "t values = [0.000 0.700 0.879 1.093 1.372 1.812 2.228 2.764 3.169 4.144 4.587]"
   ]
  },
  {
   "cell_type": "code",
   "execution_count": 9,
   "id": "48348ed3-e65f-4513-b4bd-5ee9e31f5111",
   "metadata": {},
   "outputs": [],
   "source": [
    "import matplotlib.pyplot as bb\n",
    "import numpy as np\n",
    "values = [0.000, 0.700 ,0.879, 1.093, 1.372 ,1.812, 2.228 ,2.764 ,3.169, 4.144 ,4.587]"
   ]
  },
  {
   "cell_type": "code",
   "execution_count": 10,
   "id": "b31c1667-d503-4813-afa2-8411aa2c3db1",
   "metadata": {},
   "outputs": [
    {
     "data": {
      "text/plain": [
       "[<matplotlib.lines.Line2D at 0x7ff7eac031f0>]"
      ]
     },
     "execution_count": 10,
     "metadata": {},
     "output_type": "execute_result"
    },
    {
     "data": {
      "image/png": "[encoded data removed]",
      "text/plain": [
       "<Figure size 640x480 with 1 Axes>"
      ]
     },
     "metadata": {},
     "output_type": "display_data"
    }
   ],
   "source": [
    "bb.plot(values)"
   ]
  },
  {
   "cell_type": "code",
   "execution_count": null,
   "id": "e8e6aa14-ebd3-41d3-a065-f34a37ef1b43",
   "metadata": {},
   "outputs": [],
   "source": [
    "Q10. Write a Python program to calculate the two-sample t-test for independent samples, given two\n",
    "random samples of equal size and a null hypothesis that the population means are equal."
   ]
  },
  {
   "cell_type": "code",
   "execution_count": 17,
   "id": "ce7dc2a8-7e2e-465e-9595-6635f50d690c",
   "metadata": {},
   "outputs": [
    {
     "data": {
      "text/plain": [
       "(0.6531479162158739, 0.5219170107019715, 18.0)"
      ]
     },
     "execution_count": 17,
     "metadata": {},
     "output_type": "execute_result"
    }
   ],
   "source": [
    "from statsmodels.stats.weightstats import ttest_ind\n",
    "import numpy as np\n",
    "\n",
    " \n",
    "# Creating data groups\n",
    "data_group1 = np.array([160, 150, 160, 156.12,\n",
    "                        163.24,\n",
    "                        160.56, 168.56, 174.12,\n",
    "                        167.123, 165.12])\n",
    "data_group2 = np.array([157.97, 146, 140.2, 170.15,\n",
    "                        167.34, 176.123, 162.35,\n",
    "                        159.123, 169.43, 148.123])\n",
    " \n",
    "# Conducting two-sample ttest\n",
    "ttest_ind(data_group1, data_group2)"
   ]
  },
  {
   "cell_type": "code",
   "execution_count": null,
   "id": "1b235624-3246-4843-b8d7-ad041de6193c",
   "metadata": {},
   "outputs": [],
   "source": [
    "Q11: What is Student’s t distribution? When to use the t-Distribution."
   ]
  },
  {
   "cell_type": "code",
   "execution_count": null,
   "id": "1b2168b9-95bc-44a3-ac6e-ee1d8c936354",
   "metadata": {},
   "outputs": [],
   "source": [
    "ans]The t-distribution is used when data are approximately normally distributed, which means the data follow a bell\n",
    "shape but the population variance is unknown. The variance in a t-distribution is estimated based on the degrees of freedom \n",
    "of the data set (total number of observations minus 1)"
   ]
  },
  {
   "cell_type": "code",
   "execution_count": null,
   "id": "a223c87e-b5ae-43bd-ae45-98fdad5bf3eb",
   "metadata": {},
   "outputs": [],
   "source": [
    "Q12: What is t-statistic? State the formula for t-statistic."
   ]
  },
  {
   "cell_type": "code",
   "execution_count": null,
   "id": "a5523ebc-c3b0-4589-bac0-19d81d9dceb5",
   "metadata": {},
   "outputs": [],
   "source": [
    "In statistics, the t-statistic is the ratio of the departure of the estimated value of a parameter from \n",
    "its hypothesized value to its standard error. \n",
    "It is used in hypothesis testing via Students t-test. \n",
    "The t-statistic is used in a t-test to determine whether to support or reject the null hypothesis.\n",
    "It is very similar to the z-score but with the difference that t-statistic is used when the sample size is \n",
    "small or the population standard deviation is unknown.\n",
    "\n",
    "\n",
    "                            t = (X‾ - μ) / (s / √n)\n",
    "\n",
    "where X : is the sample mean, μ0 represents the population mean\n",
    "s : the standard deviation of the sample \n",
    "n : the size of the sample.\n"
   ]
  },
  {
   "cell_type": "code",
   "execution_count": null,
   "id": "fc756320-80c3-46f2-b590-1ba7a76ead53",
   "metadata": {},
   "outputs": [],
   "source": [
    "Q13. A coffee shop owner wants to estimate the average daily revenue for their shop. They take a random\n",
    "sample of 50 days and find the sample mean revenue to be $500 with a standard deviation of $50.\n",
    "Estimate the population mean revenue with a 95% confidence interval."
   ]
  },
  {
   "cell_type": "code",
   "execution_count": null,
   "id": "8092543d-2e57-4eb2-87b5-543cf26f98db",
   "metadata": {},
   "outputs": [],
   "source": [
    "ans]x = 500 n = 50 σ = 50 α = 0.95 significance value = 0.05\n",
    "\n",
    "z = 1.96 with 95 % confidence interval\n",
    "\n",
    "hence by putting in formula u = 513.96\n",
    "\n"
   ]
  },
  {
   "cell_type": "code",
   "execution_count": null,
   "id": "ad38a2bc-346b-4c71-883e-ff0a16123843",
   "metadata": {},
   "outputs": [],
   "source": [
    "Q14. A researcher hypothesizes that a new drug will decrease blood pressure by 10 mmHg. They conduct a\n",
    "clinical trial with 100 patients and find that the sample mean decrease in blood pressure is 8 mmHg with a\n",
    "standard deviation of 3 mmHg. Test the hypothesis with a significance level of 0.05."
   ]
  },
  {
   "cell_type": "code",
   "execution_count": null,
   "id": "50831beb-3b16-42fc-8634-0914af06d95e",
   "metadata": {},
   "outputs": [],
   "source": [
    "ans]null hypothesis = sample decreases the pressure by 8mm/hg\n",
    "z = 6.67\n",
    "we calculate p value = we know that for z = 6.67  p value = 0.00 \n",
    "which is less than 0.05 hence we needd to reject the hypothesis"
   ]
  },
  {
   "cell_type": "code",
   "execution_count": null,
   "id": "553cecaa-7b43-4441-a893-6157b2087718",
   "metadata": {},
   "outputs": [],
   "source": [
    "Q15. An electronics company produces a certain type of product with a mean weight of 5 pounds and a\n",
    "standard deviation of 0.5 pounds. A random sample of 25 products is taken, and the sample mean weight\n",
    "is found to be 4.8 pounds. Test the hypothesis that the true mean weight of the products is less than 5\n",
    "pounds with a significance level of 0.01."
   ]
  },
  {
   "cell_type": "code",
   "execution_count": null,
   "id": "0efff294-34b0-4cfe-878a-3203c2f7c5ec",
   "metadata": {},
   "outputs": [],
   "source": [
    "let us assume weight is 4.8 pounds\n",
    "z = 2 and for this p value is (1-0.9772) = 0.045 which is greater than 0.01 hence we should accept the hypothesis"
   ]
  },
  {
   "cell_type": "code",
   "execution_count": null,
   "id": "87c84d37-bd92-48d7-bf5a-9d33ba8c537d",
   "metadata": {},
   "outputs": [],
   "source": [
    "Q16. Two groups of students are given different study materials to prepare for a test. The first group (n1 =\n",
    "30) has a mean score of 80 with a standard deviation of 10, and the second group (n2 = 40) has a mean\n",
    "score of 75 with a standard deviation of 8. Test the hypothesis that the population means for the two\n",
    "groups are equal with a significance level of 0.01."
   ]
  },
  {
   "cell_type": "code",
   "execution_count": null,
   "id": "eb1455a4-da50-4338-b450-4f462a244b4f",
   "metadata": {},
   "outputs": [],
   "source": [
    "ans]h0 = u1 = u2\n",
    "    h1 = u1!= u2\n",
    "    using above data we calculate z value of the two mean data\n",
    "    \n",
    "    z = 1.62   \n",
    "    \n",
    "    for 0.01 significance level critical value = 2.36 so our z value fall in safe zone and we accept our null hypothesis"
   ]
  },
  {
   "cell_type": "code",
   "execution_count": 5,
   "id": "c1c7fb39-c17b-4803-94db-83704b5586fe",
   "metadata": {},
   "outputs": [
    {
     "data": {
      "text/plain": [
       "1.6233766233766234"
      ]
     },
     "execution_count": 5,
     "metadata": {},
     "output_type": "execute_result"
    }
   ],
   "source": [
    "5/(1.82+1.26)"
   ]
  },
  {
   "cell_type": "code",
   "execution_count": null,
   "id": "75ed3259-72fc-41b2-b60b-c625e234fd4b",
   "metadata": {},
   "outputs": [],
   "source": [
    "Q17. A marketing company wants to estimate the average number of ads watched by viewers during a TV\n",
    "program. They take a random sample of 50 viewers and find that the sample mean is 4 with a standard\n",
    "deviation of 1.5. Estimate the population mean with a 99% confidence interval."
   ]
  },
  {
   "cell_type": "code",
   "execution_count": null,
   "id": "fdb1db83-dd82-4df1-8921-0b0457179955",
   "metadata": {},
   "outputs": [],
   "source": [
    "ans]significance value = 0.01\n",
    "z value = 2.33\n",
    "by putting above data we get u = 4.49"
   ]
  }
 ],
 "metadata": {
  "kernelspec": {
   "display_name": "Python 3 (ipykernel)",
   "language": "python",
   "name": "python3"
  },
  "language_info": {
   "codemirror_mode": {
    "name": "ipython",
    "version": 3
   },
   "file_extension": ".py",
   "mimetype": "text/x-python",
   "name": "python",
   "nbconvert_exporter": "python",
   "pygments_lexer": "ipython3",
   "version": "3.10.8"
  }
 },
 "nbformat": 4,
 "nbformat_minor": 5
}
