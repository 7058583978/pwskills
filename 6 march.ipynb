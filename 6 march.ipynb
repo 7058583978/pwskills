{
 "cells": [
  {
   "cell_type": "code",
   "execution_count": null,
   "id": "028e5887-c68d-4964-9f11-7f170b33e52b",
   "metadata": {},
   "outputs": [],
   "source": [
    "Q1. What is Statistics?"
   ]
  },
  {
   "cell_type": "code",
   "execution_count": null,
   "id": "f9ebcc7f-f113-4150-8a4a-ac3c97814af0",
   "metadata": {},
   "outputs": [],
   "source": [
    "ans] statistics is a process or method or say science of identifying, analysing the data.\n",
    "data can be any type and based on that there are different methods of analyzing them.\n",
    "statistics is a very imporatant science for decision making in industry.\n",
    "\n",
    "data eg. : population of states in a country"
   ]
  },
  {
   "cell_type": "code",
   "execution_count": null,
   "id": "3ee1e486-e51a-4be0-9dcd-b044688eee57",
   "metadata": {},
   "outputs": [],
   "source": [
    "Q2. Define the different types of statistics and give an example of when each type might be used."
   ]
  },
  {
   "cell_type": "code",
   "execution_count": null,
   "id": "b79bd761-6463-4d51-95dc-88d1bddfc1fd",
   "metadata": {},
   "outputs": [],
   "source": [
    "ans] there are two types of statistics \n",
    "\n",
    "1.Descriptive statistics : it consist of all mathematical calculation and in that we calculate mean,mode,median,variation,dispersion etc.\n",
    "eg.first 10 natural numbers data = 1,2,3,4,5,6,7,8,9,10.\n",
    "mean of data = sum of numbers/total number == 55/10 = 5.5\n",
    "\n",
    "2.inferential statistics : in this statistics we conclude from results obtained in descriptive statistics\n",
    "eg : can you tell from above mean what will be the mean of first 100 natural numbers."
   ]
  },
  {
   "cell_type": "code",
   "execution_count": null,
   "id": "57140963-4f04-41ab-8199-407c8eaded37",
   "metadata": {},
   "outputs": [],
   "source": [
    "Q3. What are the different types of data and how do they differ from each other? Provide an example of\n",
    "each type of data."
   ]
  },
  {
   "cell_type": "code",
   "execution_count": null,
   "id": "c4913d23-f5b3-4b7e-aa90-5a4b7a8f36e8",
   "metadata": {},
   "outputs": [],
   "source": [
    "ans]there are mainly two types of data : 1]quantitative 2]qualitative\n",
    "1.quantitative data : here all the data are in numeric form so we can do all mathematical operation\n",
    "a.discrete : here data are in whole numbers only eg : member of parliament , number of people in a society\n",
    "b.continuous : here data can be anything (+ve,-ve) eg : temp of room , heights of students\n",
    "\n",
    "2.qualitative data : in this type data are in categorical form and devided into two types\n",
    "a.nominal :type of data where there is no rank between categories so we cannot compare two nominal data eg.blood group,gender,mob number\n",
    "b.ordinal :in this we can compare the data with each other eg.feedback from users : good,better,best,bad,worse \n"
   ]
  },
  {
   "cell_type": "code",
   "execution_count": null,
   "id": "c394b5ef-7266-465b-b68d-b427b9a8cc24",
   "metadata": {},
   "outputs": [],
   "source": [
    "Q4. Categorise the following datasets with respect to quantitative and qualitative data types:\n",
    "(i) Grading in exam: A+, A, B+, B, C+, C, D, E\n",
    "(ii) Colour of mangoes: yellow, green, orange, red\n",
    "(iii) Height data of a class: [178.9, 179, 179.5, 176, 177.2, 178.3, 175.8,...]\n",
    "(iv) Number of mangoes exported by a farm: [500, 600, 478, 672, ...]"
   ]
  },
  {
   "cell_type": "code",
   "execution_count": null,
   "id": "0e6fa5a3-83d8-47b4-8655-02bfcc0b1d0b",
   "metadata": {},
   "outputs": [],
   "source": [
    "ans :\n",
    "(i) Grading in exam: A+, A, B+, B, C+, C, D, E = ordinal qualitative\n",
    "(ii) Colour of mangoes: yellow, green, orange, red = nominal qualitative\n",
    "(iii) Height data of a class: [178.9, 179, 179.5, 176, 177.2, 178.3, 175.8,...] = continuous quantitative \n",
    "(iv) Number of mangoes exported by a farm: [500, 600, 478, 672, ...] = descrete quantitative"
   ]
  },
  {
   "cell_type": "code",
   "execution_count": null,
   "id": "63bb71f1-5233-4b46-907a-b310ff7525e1",
   "metadata": {},
   "outputs": [],
   "source": [
    "Q5. Explain the concept of levels of measurement and give an example of a variable for each level."
   ]
  },
  {
   "cell_type": "code",
   "execution_count": null,
   "id": "058ea445-3df1-4f54-bba7-3f2be6e242f1",
   "metadata": {},
   "outputs": [],
   "source": [
    "ans]while analysing the data it is very important to know how we are comparing the data or what is the way of measuring\n",
    "the data based on that there are four methods\n",
    "1.nominal scale data :in this we consider qualitative data , ranking of data cannot be given \n",
    "eg.favourite programming language : c, c++ , python , java so in this we cannot compare the two language so fall under nominal scale category\n",
    "\n",
    "2.ordinal scale data :in this qualitative data is analyzed but hrey can be ranked\n",
    "eg.product rating : 5 star , 3 star , 2 star\n",
    "\n",
    "3.interval scale data :this is a quantitative type where we can compare two data , ranking is important and difference between data\n",
    "can be found out but ratio of two data cannot be analyzed.also starting point is not defined it can be less than zero.\n",
    "\n",
    "4.ratio scale data :this is a perfect data scale here we can compare data,rati can be found out and also has a starting point = 0\n",
    "eg : marks obtained in exam : 50,60,80,95,90"
   ]
  },
  {
   "cell_type": "code",
   "execution_count": null,
   "id": "f8682349-90c3-43c7-a3b8-0fccafa184b4",
   "metadata": {},
   "outputs": [],
   "source": [
    "Q6. Why is it important to understand the level of measurement when analyzing data? Provide an\n",
    "example to illustrate your answer."
   ]
  },
  {
   "cell_type": "code",
   "execution_count": null,
   "id": "1a07c63c-7780-4ed2-9a65-5755cd3f5e78",
   "metadata": {},
   "outputs": [],
   "source": [
    "ans]level of measurement is important because it allow us to define our output suppose we need to find the ranking and\n",
    "we want to compare the data then here nominal scale cannot be used if used we cannot be able to get our required result\n",
    "so in order to analyse the data we need to specify the level of measurement\n",
    "\n",
    "eg : favourite colour "
   ]
  },
  {
   "cell_type": "code",
   "execution_count": 11,
   "id": "5791736a-00f6-493f-a391-67885bed8fd1",
   "metadata": {},
   "outputs": [
    {
     "data": {
      "text/html": [
       "<div>\n",
       "<style scoped>\n",
       "    .dataframe tbody tr th:only-of-type {\n",
       "        vertical-align: middle;\n",
       "    }\n",
       "\n",
       "    .dataframe tbody tr th {\n",
       "        vertical-align: top;\n",
       "    }\n",
       "\n",
       "    .dataframe thead th {\n",
       "        text-align: right;\n",
       "    }\n",
       "</style>\n",
       "<table border=\"1\" class=\"dataframe\">\n",
       "  <thead>\n",
       "    <tr style=\"text-align: right;\">\n",
       "      <th></th>\n",
       "      <th>name</th>\n",
       "      <th>colour</th>\n",
       "    </tr>\n",
       "  </thead>\n",
       "  <tbody>\n",
       "    <tr>\n",
       "      <th>0</th>\n",
       "      <td>A</td>\n",
       "      <td>RED</td>\n",
       "    </tr>\n",
       "    <tr>\n",
       "      <th>1</th>\n",
       "      <td>B</td>\n",
       "      <td>BLUE</td>\n",
       "    </tr>\n",
       "    <tr>\n",
       "      <th>2</th>\n",
       "      <td>C</td>\n",
       "      <td>WHITE</td>\n",
       "    </tr>\n",
       "    <tr>\n",
       "      <th>3</th>\n",
       "      <td>D</td>\n",
       "      <td>GREEN</td>\n",
       "    </tr>\n",
       "  </tbody>\n",
       "</table>\n",
       "</div>"
      ],
      "text/plain": [
       "  name colour\n",
       "0    A    RED\n",
       "1    B   BLUE\n",
       "2    C  WHITE\n",
       "3    D  GREEN"
      ]
     },
     "execution_count": 11,
     "metadata": {},
     "output_type": "execute_result"
    }
   ],
   "source": [
    "import pandas as pd\n",
    "df = pd.DataFrame({\"name\":[\"A\",\"B\",\"C\",\"D\"],\"colour\":[\"RED\",\"BLUE\",\"WHITE\",\"GREEN\"]})\n",
    "df"
   ]
  },
  {
   "cell_type": "code",
   "execution_count": null,
   "id": "c5e014c4-25b7-4f1a-9057-abdd1bdd9d9a",
   "metadata": {},
   "outputs": [],
   "source": [
    "here we cannot use ratio scale data because we cannot compare two colour"
   ]
  },
  {
   "cell_type": "code",
   "execution_count": null,
   "id": "b63ad49e-8882-498e-9a03-677270241f1e",
   "metadata": {},
   "outputs": [],
   "source": [
    "Q7. How nominal data type is different from ordinal data type."
   ]
  },
  {
   "cell_type": "code",
   "execution_count": null,
   "id": "b936405a-f906-438f-a35f-b7721162cac2",
   "metadata": {},
   "outputs": [],
   "source": [
    "a.nominal :type of data where there is no rank between categories so we cannot compare two nominal data eg.blood group,gender,mob number\n",
    "b.ordinal :in this we can compare the data with each other eg.feedback from users : good,better,best,bad,worse "
   ]
  },
  {
   "cell_type": "code",
   "execution_count": null,
   "id": "c261ebf5-a6c7-4679-afea-21978c45632a",
   "metadata": {},
   "outputs": [],
   "source": [
    "Q8. Which type of plot can be used to display data in terms of range?"
   ]
  },
  {
   "cell_type": "code",
   "execution_count": null,
   "id": "73a32e8e-61f3-4cda-8c4b-167b3f7a36a9",
   "metadata": {},
   "outputs": [],
   "source": [
    "ans]BAR CHART is used in terms of data given in range"
   ]
  },
  {
   "cell_type": "code",
   "execution_count": null,
   "id": "053584af-b583-4b57-bb44-04047b707084",
   "metadata": {},
   "outputs": [],
   "source": [
    "Q9. Describe the difference between descriptive and inferential statistics. Give an example of each\n",
    "type of statistics and explain how they are used."
   ]
  },
  {
   "cell_type": "code",
   "execution_count": null,
   "id": "75f0c2a4-4b8c-4028-ae67-00a3fd347af4",
   "metadata": {},
   "outputs": [],
   "source": [
    "1.Descriptive statistics : it consist of all mathematical calculation and in that we calculate mean,mode,median,variation,dispersion etc.\n",
    "eg.first 10 natural numbers data = 1,2,3,4,5,6,7,8,9,10.\n",
    "mean of data = sum of numbers/total number == 55/10 = 5.5\n",
    "\n",
    "2.inferential statistics : in this statistics we conclude from results obtained in descriptive statistics\n",
    "eg : can you tell from above mean what will be the mean of first 100 natural numbers."
   ]
  },
  {
   "cell_type": "code",
   "execution_count": null,
   "id": "96e8d8bd-2131-4abb-8fb9-9afc38e30854",
   "metadata": {},
   "outputs": [],
   "source": [
    "Q10. What are some common measures of central tendency and variability used in statistics? Explain\n",
    "how each measure can be used to describe a dataset."
   ]
  },
  {
   "cell_type": "code",
   "execution_count": null,
   "id": "6e10a988-2bbf-4b5d-b3ba-2f484d0b02ea",
   "metadata": {},
   "outputs": [],
   "source": [
    "ans]there are three types of measure of central tendancy\n",
    "1.mean:to calcutate the average of data given eg. data = [10,20,30,40,50,60,70,80,90,100] mean = 550/10 = 55\n",
    "\n",
    "2.mode : to identify the maximum frequency occuring data.\n",
    "mode helps us to analyse the categorical data where we can fill the missing data \n",
    "\n",
    "3.median : median defines the data which devide given dataset into two equal parts.\n",
    "we can use median in case any outliers are present in dataset.\n",
    "\n",
    "there are two types of variabillity\n",
    "1.standard deviation : it gives the index which helps us to find the next element in the datasaet or how the each element is differ from each other\n",
    "2.variance : it gives the spread of the data along the axis if variance is greater then it means that data spread too much"
   ]
  }
 ],
 "metadata": {
  "kernelspec": {
   "display_name": "Python 3 (ipykernel)",
   "language": "python",
   "name": "python3"
  },
  "language_info": {
   "codemirror_mode": {
    "name": "ipython",
    "version": 3
   },
   "file_extension": ".py",
   "mimetype": "text/x-python",
   "name": "python",
   "nbconvert_exporter": "python",
   "pygments_lexer": "ipython3",
   "version": "3.10.8"
  }
 },
 "nbformat": 4,
 "nbformat_minor": 5
}
