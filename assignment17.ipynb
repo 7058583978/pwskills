{
 "cells": [
  {
   "cell_type": "code",
   "execution_count": null,
   "id": "5320e8e3-9d30-4aa1-b241-66f12bf66d5f",
   "metadata": {},
   "outputs": [],
   "source": [
    "Q1. What is an API? Give an example, where an API is used in real life."
   ]
  },
  {
   "cell_type": "code",
   "execution_count": null,
   "id": "ba182f81-e53a-4726-987c-e9fc91288ef0",
   "metadata": {},
   "outputs": [],
   "source": [
    "ans]API stands for application programming interface which is used to communicate between two\n",
    "heteregenous systems\n",
    "\n",
    "ex. in case of flipcart shopping app when we search for any product then it searches \n",
    "among its databases which is written in another language and give us the result here interface of flipcart is written\n",
    "in another languagw and databases must be another language but using api we are able to communicate.\n",
    "\n"
   ]
  },
  {
   "cell_type": "code",
   "execution_count": null,
   "id": "70d17d2d-703d-465f-b577-213d05581896",
   "metadata": {},
   "outputs": [],
   "source": [
    "Q2. Give advantages and disadvantages of using API."
   ]
  },
  {
   "cell_type": "code",
   "execution_count": null,
   "id": "5704183e-2e03-48b6-a2cc-58dfcc2f037e",
   "metadata": {},
   "outputs": [],
   "source": [
    "ans] \n",
    "\n",
    "advantages :\n",
    "1.it supports multiple services without any trouble\n",
    "2.it allows more uniform data distribution\n",
    "3.it provides easy access to user \n",
    "\n",
    "disadvantages :\n",
    "1.api is gateway so if it is compromised then our data becomes vulnurable\n",
    "2.in order to modify the data we need to understand developers logic , sometimes its get tedious\n",
    "3.threat from hacker"
   ]
  },
  {
   "cell_type": "code",
   "execution_count": null,
   "id": "d6ae5ce4-202d-4a1a-aa29-04a5f206fb42",
   "metadata": {},
   "outputs": [],
   "source": [
    "Q3. What is a Web API? Differentiate between API and Web API."
   ]
  },
  {
   "cell_type": "code",
   "execution_count": null,
   "id": "df92fbff-aa82-4334-9dfd-0a60f51e9a01",
   "metadata": {},
   "outputs": [],
   "source": [
    "ans]web api is interface or subset of api where put,get,post are done through web.\n",
    "\n",
    "\n",
    "API :\n",
    "    \n",
    "1.it uses extended markup language\n",
    "2.api is used to communicate between two language\n",
    "\n",
    "WEB API :\n",
    "\n",
    "1.it uses tcp or http protocol\n",
    "2.here data access is done through website\n",
    "3.web api is subset of api\n"
   ]
  },
  {
   "cell_type": "code",
   "execution_count": null,
   "id": "ae670b11-70fe-46c3-88b9-0ba44f2a0361",
   "metadata": {},
   "outputs": [],
   "source": [
    "Q4. Explain REST and SOAP Architecture. Mention shortcomings of SOAP."
   ]
  },
  {
   "cell_type": "code",
   "execution_count": null,
   "id": "4e2dcd63-b1cc-4538-bf5f-b5513d501c71",
   "metadata": {},
   "outputs": [],
   "source": [
    "ans]\n",
    "\n",
    "REST : REPRESENTIAL STATE TRANSFER\n",
    "rest is a protocol which is used to data transfer in web services which is stored in hardware.it is\n",
    "very easy to implement,it uses http protocol\n",
    "\n",
    "SOAP : SIMPLE OBJECT ACCESS PROTOCOL\n",
    "soap is a service which is used to communicate between two language na duses xml and wsdl.it is very complex\n",
    "to implement\n",
    "\n",
    "shortcomings of SOAP :\n",
    "    \n",
    "1.complex to implement\n",
    "2.does not provide heavy transaction\n",
    "3.it stores data so sometimes user may get into trouble\n",
    "    \n",
    "\n"
   ]
  },
  {
   "cell_type": "code",
   "execution_count": null,
   "id": "048a7224-eb2e-4aa9-b90a-07eb78c944bc",
   "metadata": {},
   "outputs": [],
   "source": [
    "Q5. Differentiate between REST and SOAP."
   ]
  },
  {
   "cell_type": "code",
   "execution_count": null,
   "id": "53b538c0-5a4a-458f-bbf8-bba60069fc9f",
   "metadata": {},
   "outputs": [],
   "source": [
    "ans]\n",
    "\n",
    "REST : REPRESENTIAL STATE TRANSFER\n",
    "\n",
    "1.rest is architecture where we use http protocol to transfer data over web\n",
    "2.it is very flexible and simple to do operation in development\n",
    "3.support large amount of user without any bug means large scalable\n",
    "4.it is easy to use and implement\n",
    "5. it is stateless but we have function to catch data\n",
    "6.it provides heavy transaction very easily\n",
    "7.not so secure so we can use where data leak is not an issue\n",
    " \n",
    "SOAP : SIMPLE OBJECT ACCESS PROTOCOL\n",
    "\n",
    "1.it uses XML ans WSDL \n",
    "2.soap is not easy to implement\n",
    "3.it provide functions to store data\n",
    "4.soap does not provide or support heavy transaction\n",
    "5.it is not easy to implement but very easy to use\n",
    "6.soap is more secure than rest"
   ]
  }
 ],
 "metadata": {
  "kernelspec": {
   "display_name": "Python 3 (ipykernel)",
   "language": "python",
   "name": "python3"
  },
  "language_info": {
   "codemirror_mode": {
    "name": "ipython",
    "version": 3
   },
   "file_extension": ".py",
   "mimetype": "text/x-python",
   "name": "python",
   "nbconvert_exporter": "python",
   "pygments_lexer": "ipython3",
   "version": "3.10.8"
  }
 },
 "nbformat": 4,
 "nbformat_minor": 5
}
