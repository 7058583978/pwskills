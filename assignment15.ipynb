{
 "cells": [
  {
   "cell_type": "code",
   "execution_count": null,
   "id": "c6b95b60-3ecb-4b90-9c88-baaa16a51d1c",
   "metadata": {},
   "outputs": [],
   "source": [
    "Q1. What is a database? Differentiate between SQL and NoSQL databases."
   ]
  },
  {
   "cell_type": "code",
   "execution_count": null,
   "id": "238ff5ce-67e8-40b7-8ec2-7fde4d9d9ee7",
   "metadata": {},
   "outputs": [],
   "source": [
    "ans] databases is set of information containes as a set or say collected at a point so that they are \n",
    "easily accesible or redable or we can easily update those data.\n",
    "\n",
    "SQL : 1.sql databases are relational means we can find relation among themselves\n",
    "      2.sql databases are found in  structured manner\n",
    "      3.sql databases are table based\n",
    "      4.operation in sql is better for row transaction\n",
    "    \n",
    "NoSQL : 1. they are nonrelational\n",
    "        2. nosql databases are not arranged in structured manner\n",
    "        3. nosql databses are key pair , graph etc\n",
    "        4. operation is better for nonstructured like documents or jason\n",
    " \n"
   ]
  },
  {
   "cell_type": "code",
   "execution_count": null,
   "id": "a67431db-c99f-45b9-b199-cb82bc149479",
   "metadata": {},
   "outputs": [],
   "source": [
    "Q2. What is DDL? Explain why CREATE, DROP, ALTER, and TRUNCATE are used with an example."
   ]
  },
  {
   "cell_type": "code",
   "execution_count": null,
   "id": "bf3b22ad-2884-4f67-b0e0-9e3a428b7afe",
   "metadata": {},
   "outputs": [],
   "source": [
    "ans] DDL is a data defining language which is used to modify the structure of objects\n",
    "     using some syntaxes\n",
    "    \n",
    "1.CREATE:this is used to create a database or objest followed by his name for example create a table named \n",
    "'timetable'\n",
    "\n",
    "2.DROP:this is used to delete a complete object from a database for example in timetable database as we have \n",
    "created there is a column named 'break' and we want to delete that entire column then we can use drop\n",
    "\n",
    "3.ALTER:this is used to change the structure of object\n",
    "    \n",
    "4.TRUNCATE:this is used to delete all the data in objects for ex.if we want to keep the column \n",
    "name as it is but we need to update data so insted of deleting each row we can go for truncate operation\n"
   ]
  },
  {
   "cell_type": "code",
   "execution_count": null,
   "id": "a7a12be4-b665-44a8-bf0b-734ad0b65ddc",
   "metadata": {},
   "outputs": [],
   "source": [
    "Q3. What is DML? Explain INSERT, UPDATE, and DELETE with an example."
   ]
  },
  {
   "cell_type": "code",
   "execution_count": null,
   "id": "4e4394d8-6c17-443e-b947-051933fb00c5",
   "metadata": {},
   "outputs": [],
   "source": [
    "ans]DML: dml is data manipulation language..\n",
    "\n",
    "1.INSERT : It is used to insert data into a table.\n",
    "2.UPDATE: It is used to update existing data within a table.\n",
    "3.DELETE : It is used to delete records from a database table."
   ]
  },
  {
   "cell_type": "code",
   "execution_count": null,
   "id": "cc4d467f-b114-4bf4-a6f7-f782a4bab7fd",
   "metadata": {},
   "outputs": [],
   "source": [
    "Q4. What is DQL? Explain SELECT with an example."
   ]
  },
  {
   "cell_type": "code",
   "execution_count": null,
   "id": "88cf50ba-882a-4f49-a1ce-94c0f160fca3",
   "metadata": {},
   "outputs": [],
   "source": [
    "ans]DQL dql is data query language\n",
    "\n",
    "1.SELECT: It is used to retrieve data from the database."
   ]
  },
  {
   "cell_type": "code",
   "execution_count": null,
   "id": "d5ef8e9f",
   "metadata": {},
   "outputs": [],
   "source": [
    "Q5. Explain Primary Key and Foreign Key."
   ]
  },
  {
   "cell_type": "code",
   "execution_count": null,
   "id": "2d3be878-06b1-4f8b-a7cb-09bf4fa150a0",
   "metadata": {},
   "outputs": [],
   "source": [
    "ans]primary key : it is a key which is used to ensure that data in the specific column is\n",
    "unique\n",
    "\n",
    "foreign key : it is a column that references a primary key or a column from another table"
   ]
  },
  {
   "cell_type": "code",
   "execution_count": null,
   "id": "6501ea36-987d-4081-896d-1f3ba554bb64",
   "metadata": {},
   "outputs": [],
   "source": [
    "Q6. Write a python code to connect MySQL to python. Explain the cursor() and execute() method."
   ]
  },
  {
   "cell_type": "code",
   "execution_count": null,
   "id": "f35eecaf-d82f-4042-989b-7c708668a6e1",
   "metadata": {},
   "outputs": [],
   "source": [
    "import mysql.connector\n",
    "mydb = mysql.connector.connect(\n",
    "  host=\"localhost\",\n",
    "  user=\"abc\",\n",
    "  password=\"password\"\n",
    ")\n",
    "mycursor = mydb.cursor()\n",
    "\n",
    "cursor() : cursor is pointer which move around our database in case we need to insert a data\n",
    "or update the data\n",
    "\n",
    "execute() : execute is a function which requires to perform a operation like \"create table\""
   ]
  },
  {
   "cell_type": "code",
   "execution_count": null,
   "id": "f7a99f89-ff30-4cf0-a1d2-9e5afb1f6c16",
   "metadata": {},
   "outputs": [],
   "source": [
    "Q7. Give the order of execution of SQL clauses in an SQL query."
   ]
  },
  {
   "cell_type": "code",
   "execution_count": null,
   "id": "0573b6ac-4b3d-469c-96be-82243cd8ef96",
   "metadata": {},
   "outputs": [],
   "source": [
    "1. FROM/JOIN: The FROM or JOIN clauses are executed first to determine the data of interest.\n",
    "2. WHERE: The WHERE clause is executed to filter out records that do not meet the constraints.\n",
    "3. GROUP BY: The GROUP BY clause is executed to group the data based on the values in one or more columns.\n",
    "4. HAVING: The HAVING clause is executed to remove the created grouped records that don’t meet the constraints.\n",
    "5. SELECT: The SELECT clause is executed to derive all desired columns and expressions.\n",
    "6. ORDER BY: The ORDER BY clause is executed to sort the derived values in ascending or descending order.\n",
    "7. LIMIT/OFFSET: Finally, the LIMIT or OFFSET clauses are executed to keep or skip a specified number of rows."
   ]
  }
 ],
 "metadata": {
  "kernelspec": {
   "display_name": "Python 3 (ipykernel)",
   "language": "python",
   "name": "python3"
  },
  "language_info": {
   "codemirror_mode": {
    "name": "ipython",
    "version": 3
   },
   "file_extension": ".py",
   "mimetype": "text/x-python",
   "name": "python",
   "nbconvert_exporter": "python",
   "pygments_lexer": "ipython3",
   "version": "3.10.8"
  }
 },
 "nbformat": 4,
 "nbformat_minor": 5
}
